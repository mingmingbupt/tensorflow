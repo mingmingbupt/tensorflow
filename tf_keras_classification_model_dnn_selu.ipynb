{
  "nbformat": 4,
  "nbformat_minor": 0,
  "metadata": {
    "kernelspec": {
      "display_name": "Python 3",
      "language": "python",
      "name": "python3"
    },
    "language_info": {
      "codemirror_mode": {
        "name": "ipython",
        "version": 3
      },
      "file_extension": ".py",
      "mimetype": "text/x-python",
      "name": "python",
      "nbconvert_exporter": "python",
      "pygments_lexer": "ipython3",
      "version": "3.7.3"
    },
    "colab": {
      "name": "tf_keras_classification_model-dnn-selu.ipynb",
      "provenance": [],
      "include_colab_link": true
    }
  },
  "cells": [
    {
      "cell_type": "markdown",
      "metadata": {
        "id": "view-in-github",
        "colab_type": "text"
      },
      "source": [
        "<a href=\"https://colab.research.google.com/github/mingmingbupt/tensorflow/blob/master/tf_keras_classification_model_dnn_selu.ipynb\" target=\"_parent\"><img src=\"https://colab.research.google.com/assets/colab-badge.svg\" alt=\"Open In Colab\"/></a>"
      ]
    },
    {
      "cell_type": "code",
      "metadata": {
        "id": "dlo2Jm0xRpdp",
        "colab_type": "code",
        "colab": {
          "base_uri": "https://localhost:8080/",
          "height": 209
        },
        "outputId": "ca6eedc8-1e9c-461f-f4ba-19d4a8273aa4"
      },
      "source": [
        "import matplotlib as mpl\n",
        "import matplotlib.pyplot as plt\n",
        "%matplotlib inline\n",
        "import numpy as np\n",
        "import sklearn\n",
        "import pandas as pd\n",
        "import os\n",
        "import sys\n",
        "import time\n",
        "import tensorflow as tf\n",
        "\n",
        "from tensorflow import keras\n",
        "\n",
        "print(tf.__version__)\n",
        "print(sys.version_info)\n",
        "for module in mpl, np, pd, sklearn, tf, keras:\n",
        "    print(module.__name__, module.__version__)\n"
      ],
      "execution_count": 1,
      "outputs": [
        {
          "output_type": "display_data",
          "data": {
            "text/html": [
              "<p style=\"color: red;\">\n",
              "The default version of TensorFlow in Colab will soon switch to TensorFlow 2.x.<br>\n",
              "We recommend you <a href=\"https://www.tensorflow.org/guide/migrate\" target=\"_blank\">upgrade</a> now \n",
              "or ensure your notebook will continue to use TensorFlow 1.x via the <code>%tensorflow_version 1.x</code> magic:\n",
              "<a href=\"https://colab.research.google.com/notebooks/tensorflow_version.ipynb\" target=\"_blank\">more info</a>.</p>\n"
            ],
            "text/plain": [
              "<IPython.core.display.HTML object>"
            ]
          },
          "metadata": {
            "tags": []
          }
        },
        {
          "output_type": "stream",
          "text": [
            "1.15.0\n",
            "sys.version_info(major=3, minor=6, micro=9, releaselevel='final', serial=0)\n",
            "matplotlib 3.2.0\n",
            "numpy 1.18.2\n",
            "pandas 0.25.3\n",
            "sklearn 0.22.2.post1\n",
            "tensorflow 1.15.0\n",
            "tensorflow.python.keras.api._v1.keras 2.2.4-tf\n"
          ],
          "name": "stdout"
        }
      ]
    },
    {
      "cell_type": "code",
      "metadata": {
        "id": "iA4XqIDJRpdu",
        "colab_type": "code",
        "colab": {
          "base_uri": "https://localhost:8080/",
          "height": 215
        },
        "outputId": "0f12ddd4-b4e8-4143-d475-faefbf2cdfcb"
      },
      "source": [
        "fashion_mnist = keras.datasets.fashion_mnist\n",
        "(x_train_all, y_train_all), (x_test, y_test) = fashion_mnist.load_data()\n",
        "x_valid, x_train = x_train_all[:5000], x_train_all[5000:]\n",
        "y_valid, y_train = y_train_all[:5000], y_train_all[5000:]\n",
        "\n",
        "print(x_valid.shape, y_valid.shape)\n",
        "print(x_train.shape, y_train.shape)\n",
        "print(x_test.shape, y_test.shape)"
      ],
      "execution_count": 2,
      "outputs": [
        {
          "output_type": "stream",
          "text": [
            "Downloading data from https://storage.googleapis.com/tensorflow/tf-keras-datasets/train-labels-idx1-ubyte.gz\n",
            "32768/29515 [=================================] - 0s 0us/step\n",
            "Downloading data from https://storage.googleapis.com/tensorflow/tf-keras-datasets/train-images-idx3-ubyte.gz\n",
            "26427392/26421880 [==============================] - 0s 0us/step\n",
            "Downloading data from https://storage.googleapis.com/tensorflow/tf-keras-datasets/t10k-labels-idx1-ubyte.gz\n",
            "8192/5148 [===============================================] - 0s 0us/step\n",
            "Downloading data from https://storage.googleapis.com/tensorflow/tf-keras-datasets/t10k-images-idx3-ubyte.gz\n",
            "4423680/4422102 [==============================] - 0s 0us/step\n",
            "(5000, 28, 28) (5000,)\n",
            "(55000, 28, 28) (55000,)\n",
            "(10000, 28, 28) (10000,)\n"
          ],
          "name": "stdout"
        }
      ]
    },
    {
      "cell_type": "code",
      "metadata": {
        "id": "7RfqanoSRpdy",
        "colab_type": "code",
        "colab": {}
      },
      "source": [
        "# x = (x - u) / std\n",
        "\n",
        "from sklearn.preprocessing import StandardScaler\n",
        "\n",
        "scaler = StandardScaler()\n",
        "# x_train: [None, 28, 28] -> [None, 784]\n",
        "x_train_scaled = scaler.fit_transform(\n",
        "    x_train.astype(np.float32).reshape(-1, 1)).reshape(-1, 28, 28)\n",
        "x_valid_scaled = scaler.transform(\n",
        "    x_valid.astype(np.float32).reshape(-1, 1)).reshape(-1, 28, 28)\n",
        "x_test_scaled = scaler.transform(\n",
        "    x_test.astype(np.float32).reshape(-1, 1)).reshape(-1, 28, 28)\n"
      ],
      "execution_count": 0,
      "outputs": []
    },
    {
      "cell_type": "code",
      "metadata": {
        "id": "yFNO5koIRpd0",
        "colab_type": "code",
        "colab": {
          "base_uri": "https://localhost:8080/",
          "height": 145
        },
        "outputId": "2dbdcc62-a4a3-41a5-e1eb-69d743c004fa"
      },
      "source": [
        "# tf.keras.models.Sequential()\n",
        "\n",
        "model = keras.models.Sequential()\n",
        "model.add(keras.layers.Flatten(input_shape=[28, 28]))\n",
        "for _ in range(20):\n",
        "    model.add(keras.layers.Dense(100, activation=\"selu\"))\n",
        "model.add(keras.layers.Dense(10, activation=\"softmax\"))\n",
        "\n",
        "model.compile(loss=\"sparse_categorical_crossentropy\",\n",
        "              optimizer = \"sgd\",\n",
        "              metrics = [\"accuracy\"])"
      ],
      "execution_count": 4,
      "outputs": [
        {
          "output_type": "stream",
          "text": [
            "WARNING:tensorflow:From /tensorflow-1.15.0/python3.6/tensorflow_core/python/ops/resource_variable_ops.py:1630: calling BaseResourceVariable.__init__ (from tensorflow.python.ops.resource_variable_ops) with constraint is deprecated and will be removed in a future version.\n",
            "Instructions for updating:\n",
            "If using Keras pass *_constraint arguments to layers.\n",
            "WARNING:tensorflow:From /tensorflow-1.15.0/python3.6/tensorflow_core/python/keras/backend.py:4277: where (from tensorflow.python.ops.array_ops) is deprecated and will be removed in a future version.\n",
            "Instructions for updating:\n",
            "Use tf.where in 2.0, which has the same broadcast rule as np.where\n"
          ],
          "name": "stdout"
        }
      ]
    },
    {
      "cell_type": "code",
      "metadata": {
        "id": "qRlbxLuaRpd3",
        "colab_type": "code",
        "colab": {
          "base_uri": "https://localhost:8080/",
          "height": 953
        },
        "outputId": "eb2e365e-0ed3-4efb-f697-9b7495ba1b98"
      },
      "source": [
        "model.summary()"
      ],
      "execution_count": 6,
      "outputs": [
        {
          "output_type": "stream",
          "text": [
            "Model: \"sequential\"\n",
            "_________________________________________________________________\n",
            "Layer (type)                 Output Shape              Param #   \n",
            "=================================================================\n",
            "flatten (Flatten)            (None, 784)               0         \n",
            "_________________________________________________________________\n",
            "dense (Dense)                (None, 100)               78500     \n",
            "_________________________________________________________________\n",
            "dense_1 (Dense)              (None, 100)               10100     \n",
            "_________________________________________________________________\n",
            "dense_2 (Dense)              (None, 100)               10100     \n",
            "_________________________________________________________________\n",
            "dense_3 (Dense)              (None, 100)               10100     \n",
            "_________________________________________________________________\n",
            "dense_4 (Dense)              (None, 100)               10100     \n",
            "_________________________________________________________________\n",
            "dense_5 (Dense)              (None, 100)               10100     \n",
            "_________________________________________________________________\n",
            "dense_6 (Dense)              (None, 100)               10100     \n",
            "_________________________________________________________________\n",
            "dense_7 (Dense)              (None, 100)               10100     \n",
            "_________________________________________________________________\n",
            "dense_8 (Dense)              (None, 100)               10100     \n",
            "_________________________________________________________________\n",
            "dense_9 (Dense)              (None, 100)               10100     \n",
            "_________________________________________________________________\n",
            "dense_10 (Dense)             (None, 100)               10100     \n",
            "_________________________________________________________________\n",
            "dense_11 (Dense)             (None, 100)               10100     \n",
            "_________________________________________________________________\n",
            "dense_12 (Dense)             (None, 100)               10100     \n",
            "_________________________________________________________________\n",
            "dense_13 (Dense)             (None, 100)               10100     \n",
            "_________________________________________________________________\n",
            "dense_14 (Dense)             (None, 100)               10100     \n",
            "_________________________________________________________________\n",
            "dense_15 (Dense)             (None, 100)               10100     \n",
            "_________________________________________________________________\n",
            "dense_16 (Dense)             (None, 100)               10100     \n",
            "_________________________________________________________________\n",
            "dense_17 (Dense)             (None, 100)               10100     \n",
            "_________________________________________________________________\n",
            "dense_18 (Dense)             (None, 100)               10100     \n",
            "_________________________________________________________________\n",
            "dense_19 (Dense)             (None, 100)               10100     \n",
            "_________________________________________________________________\n",
            "dense_20 (Dense)             (None, 10)                1010      \n",
            "=================================================================\n",
            "Total params: 271,410\n",
            "Trainable params: 271,410\n",
            "Non-trainable params: 0\n",
            "_________________________________________________________________\n"
          ],
          "name": "stdout"
        }
      ]
    },
    {
      "cell_type": "code",
      "metadata": {
        "id": "gPwjdq7zRpd6",
        "colab_type": "code",
        "colab": {
          "base_uri": "https://localhost:8080/",
          "height": 395
        },
        "outputId": "9a7c0bf2-9b7d-491e-8dff-443fab584575"
      },
      "source": [
        "# Tensorboard, earlystopping, ModelCheckpoint\n",
        "logdir = './dnn-selu-callbacks'\n",
        "if not os.path.exists(logdir):\n",
        "    os.mkdir(logdir)\n",
        "output_model_file = os.path.join(logdir,\n",
        "                                 \"fashion_mnist_model.h5\")\n",
        "\n",
        "callbacks = [\n",
        "    keras.callbacks.TensorBoard(logdir),\n",
        "    keras.callbacks.ModelCheckpoint(output_model_file,\n",
        "                                    save_best_only = True),\n",
        "    keras.callbacks.EarlyStopping(patience=5, min_delta=1e-3),\n",
        "]\n",
        "history = model.fit(x_train_scaled, y_train, epochs=10,\n",
        "                    validation_data=(x_valid_scaled, y_valid),\n",
        "                    callbacks = callbacks)"
      ],
      "execution_count": 7,
      "outputs": [
        {
          "output_type": "stream",
          "text": [
            "Train on 55000 samples, validate on 5000 samples\n",
            "Epoch 1/10\n",
            "55000/55000 [==============================] - 11s 206us/sample - loss: 0.5531 - acc: 0.8004 - val_loss: 0.4811 - val_acc: 0.8230\n",
            "Epoch 2/10\n",
            "55000/55000 [==============================] - 10s 180us/sample - loss: 0.4117 - acc: 0.8488 - val_loss: 0.3934 - val_acc: 0.8548\n",
            "Epoch 3/10\n",
            "55000/55000 [==============================] - 10s 178us/sample - loss: 0.3614 - acc: 0.8666 - val_loss: 0.3641 - val_acc: 0.8688\n",
            "Epoch 4/10\n",
            "55000/55000 [==============================] - 10s 180us/sample - loss: 0.3357 - acc: 0.8760 - val_loss: 0.3544 - val_acc: 0.8766\n",
            "Epoch 5/10\n",
            "55000/55000 [==============================] - 10s 181us/sample - loss: 0.3140 - acc: 0.8839 - val_loss: 0.3451 - val_acc: 0.8788\n",
            "Epoch 6/10\n",
            "55000/55000 [==============================] - 10s 178us/sample - loss: 0.2988 - acc: 0.8885 - val_loss: 0.3404 - val_acc: 0.8784\n",
            "Epoch 7/10\n",
            "55000/55000 [==============================] - 10s 178us/sample - loss: 0.2845 - acc: 0.8938 - val_loss: 0.3556 - val_acc: 0.8718\n",
            "Epoch 8/10\n",
            "55000/55000 [==============================] - 10s 183us/sample - loss: 0.2728 - acc: 0.8976 - val_loss: 0.3488 - val_acc: 0.8794\n",
            "Epoch 9/10\n",
            "55000/55000 [==============================] - 10s 178us/sample - loss: 0.2633 - acc: 0.9003 - val_loss: 0.3423 - val_acc: 0.8806\n",
            "Epoch 10/10\n",
            "55000/55000 [==============================] - 10s 177us/sample - loss: 0.2540 - acc: 0.9053 - val_loss: 0.3373 - val_acc: 0.8822\n"
          ],
          "name": "stdout"
        }
      ]
    },
    {
      "cell_type": "code",
      "metadata": {
        "id": "pq1bgeUtRpd9",
        "colab_type": "code",
        "colab": {
          "base_uri": "https://localhost:8080/",
          "height": 324
        },
        "outputId": "74e3c8ac-1eae-427f-d3ba-ca2e240c81a3"
      },
      "source": [
        "def plot_learning_curves(history):\n",
        "    pd.DataFrame(history.history).plot(figsize=(8, 5))\n",
        "    plt.grid(True)\n",
        "    plt.gca().set_ylim(0, 1)\n",
        "    plt.show()\n",
        "\n",
        "plot_learning_curves(history)\n",
        "\n",
        "# 1. 参数众多，训练不充分\n",
        "# 2. 梯度消失 -> 链式法则 -> 复合函数f(g(x))\n",
        "#    selu缓解梯度消失"
      ],
      "execution_count": 8,
      "outputs": [
        {
          "output_type": "display_data",
          "data": {
            "image/png": "[encoded data removed]",
            "text/plain": [
              "<Figure size 576x360 with 1 Axes>"
            ]
          },
          "metadata": {
            "tags": []
          }
        }
      ]
    },
    {
      "cell_type": "code",
      "metadata": {
        "id": "qhwgwLQgRpeB",
        "colab_type": "code",
        "colab": {
          "base_uri": "https://localhost:8080/",
          "height": 53
        },
        "outputId": "a6847568-d099-48d1-9332-00f1c820fe23"
      },
      "source": [
        "model.evaluate(x_test_scaled, y_test)"
      ],
      "execution_count": 9,
      "outputs": [
        {
          "output_type": "stream",
          "text": [
            "10000/10000 [==============================] - 1s 75us/sample - loss: 0.3798 - acc: 0.8684\n"
          ],
          "name": "stdout"
        },
        {
          "output_type": "execute_result",
          "data": {
            "text/plain": [
              "[0.3798385335445404, 0.8684]"
            ]
          },
          "metadata": {
            "tags": []
          },
          "execution_count": 9
        }
      ]
    },
    {
      "cell_type": "code",
      "metadata": {
        "id": "deouNJgERpeE",
        "colab_type": "code",
        "colab": {}
      },
      "source": [
        ""
      ],
      "execution_count": 0,
      "outputs": []
    }
  ]
}