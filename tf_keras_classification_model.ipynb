{
  "nbformat": 4,
  "nbformat_minor": 0,
  "metadata": {
    "kernelspec": {
      "display_name": "Python 3",
      "language": "python",
      "name": "python3"
    },
    "language_info": {
      "codemirror_mode": {
        "name": "ipython",
        "version": 3
      },
      "file_extension": ".py",
      "mimetype": "text/x-python",
      "name": "python",
      "nbconvert_exporter": "python",
      "pygments_lexer": "ipython3",
      "version": "3.7.3"
    },
    "colab": {
      "name": "tf_keras_classification_model.ipynb",
      "provenance": [],
      "include_colab_link": true
    }
  },
  "cells": [
    {
      "cell_type": "markdown",
      "metadata": {
        "id": "view-in-github",
        "colab_type": "text"
      },
      "source": [
        "<a href=\"https://colab.research.google.com/github/mingmingbupt/tensorflow/blob/master/tf_keras_classification_model.ipynb\" target=\"_parent\"><img src=\"https://colab.research.google.com/assets/colab-badge.svg\" alt=\"Open In Colab\"/></a>"
      ]
    },
    {
      "cell_type": "code",
      "metadata": {
        "id": "vqF0AaZwk2Hm",
        "colab_type": "code",
        "outputId": "4a7ca793-6d53-4f87-d4b8-87491a83d5f5",
        "colab": {
          "base_uri": "https://localhost:8080/",
          "height": 179
        }
      },
      "source": [
        "%tensorflow_version 2.x\n",
        "\n",
        "import matplotlib as mpl\n",
        "import matplotlib.pyplot as plt\n",
        "%matplotlib inline\n",
        "import numpy as np\n",
        "import sklearn\n",
        "import pandas as pd\n",
        "import os\n",
        "import sys\n",
        "import time\n",
        "import tensorflow as tf\n",
        "\n",
        "from tensorflow import keras\n",
        "# import keras 使用的是keras, 如果像切换，改库就行了\n",
        "\n",
        "print(tf.__version__)\n",
        "print(sys.version_info)\n",
        "for module in mpl, np, pd, sklearn, tf, keras:\n",
        "    print(module.__name__, module.__version__)\n"
      ],
      "execution_count": 1,
      "outputs": [
        {
          "output_type": "stream",
          "text": [
            "TensorFlow 2.x selected.\n",
            "2.1.0\n",
            "sys.version_info(major=3, minor=6, micro=9, releaselevel='final', serial=0)\n",
            "matplotlib 3.2.0\n",
            "numpy 1.18.2\n",
            "pandas 0.25.3\n",
            "sklearn 0.22.2.post1\n",
            "tensorflow 2.1.0\n",
            "tensorflow_core.python.keras.api._v2.keras 2.2.4-tf\n"
          ],
          "name": "stdout"
        }
      ]
    },
    {
      "cell_type": "code",
      "metadata": {
        "id": "FPGCwh-Lk2Hs",
        "colab_type": "code",
        "outputId": "4f32f1c2-4d54-44c0-ef75-905e5ec334e0",
        "colab": {
          "base_uri": "https://localhost:8080/",
          "height": 71
        }
      },
      "source": [
        "fashion_mnist = keras.datasets.fashion_mnist\n",
        "(x_train_all, y_train_all), (x_test, y_test) = fashion_mnist.load_data()\n",
        "x_valid, x_train = x_train_all[:5000], x_train_all[5000:]\n",
        "y_valid, y_train = y_train_all[:5000], y_train_all[5000:]\n",
        "\n",
        "print(x_valid.shape, y_valid.shape)\n",
        "print(x_train.shape, y_train.shape)\n",
        "print(x_test.shape, y_test.shape)"
      ],
      "execution_count": 3,
      "outputs": [
        {
          "output_type": "stream",
          "text": [
            "(5000, 28, 28) (5000,)\n",
            "(55000, 28, 28) (55000,)\n",
            "(10000, 28, 28) (10000,)\n"
          ],
          "name": "stdout"
        }
      ]
    },
    {
      "cell_type": "code",
      "metadata": {
        "id": "TLbFiXBhk2Hv",
        "colab_type": "code",
        "outputId": "32f2e659-747f-4a3b-87d4-a420b39a6aa0",
        "colab": {
          "base_uri": "https://localhost:8080/",
          "height": 265
        }
      },
      "source": [
        "def show_single_image(img_arr):\n",
        "    plt.imshow(img_arr, cmap=\"binary\") #cmap黑白图谱\n",
        "    plt.show()\n",
        "\n",
        "show_single_image(x_train[0])"
      ],
      "execution_count": 5,
      "outputs": [
        {
          "output_type": "display_data",
          "data": {
            "image/png": "[encoded data removed]",
            "text/plain": [
              "<Figure size 432x288 with 1 Axes>"
            ]
          },
          "metadata": {
            "tags": []
          }
        }
      ]
    },
    {
      "cell_type": "code",
      "metadata": {
        "id": "TpNv8ZkZk2Hy",
        "colab_type": "code",
        "colab": {
          "base_uri": "https://localhost:8080/",
          "height": 298
        },
        "outputId": "56d77f42-3a01-4fa7-f53b-5a96fe4948c3"
      },
      "source": [
        "def show_imgs(n_rows, n_cols, x_data, y_data, class_names): #n行 n列\n",
        "    assert len(x_data) == len(y_data)\n",
        "    assert n_rows * n_cols < len(x_data)\n",
        "    plt.figure(figsize = (n_cols * 1.4, n_rows * 1.6))\n",
        "    for row in range(n_rows):\n",
        "        for col in range(n_cols):\n",
        "            index = n_cols * row + col \n",
        "            plt.subplot(n_rows, n_cols, index+1)\n",
        "            plt.imshow(x_data[index], cmap=\"binary\",\n",
        "                       interpolation = 'nearest')\n",
        "            plt.axis('off') #坐标系关掉\n",
        "            plt.title(class_names[y_data[index]]) #配置title\n",
        "    plt.show()\n",
        "\n",
        "class_names = ['T-shirt', 'Trouser', 'Pullover', 'Dress',\n",
        "               'Coat', 'Sandal', 'Shirt', 'Sneaker',\n",
        "               'Bag', 'Ankle boot']\n",
        "show_imgs(3, 5, x_train, y_train, class_names)\n"
      ],
      "execution_count": 6,
      "outputs": [
        {
          "output_type": "display_data",
          "data": {
            "image/png": "[encoded data removed]",
            "text/plain": [
              "<Figure size 504x345.6 with 15 Axes>"
            ]
          },
          "metadata": {
            "tags": []
          }
        }
      ]
    },
    {
      "cell_type": "code",
      "metadata": {
        "id": "LbfetvSV9SUv",
        "colab_type": "code",
        "outputId": "032a8516-ecb4-4f78-cd41-fa209923931a",
        "colab": {
          "base_uri": "https://localhost:8080/",
          "height": 35
        }
      },
      "source": [
        "y_train"
      ],
      "execution_count": 8,
      "outputs": [
        {
          "output_type": "execute_result",
          "data": {
            "text/plain": [
              "array([4, 0, 7, ..., 3, 0, 5], dtype=uint8)"
            ]
          },
          "metadata": {
            "tags": []
          },
          "execution_count": 8
        }
      ]
    },
    {
      "cell_type": "code",
      "metadata": {
        "id": "IGMR9Awlk2H1",
        "colab_type": "code",
        "colab": {}
      },
      "source": [
        "# tf.keras.models.Sequential()\n",
        "#他就是把一些列的层次呢 堆叠起来\n",
        "\n",
        "\"\"\"\n",
        "首先创建要给Sequential对象\n",
        "model = keras.models.Sequential()\n",
        "然后添加层次，首先添加输入层\n",
        "这一层做的呢就是，我把输入的28*28的图片flatten展平，把28*28的二维矩阵展平为一个28*28的一个一维向量，\n",
        "model.add(keras.layers.Flatten(input_shape=[28, 28]))\n",
        "再加入一个新的一层，全连接层，单元数为300，激活函数为relu\n",
        "model.add(keras.layers.Dense(300, activation=\"relu\"))\n",
        "再添加一个全连接层，这一层把单元数设成100\n",
        "model.add(keras.layers.Dense(100, activation=\"relu\"))\n",
        "输出为一个长度为10的输出\n",
        "model.add(keras.layers.Dense(10, activation=\"softmax\"))\n",
        "\"\"\"\n",
        "\n",
        "\n",
        "\n",
        "model = keras.models.Sequential([\n",
        "    keras.layers.Flatten(input_shape=[28, 28]),\n",
        "    keras.layers.Dense(300, activation='relu'),\n",
        "    keras.layers.Dense(100, activation='relu'),\n",
        "    keras.layers.Dense(10, activation='softmax')\n",
        "])\n",
        "\n",
        "# relu: y = max(0, x)\n",
        "# softmax: 将向量变成概率分布. x = [x1, x2, x3], \n",
        "#          y = [e^x1/sum, e^x2/sum, e^x3/sum], sum = e^x1 + e^x2 + e^x3\n",
        "\n",
        "# reason for sparse: y->index. y->one_hot->[] \n",
        "# 我们使用sparse的原因是 y是一个长度等于样本数的一个向量，那么对于每个样本来说呢，只是一个值，也就是说y只是一个index值\n",
        "# y_train\n",
        "# array([4, 0, 7, ..., 3, 0, 5], dtype=uint8). 这里每个样本的y是一个数，如果想要变成向量，需要one_hot\n",
        "# 如果y已经是一个向量了，就用categorical_crossentropy，如果y只是一个数，我们就用sparse_categorical_crossentropy\n",
        "model.compile(loss=\"sparse_categorical_crossentropy\", #稀疏类别交叉熵的损失函数\n",
        "              optimizer = \"sgd\",\n",
        "              metrics = [\"accuracy\"])"
      ],
      "execution_count": 0,
      "outputs": []
    },
    {
      "cell_type": "code",
      "metadata": {
        "id": "jGQcTfLGk2H3",
        "colab_type": "code",
        "outputId": "2a33391d-83d1-4420-cd94-9f5da5d898e6",
        "colab": {}
      },
      "source": [
        "model.layers"
      ],
      "execution_count": 0,
      "outputs": [
        {
          "output_type": "execute_result",
          "data": {
            "text/plain": [
              "[<tensorflow.python.keras.layers.core.Flatten at 0x12d20ed68>,\n",
              " <tensorflow.python.keras.layers.core.Dense at 0x12f5d45f8>,\n",
              " <tensorflow.python.keras.layers.core.Dense at 0x12f65c7f0>,\n",
              " <tensorflow.python.keras.layers.core.Dense at 0x12f6250b8>]"
            ]
          },
          "metadata": {
            "tags": []
          },
          "execution_count": 7
        }
      ]
    },
    {
      "cell_type": "code",
      "metadata": {
        "id": "qgtoGKyfk2H8",
        "colab_type": "code",
        "outputId": "dfa38fd3-aa3e-4a1f-e7e1-d4d95ccb6086",
        "colab": {}
      },
      "source": [
        "model.summary()"
      ],
      "execution_count": 0,
      "outputs": [
        {
          "output_type": "stream",
          "text": [
            "Model: \"sequential_2\"\n",
            "_________________________________________________________________\n",
            "Layer (type)                 Output Shape              Param #   \n",
            "=================================================================\n",
            "flatten_1 (Flatten)          (None, 784)               0         \n",
            "_________________________________________________________________\n",
            "dense_3 (Dense)              (None, 300)               235500    \n",
            "_________________________________________________________________\n",
            "dense_4 (Dense)              (None, 100)               30100     \n",
            "_________________________________________________________________\n",
            "dense_5 (Dense)              (None, 10)                1010      \n",
            "=================================================================\n",
            "Total params: 266,610\n",
            "Trainable params: 266,610\n",
            "Non-trainable params: 0\n",
            "_________________________________________________________________\n"
          ],
          "name": "stdout"
        }
      ]
    },
    {
      "cell_type": "code",
      "metadata": {
        "id": "SEN5nMoXk2H_",
        "colab_type": "code",
        "colab": {}
      },
      "source": [
        "# [None, 784] * W + b -> [None, 300] W.shape [784, 300], b = [300]"
      ],
      "execution_count": 0,
      "outputs": []
    },
    {
      "cell_type": "code",
      "metadata": {
        "id": "cQTkPRHIk2IB",
        "colab_type": "code",
        "outputId": "a0a0b54c-e336-476d-def4-f7819e59f574",
        "colab": {}
      },
      "source": [
        "history = model.fit(x_train, y_train, epochs=10,\n",
        "                    validation_data=(x_valid, y_valid))"
      ],
      "execution_count": 0,
      "outputs": [
        {
          "output_type": "stream",
          "text": [
            "Train on 55000 samples, validate on 5000 samples\n",
            "Epoch 1/10\n",
            "55000/55000 [==============================] - 6s 113us/sample - loss: 1.9139 - accuracy: 0.7326 - val_loss: 0.6136 - val_accuracy: 0.7792\n",
            "Epoch 2/10\n",
            "55000/55000 [==============================] - 6s 111us/sample - loss: 0.5238 - accuracy: 0.8138 - val_loss: 0.5287 - val_accuracy: 0.8222\n",
            "Epoch 3/10\n",
            "55000/55000 [==============================] - 7s 133us/sample - loss: 0.4594 - accuracy: 0.8328 - val_loss: 0.5024 - val_accuracy: 0.8256\n",
            "Epoch 4/10\n",
            "55000/55000 [==============================] - 7s 122us/sample - loss: 0.4248 - accuracy: 0.8452 - val_loss: 0.4976 - val_accuracy: 0.8286\n",
            "Epoch 5/10\n",
            "55000/55000 [==============================] - 6s 110us/sample - loss: 0.4006 - accuracy: 0.8526 - val_loss: 0.4797 - val_accuracy: 0.8378\n",
            "Epoch 6/10\n",
            "55000/55000 [==============================] - 6s 110us/sample - loss: 0.3833 - accuracy: 0.8591 - val_loss: 0.4424 - val_accuracy: 0.8486\n",
            "Epoch 7/10\n",
            "55000/55000 [==============================] - 6s 118us/sample - loss: 0.3687 - accuracy: 0.8642 - val_loss: 0.4254 - val_accuracy: 0.8558\n",
            "Epoch 8/10\n",
            "55000/55000 [==============================] - 6s 114us/sample - loss: 0.3568 - accuracy: 0.8681 - val_loss: 0.4346 - val_accuracy: 0.8522\n",
            "Epoch 9/10\n",
            "55000/55000 [==============================] - 6s 115us/sample - loss: 0.3458 - accuracy: 0.8727 - val_loss: 0.4304 - val_accuracy: 0.8542\n",
            "Epoch 10/10\n",
            "55000/55000 [==============================] - 6s 114us/sample - loss: 0.3366 - accuracy: 0.8759 - val_loss: 0.4235 - val_accuracy: 0.8570\n"
          ],
          "name": "stdout"
        }
      ]
    },
    {
      "cell_type": "code",
      "metadata": {
        "id": "H3k67bzXk2IE",
        "colab_type": "code",
        "outputId": "52f4282f-7b49-4cb0-e12f-8ed81b234813",
        "colab": {}
      },
      "source": [
        "type(history)"
      ],
      "execution_count": 0,
      "outputs": [
        {
          "output_type": "execute_result",
          "data": {
            "text/plain": [
              "tensorflow.python.keras.callbacks.History"
            ]
          },
          "metadata": {
            "tags": []
          },
          "execution_count": 12
        }
      ]
    },
    {
      "cell_type": "code",
      "metadata": {
        "id": "PTipwiGWk2IH",
        "colab_type": "code",
        "outputId": "5be06f07-04a6-478f-9a2b-56b6f8c24e76",
        "colab": {}
      },
      "source": [
        "history.history"
      ],
      "execution_count": 0,
      "outputs": [
        {
          "output_type": "execute_result",
          "data": {
            "text/plain": [
              "{'loss': [4.599787224023992,\n",
              "  0.7365305235429244,\n",
              "  0.6529739934054288,\n",
              "  0.5826076885786924,\n",
              "  0.5450057860287753,\n",
              "  0.5157407429044897,\n",
              "  0.4949760743748058,\n",
              "  0.4669956823869185,\n",
              "  0.4407323715166612,\n",
              "  0.4275606528585607],\n",
              " 'accuracy': [0.6249273,\n",
              "  0.7049818,\n",
              "  0.7367091,\n",
              "  0.7716182,\n",
              "  0.7889636,\n",
              "  0.80014545,\n",
              "  0.80945456,\n",
              "  0.82485455,\n",
              "  0.8361818,\n",
              "  0.8401818],\n",
              " 'val_loss': [0.7757820220947266,\n",
              "  0.6484994589209556,\n",
              "  0.6377250983238221,\n",
              "  0.5946815532684326,\n",
              "  0.5697053789138794,\n",
              "  0.5346372863769532,\n",
              "  0.5146976159095764,\n",
              "  0.5634896508932113,\n",
              "  0.4952246562957764,\n",
              "  0.4846856918811798],\n",
              " 'val_accuracy': [0.7062,\n",
              "  0.7338,\n",
              "  0.745,\n",
              "  0.774,\n",
              "  0.7828,\n",
              "  0.8024,\n",
              "  0.8114,\n",
              "  0.8094,\n",
              "  0.8264,\n",
              "  0.8342]}"
            ]
          },
          "metadata": {
            "tags": []
          },
          "execution_count": 13
        }
      ]
    },
    {
      "cell_type": "code",
      "metadata": {
        "id": "et8MRXaUk2IK",
        "colab_type": "code",
        "outputId": "610e67ee-de30-475f-83f6-dd7c10500303",
        "colab": {}
      },
      "source": [
        "def plot_learning_curves(history):\n",
        "    pd.DataFrame(history.history).plot(figsize=(8, 5))\n",
        "    plt.grid(True)\n",
        "    plt.gca().set_ylim(0, 1)\n",
        "    plt.show()\n",
        "\n",
        "plot_learning_curves(history)"
      ],
      "execution_count": 0,
      "outputs": [
        {
          "output_type": "display_data",
          "data": {
            "image/png": "[encoded data removed]",
            "text/plain": [
              "<Figure size 576x360 with 1 Axes>"
            ]
          },
          "metadata": {
            "tags": [],
            "needs_background": "light"
          }
        }
      ]
    },
    {
      "cell_type": "code",
      "metadata": {
        "id": "aEK6kQXLk2IM",
        "colab_type": "code",
        "outputId": "f665d55b-314b-4c53-e360-e4521aa9b608",
        "colab": {}
      },
      "source": [
        "plot_learning_curves(history)"
      ],
      "execution_count": 0,
      "outputs": [
        {
          "output_type": "display_data",
          "data": {
            "image/png": "[encoded data removed]",
            "text/plain": [
              "<Figure size 576x360 with 1 Axes>"
            ]
          },
          "metadata": {
            "tags": [],
            "needs_background": "light"
          }
        }
      ]
    },
    {
      "cell_type": "code",
      "metadata": {
        "id": "xfS_Fo-Jk2IO",
        "colab_type": "code",
        "outputId": "d8e79872-07fe-4419-e48f-48aefd06ff9d",
        "colab": {}
      },
      "source": [
        "model.evaluate(x_test, y_test)"
      ],
      "execution_count": 0,
      "outputs": [
        {
          "output_type": "stream",
          "text": [
            "10000/10000 [==============================] - 1s 96us/sample - loss: 0.4376 - accuracy: 0.8532\n"
          ],
          "name": "stdout"
        },
        {
          "output_type": "execute_result",
          "data": {
            "text/plain": [
              "[0.43761702871322633, 0.8532]"
            ]
          },
          "metadata": {
            "tags": []
          },
          "execution_count": 19
        }
      ]
    },
    {
      "cell_type": "code",
      "metadata": {
        "id": "h3A_9R7Gk2IR",
        "colab_type": "code",
        "colab": {}
      },
      "source": [
        ""
      ],
      "execution_count": 0,
      "outputs": []
    }
  ]
}