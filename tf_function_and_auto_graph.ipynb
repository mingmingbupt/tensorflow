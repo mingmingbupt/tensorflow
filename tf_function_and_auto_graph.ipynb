{
  "nbformat": 4,
  "nbformat_minor": 0,
  "metadata": {
    "kernelspec": {
      "display_name": "Python 3",
      "language": "python",
      "name": "python3"
    },
    "language_info": {
      "codemirror_mode": {
        "name": "ipython",
        "version": 3
      },
      "file_extension": ".py",
      "mimetype": "text/x-python",
      "name": "python",
      "nbconvert_exporter": "python",
      "pygments_lexer": "ipython3",
      "version": "3.7.3"
    },
    "colab": {
      "name": "tf_function_and_auto_graph.ipynb",
      "provenance": [],
      "include_colab_link": true
    }
  },
  "cells": [
    {
      "cell_type": "markdown",
      "metadata": {
        "id": "view-in-github",
        "colab_type": "text"
      },
      "source": [
        "<a href=\"https://colab.research.google.com/github/mingmingbupt/tensorflow/blob/master/tf_function_and_auto_graph.ipynb\" target=\"_parent\"><img src=\"https://colab.research.google.com/assets/colab-badge.svg\" alt=\"Open In Colab\"/></a>"
      ]
    },
    {
      "cell_type": "code",
      "metadata": {
        "id": "ElnotE8o8lTc",
        "colab_type": "code",
        "outputId": "adff75bd-3641-4f66-f57a-46a4c5122b1e",
        "colab": {
          "base_uri": "https://localhost:8080/",
          "height": 161
        }
      },
      "source": [
        "import matplotlib as mpl\n",
        "import matplotlib.pyplot as plt\n",
        "%matplotlib inline\n",
        "import numpy as np\n",
        "import sklearn\n",
        "import pandas as pd\n",
        "import os\n",
        "import sys\n",
        "import time\n",
        "import tensorflow as tf\n",
        "\n",
        "from tensorflow import keras\n",
        "\n",
        "print(tf.__version__)\n",
        "print(sys.version_info)\n",
        "for module in mpl, np, pd, sklearn, tf, keras:\n",
        "    print(module.__name__, module.__version__)"
      ],
      "execution_count": 2,
      "outputs": [
        {
          "output_type": "stream",
          "text": [
            "2.2.0-rc1\n",
            "sys.version_info(major=3, minor=6, micro=9, releaselevel='final', serial=0)\n",
            "matplotlib 3.2.1\n",
            "numpy 1.18.2\n",
            "pandas 0.25.3\n",
            "sklearn 0.22.2.post1\n",
            "tensorflow 2.2.0-rc1\n",
            "tensorflow.python.keras.api._v2.keras 2.2.4-tf\n"
          ],
          "name": "stdout"
        }
      ]
    },
    {
      "cell_type": "code",
      "metadata": {
        "id": "IrED0xYx8lTg",
        "colab_type": "code",
        "outputId": "e029220c-de1a-4f56-e2a6-5dbc2c718cd1",
        "colab": {
          "base_uri": "https://localhost:8080/",
          "height": 107
        }
      },
      "source": [
        "# tf.function and auto-graph.\n",
        "# 下面演示tf.function的使用\n",
        "def scaled_elu(z, scale=1.0, alpha=1.0):\n",
        "    # 这个函数做的是\n",
        "    # z >= 0 ? scale * z : scale * alpha * tf.nn.elu(z)\n",
        "    is_positive = tf.greater_equal(z, 0.0)\n",
        "    return scale * tf.where(is_positive, z, alpha * tf.nn.elu(z)) #tensorflow里使用where实现三元表达式\n",
        "    # 我们在这个函数里面使用tensorflow里面定义函数的原因是，如果我们使用python定义的函数，\n",
        "    # 当输入是向量的时候，不能做到对向量里面的每个值都进行操作\n",
        "    # 所以这个函数使用了tf内置的一些函数，当然了这个函数的整体实现呢，还是使用了python语法\n",
        "    # 所以说这还是一个python的函数\n",
        "\n",
        "# 我们用一下这个函数\n",
        "print(scaled_elu(tf.constant(-3.))) # 输入一个标量，就对这个值做操作\n",
        "print(scaled_elu(tf.constant([-3., -2.5]))) #输入一个向量,就会对向量里的每个值都进行操作\n",
        "# 输出上面的结果我们可以看到\n",
        "\n",
        "#现在我们用tf.function 把这个python函数scaled_elu呢，转化为tensorflow里图实现的函数\n",
        "#我们使用tf.function，把这个函数名传进去就可以了\n",
        "#非常简单，我只需要一行代码，就可以把python实现的代码，转化为tensorflow里图实现的函数\n",
        "scaled_elu_tf = tf.function(scaled_elu) \n",
        "\n",
        "#测下这个函数\n",
        "print(scaled_elu_tf(tf.constant(-3.))) #输入标量\n",
        "print(scaled_elu_tf(tf.constant([-3., -2.5]))) #输入向量\n",
        "#我们可以看出跟上面的结果是一样的\n",
        "\n",
        "#对于转化后的函数呢，我们可以通过scaled_elu_tf.python_function来找回它的python函数有\n",
        "print(scaled_elu_tf.python_function is scaled_elu)\n",
        "\n",
        "#我们转化为图结构以后呢，有什么优势\n",
        "#快， tensorflow图结构里面有很多的优化，拿一个普通的python函数转为tensorflow图结构函数以后呢，\n",
        "#    速度上会有一些优势\n"
      ],
      "execution_count": 0,
      "outputs": [
        {
          "output_type": "stream",
          "text": [
            "tf.Tensor(-0.95021296, shape=(), dtype=float32)\n",
            "tf.Tensor([-0.95021296 -0.917915  ], shape=(2,), dtype=float32)\n",
            "tf.Tensor(-0.95021296, shape=(), dtype=float32)\n",
            "tf.Tensor([-0.95021296 -0.917915  ], shape=(2,), dtype=float32)\n",
            "True\n"
          ],
          "name": "stdout"
        }
      ]
    },
    {
      "cell_type": "code",
      "metadata": {
        "id": "q78w_y1H8lTj",
        "colab_type": "code",
        "outputId": "5156b50b-aecf-4fe5-c933-2d3470c28616",
        "colab": {
          "base_uri": "https://localhost:8080/",
          "height": 53
        }
      },
      "source": [
        "%timeit scaled_elu(tf.random.normal((1000, 1000))) #我们测一下普通的函数\n",
        "%timeit scaled_elu_tf(tf.random.normal((1000, 1000))) #我们使用图实现的函数\n",
        "#如果有GPU的话，它的加速比会更大"
      ],
      "execution_count": 0,
      "outputs": [
        {
          "output_type": "stream",
          "text": [
            "10 loops, best of 3: 26.5 ms per loop\n",
            "10 loops, best of 3: 24.2 ms per loop\n"
          ],
          "name": "stdout"
        }
      ]
    },
    {
      "cell_type": "code",
      "metadata": {
        "id": "iG4R9WkM8lTl",
        "colab_type": "code",
        "outputId": "9d2df76c-2950-4f4e-9a7a-84a4d57b3eda",
        "colab": {
          "base_uri": "https://localhost:8080/",
          "height": 35
        }
      },
      "source": [
        "# 上面呢，我们使用了tf.function来显式的把python函数转化为tensorflow里面的图\n",
        "# 那么有没有别的方式呢，就是下面的方法，可以除了tf.function直接调用之外呢，\n",
        "# 可以去用它的annotation注解去把一个function转成图\n",
        "\n",
        "# 1 + 1/2 + 1/2^2 + ... + 1/2^n\n",
        "@tf.function # 如何把converge_to_2这个函数变成tensorflow里面的图呢，很简单，在最顶上加上@tf.function，加上一个标注，用这种方式也可以把普通函数转为tensorflow里面的图\n",
        "def converge_to_2(n_iters): # 这里定义一个函数叫converge_to_2，参数是迭代多少次，也就是n的大小，\n",
        "    # 为什么函数名叫converge_to_2呢，因为1 + 1/2 + 1/2^2 + ... + 1/2^n 极限为2\n",
        "    total = tf.constant(0.)\n",
        "    increment = tf.constant(1.)\n",
        "    for _ in range(n_iters):\n",
        "        total += increment\n",
        "        increment /= 2.0\n",
        "    return total\n",
        "\n",
        "print(converge_to_2(20)) #调用函数"
      ],
      "execution_count": 0,
      "outputs": [
        {
          "output_type": "stream",
          "text": [
            "tf.Tensor(1.9999981, shape=(), dtype=float32)\n"
          ],
          "name": "stdout"
        }
      ]
    },
    {
      "cell_type": "code",
      "metadata": {
        "id": "4C62MSXN8lTo",
        "colab_type": "code",
        "colab": {}
      },
      "source": [
        "def display_tf_code(func):\n",
        "    # 还有一个方法是可以把这个python函数转为可以生成tensorflow图结构的中间代码给大家展示出来\n",
        "    # 这个tensorflow代码呢就可以生成tensorflow里面的图结构\n",
        "    # 传入的是一个python的函数\n",
        "    # 这个函数可以把普通的python代码转成tensorflow代码，这个tensorflow代码呢就可以生成tensorflow里面的图结构\n",
        "    code = tf.autograph.to_code(func) #把func传进去 可以得到一段源代码 我们在notebook里还可以很方便的把源代码展示出来\n",
        "    from IPython.display import display, Markdown #这时候就需要去调用IPython里面的display函数和markdown库\n",
        "    display(Markdown('```python\\n{}\\n```'.format(code))) #然后我们调用display函数，把code用markdown的语法写出来"
      ],
      "execution_count": 0,
      "outputs": []
    },
    {
      "cell_type": "code",
      "metadata": {
        "id": "c8Iq3vZ38lTq",
        "colab_type": "code",
        "outputId": "6984e93b-c81d-47e1-a912-2fb09e87e99b",
        "colab": {
          "base_uri": "https://localhost:8080/",
          "height": 35
        }
      },
      "source": [
        "display_tf_code(scaled_elu)"
      ],
      "execution_count": 0,
      "outputs": [
        {
          "output_type": "display_data",
          "data": {
            "text/markdown": "```python\ndef tf__scaled_elu(z, scale=None, alpha=None):\n    do_return = False\n    retval_ = ag__.UndefinedReturnValue()\n    with ag__.FunctionScope('scaled_elu', 'fscope', ag__.ConversionOptions(recursive=True, user_requested=True, optional_features=(), internal_convert_user_code=True)) as fscope:\n        is_positive = ag__.converted_call(tf.greater_equal, (z, 0.0), None, fscope)\n        try:\n            do_return = True\n            retval_ = fscope.mark_return_value((scale * ag__.converted_call(tf.where, (is_positive, z, (alpha * ag__.converted_call(tf.nn.elu, (z,), None, fscope))), None, fscope)))\n        except:\n            do_return = False\n            raise\n    (do_return,)\n    return ag__.retval(retval_)\n\n```",
            "text/plain": [
              "<IPython.core.display.Markdown object>"
            ]
          },
          "metadata": {
            "tags": []
          }
        }
      ]
    },
    {
      "cell_type": "code",
      "metadata": {
        "id": "9iWCA8i78lTs",
        "colab_type": "code",
        "outputId": "667bbac6-5784-4e4e-a5e2-e4aa8e5f18a9",
        "colab": {
          "base_uri": "https://localhost:8080/",
          "height": 35
        }
      },
      "source": [
        "# 在之前的例子中，我们都是把变量声明在函数里，生成tf.constant,如果我们想把变量生成tf.Variable的话\n",
        "# 首先如果把变量生成为tf.variable的话，他不能在function里面，因为tf.variable必须在function外面去初始化\n",
        "# 用tf.function标注的函数呢，不能再函数内部声明一个变量，我们只能把变量放到外面\n",
        "# 讲这个差别是因为，在我们定义神经网络的过程中呢，其实我们用的更多的是这个tf.variable.\n",
        "# 所以在定义神经网络的过程中呢，我们在转换成function之前，需要把这些变量都全部初始化\n",
        "# 这是我们讲这个的目的。虽然tf.constant可以放在function内部，但我们在定义神经网络的时候\n",
        "# 这个tf.constant还是用的比较少的，我们主要还是用tf.variable\n",
        "var = tf.Variable(0.) \n",
        "\n",
        "@tf.function\n",
        "def add_21():\n",
        "    return var.assign_add(21) # 给变量加21，因为是变量，不能直接调用加法，要用tf.assign_add函数,相当于+=\n",
        "\n",
        "print(add_21())"
      ],
      "execution_count": 0,
      "outputs": [
        {
          "output_type": "stream",
          "text": [
            "tf.Tensor(21.0, shape=(), dtype=float32)\n"
          ],
          "name": "stdout"
        }
      ]
    },
    {
      "cell_type": "code",
      "metadata": {
        "id": "x1QO_8E8Fon_",
        "colab_type": "code",
        "outputId": "ca3714ba-731a-413c-fd54-d5f777c04357",
        "colab": {
          "base_uri": "https://localhost:8080/",
          "height": 53
        }
      },
      "source": [
        "#在这个例子里呢，我们会给这个函数加一个输入，由输入计算输出\n",
        "#这个函数是用来计算立方的\n",
        "@tf.function\n",
        "def cube(z):\n",
        "  return tf.pow(z, 3)\n",
        "\n",
        "print(cube(tf.constant([1.,2.,3.])))\n",
        "print(cube(tf.constant([1,2,3])))\n",
        "#这里呢，输入的constant的类型可以是float,也可以是int32类型的\n",
        "#那我们可以不可以对输入类型做一个限定\n",
        "#首先为什么要做限定，做限定的目的就是可以让我输入的数据类型特别明确\n",
        "#大家知道python是一种弱类型的语言，他的参数呢是没有类别信息的，很容易让大家调错\n",
        "#如果大家能把这个函数的签名呢，把这个函数里面参数的类型呢，给明确下，那么我们就可以在使用这个函数的时候少犯错了\n",
        "#这是加类型限制的一个好处\n",
        "#下面演示如何加类型限制"
      ],
      "execution_count": 0,
      "outputs": [
        {
          "output_type": "stream",
          "text": [
            "tf.Tensor([ 1.  8. 27.], shape=(3,), dtype=float32)\n",
            "tf.Tensor([ 1  8 27], shape=(3,), dtype=int32)\n"
          ],
          "name": "stdout"
        }
      ]
    },
    {
      "cell_type": "code",
      "metadata": {
        "id": "jh83Ac858lTv",
        "colab_type": "code",
        "outputId": "1ed1d343-f761-43c8-c38a-c7f165099d04",
        "colab": {
          "base_uri": "https://localhost:8080/",
          "height": 125
        }
      },
      "source": [
        "#加类型限制呢，主要在tf.function的标注里呢，去把他细化下就可以了\n",
        "#在这里有个参数叫做input_signature，这个参数呢可以帮我们定义他的输入参数的类型是什么样的\n",
        "#在这里我们把他限制成int32,首先呢，他的是一个tensorflow的数据类型，其次呢他的类型必须是int32\n",
        "#然后我们给他定义一个名字x.这样呢，我们就把z的类型限定呢，给做好了\n",
        "#即可以使用input_signature来限制函数的输入类型，以防止调错\n",
        "#input_signature还有一个作用，就是我一个函数有了这个input_signature之后\n",
        "#在tensorflow里才可以保存为这个saved.model\n",
        "#然后在保存为saved.model过程中，我们需要一个get_concrete_function的函数来把一个tf.function标注的普通的python函数呢\n",
        "#给变成这种带有图定义的函数\n",
        "@tf.function(input_signature=[tf.TensorSpec([None], tf.int32, name='x')])\n",
        "def cube(z):\n",
        "    return tf.pow(z, 3)\n",
        "\n",
        "#这个因为类型不对，就会报错，用try catch包住\n",
        "try:\n",
        "    print(cube(tf.constant([1., 2., 3.])))\n",
        "except ValueError as ex:\n",
        "    print(ex)\n",
        "    \n",
        "print(cube(tf.constant([1, 2, 3])))\n",
        "#这就是如何在tf.function给我们函数做限定"
      ],
      "execution_count": 3,
      "outputs": [
        {
          "output_type": "stream",
          "text": [
            "Python inputs incompatible with input_signature:\n",
            "  inputs: (\n",
            "    tf.Tensor([1. 2. 3.], shape=(3,), dtype=float32))\n",
            "  input_signature: (\n",
            "    TensorSpec(shape=(None,), dtype=tf.int32, name='x'))\n",
            "tf.Tensor([ 1  8 27], shape=(3,), dtype=int32)\n"
          ],
          "name": "stdout"
        }
      ]
    },
    {
      "cell_type": "code",
      "metadata": {
        "id": "QmcnYrw-8lTx",
        "colab_type": "code",
        "outputId": "e9aef4b2-d835-417c-8e79-85e731d2834f",
        "colab": {
          "base_uri": "https://localhost:8080/",
          "height": 35
        }
      },
      "source": [
        "#即可以使用input_signature来限制函数的输入类型，以防止调错\n",
        "#input_signature还有一个作用，就是我一个函数有了这个input_signature之后\n",
        "#在tensorflow里才可以保存为这个saved.model\n",
        "#然后在保存为saved.model过程中，我们需要一个get_concrete_function的函数来把一个tf.function标注的普通的python函数呢\n",
        "#给变成这种带有图定义的函数\n",
        "# @tf.function py func -> tf graph\n",
        "# get_concrete_function -> 它可以给这种由add tf.function来标注的python function 给他加上input signature\n",
        "#             -> 从而让这个python函数变成要给可以保存的tensorflow图结构。即SavedModel\n",
        "# 下面演示如何使用get_concrete_function\n",
        "# 调用只需要在函数名上调用.get_concrete_function就可以了\n",
        "# 一个函数名呢，它由tf.function来标注之后呢，他就有了其他的属性。get_concrete_function就是其中之一\n",
        "# get_concrete_function的参数就是输入数据的类型，跟我们定义input_signature是一样的。\n",
        "# 这样我们就得到一个可以保存的tensorflow function\n",
        "cube_func_int32 = cube.get_concrete_function(\n",
        "    tf.TensorSpec([None], tf.int32))\n",
        "print(cube_func_int32)"
      ],
      "execution_count": 4,
      "outputs": [
        {
          "output_type": "stream",
          "text": [
            "<tensorflow.python.eager.function.ConcreteFunction object at 0x7ff27d0f6be0>\n"
          ],
          "name": "stdout"
        }
      ]
    },
    {
      "cell_type": "code",
      "metadata": {
        "id": "XR7Ki3Km8lT0",
        "colab_type": "code",
        "outputId": "e31df5d4-409f-4e33-cb7e-c76ca968d769",
        "colab": {
          "base_uri": "https://localhost:8080/",
          "height": 53
        }
      },
      "source": [
        "#上面的get_concrete_function的参数呢是一个tensorflow类型，除了类型呢，还可以使用一个具体的数传进来，也可以得到一个function的定义\n",
        "print(cube_func_int32 is cube.get_concrete_function(\n",
        "    tf.TensorSpec([5], tf.int32)))\n",
        "print(cube_func_int32 is cube.get_concrete_function(\n",
        "    tf.constant([1, 2, 3]))) #输入一个常量\n",
        "\n",
        "#返回都是true 这俩的signature都是一样的"
      ],
      "execution_count": 5,
      "outputs": [
        {
          "output_type": "stream",
          "text": [
            "True\n",
            "True\n"
          ],
          "name": "stdout"
        }
      ]
    },
    {
      "cell_type": "code",
      "metadata": {
        "id": "TNsmNYy78lT2",
        "colab_type": "code",
        "outputId": "fb96c172-56be-4aa6-ccde-203bc257a730",
        "colab": {
          "base_uri": "https://localhost:8080/",
          "height": 35
        }
      },
      "source": [
        "cube_func_int32.graph #得到这个Concrete对象以后，可以把这个图打印出来"
      ],
      "execution_count": 15,
      "outputs": [
        {
          "output_type": "execute_result",
          "data": {
            "text/plain": [
              "<tensorflow.python.framework.func_graph.FuncGraph at 0x7ff27d0f67f0>"
            ]
          },
          "metadata": {
            "tags": []
          },
          "execution_count": 15
        }
      ]
    },
    {
      "cell_type": "code",
      "metadata": {
        "id": "3UBF_2R78lT6",
        "colab_type": "code",
        "outputId": "623eeaae-0d45-4e95-93db-a4a8b00a84d2",
        "colab": {
          "base_uri": "https://localhost:8080/",
          "height": 89
        }
      },
      "source": [
        "cube_func_int32.graph.get_operations() #图定义里有哪些操作，有四个操作，x, pow/y, pow, Identity,其中第二个就是立方的操作"
      ],
      "execution_count": 7,
      "outputs": [
        {
          "output_type": "execute_result",
          "data": {
            "text/plain": [
              "[<tf.Operation 'x' type=Placeholder>,\n",
              " <tf.Operation 'Pow/y' type=Const>,\n",
              " <tf.Operation 'Pow' type=Pow>,\n",
              " <tf.Operation 'Identity' type=Identity>]"
            ]
          },
          "metadata": {
            "tags": []
          },
          "execution_count": 7
        }
      ]
    },
    {
      "cell_type": "code",
      "metadata": {
        "id": "LwEsVaaD8lT9",
        "colab_type": "code",
        "outputId": "9d11f860-970f-471d-902c-a8c612c1eea7",
        "colab": {
          "base_uri": "https://localhost:8080/",
          "height": 215
        }
      },
      "source": [
        "pow_op = cube_func_int32.graph.get_operations()[2] #把Pow这个操作打印出来\n",
        "print(pow_op)"
      ],
      "execution_count": 8,
      "outputs": [
        {
          "output_type": "stream",
          "text": [
            "name: \"Pow\"\n",
            "op: \"Pow\"\n",
            "input: \"x\"\n",
            "input: \"Pow/y\"\n",
            "attr {\n",
            "  key: \"T\"\n",
            "  value {\n",
            "    type: DT_INT32\n",
            "  }\n",
            "}\n",
            "\n"
          ],
          "name": "stdout"
        }
      ]
    },
    {
      "cell_type": "code",
      "metadata": {
        "id": "-xJplc908lT_",
        "colab_type": "code",
        "outputId": "5103aac0-f696-4040-9089-f08f1d5d6b49",
        "colab": {
          "base_uri": "https://localhost:8080/",
          "height": 53
        }
      },
      "source": [
        "print(list(pow_op.inputs)) #可以把上面pow_op里面的输入由两个x,pow/y\n",
        "print(list(pow_op.outputs)) #输出就是pow\n"
      ],
      "execution_count": 9,
      "outputs": [
        {
          "output_type": "stream",
          "text": [
            "[<tf.Tensor 'x:0' shape=(None,) dtype=int32>, <tf.Tensor 'Pow/y:0' shape=() dtype=int32>]\n",
            "[<tf.Tensor 'Pow:0' shape=(None,) dtype=int32>]\n"
          ],
          "name": "stdout"
        }
      ]
    },
    {
      "cell_type": "code",
      "metadata": {
        "id": "tPDJbotx8lUB",
        "colab_type": "code",
        "outputId": "2de346db-52cd-4b13-95fb-d62815eb23dd",
        "colab": {
          "base_uri": "https://localhost:8080/",
          "height": 35
        }
      },
      "source": [
        "cube_func_int32.graph.get_operation_by_name(\"x\") #在给graph里面根据名字x 获取一个operation\n",
        "#Placeholder用来放输入的，就是我放进去一个输入才能得到输出，在tensorflow1.0里面这个placeholder是一个可以显示定义的东西\n",
        "#在tensorflow2.0里面呢，我们就不要这个东西了，但是呢，在图定义里依然存在"
      ],
      "execution_count": 13,
      "outputs": [
        {
          "output_type": "execute_result",
          "data": {
            "text/plain": [
              "<tf.Operation 'x' type=Placeholder>"
            ]
          },
          "metadata": {
            "tags": []
          },
          "execution_count": 13
        }
      ]
    },
    {
      "cell_type": "code",
      "metadata": {
        "id": "rf8qIEng8lUD",
        "colab_type": "code",
        "outputId": "78605aca-22b4-4f6d-8191-00cb3e8c78ed",
        "colab": {
          "base_uri": "https://localhost:8080/",
          "height": 35
        }
      },
      "source": [
        "cube_func_int32.graph.get_tensor_by_name(\"x:0\") #x后面会加上一个 :0， 获取tensor，一般会在name后面加上 :0\n",
        "#我们就会得到x对应的tensor\n",
        "#然后大家会问，你在这里写的这些字符串x或者x:0,这些字符串你是怎么知道的呢\n",
        "#第一点就是他们是层次的名字，或者是tensor的名字，在很多时候呢，你是可以给tensor设定名字\n",
        "#这样呢，你肯定知道你设定的名字是什么\n",
        "#第二点呢，就是你有个粗暴的方法可以去看一下都会有什么样的名字\n",
        "#粗暴的方法就是我们把graph_def打印出来"
      ],
      "execution_count": 16,
      "outputs": [
        {
          "output_type": "execute_result",
          "data": {
            "text/plain": [
              "<tf.Tensor 'x:0' shape=(None,) dtype=int32>"
            ]
          },
          "metadata": {
            "tags": []
          },
          "execution_count": 16
        }
      ]
    },
    {
      "cell_type": "code",
      "metadata": {
        "id": "8ZWUDMRs8lUF",
        "colab_type": "code",
        "outputId": "bf0dd996-8a16-42a0-9bd0-b8a16bf7b5cb",
        "colab": {
          "base_uri": "https://localhost:8080/",
          "height": 1000
        }
      },
      "source": [
        "#打印graph_def\n",
        "#在这个graph_de里面呢，有一个node是x,他的op是Placeholder，跟我们上面是对应的上的。\n",
        "#还有一个node呢 是 Pow/y，这个呢应该是我们输入的幂次那个信息\n",
        "#然后还有我们去计算立方的那个pow节点\n",
        "#然后在计算完立方以后，我们还有一个节点叫Identity,输入是什么，输出就是什么，这个一般会作为过渡节点\n",
        "cube_func_int32.graph.as_graph_def()\n",
        "\n",
        "#上面内容虽然跟训练模型没关，因为我们训练model,只需要用keras去搭建，然后调用keras里面的fit函数就可以去train了\n",
        "#上面的函数呢，一般会用在两个地方\n",
        "#第一个地方呢： 就是你如何去保存模型\n",
        "#第二个地方呢： 你在保存了模型以后，你如何用你保存的模型载入进来，然后我们在载入模型去做inference的时候可能会用到这些函数\n",
        "#比如get_operation_by_name  get_tensor_by_name,如果采用c++或者其他语言去写的话，经常会用到"
      ],
      "execution_count": 12,
      "outputs": [
        {
          "output_type": "execute_result",
          "data": {
            "text/plain": [
              "node {\n",
              "  name: \"x\"\n",
              "  op: \"Placeholder\"\n",
              "  attr {\n",
              "    key: \"_user_specified_name\"\n",
              "    value {\n",
              "      s: \"x\"\n",
              "    }\n",
              "  }\n",
              "  attr {\n",
              "    key: \"dtype\"\n",
              "    value {\n",
              "      type: DT_INT32\n",
              "    }\n",
              "  }\n",
              "  attr {\n",
              "    key: \"shape\"\n",
              "    value {\n",
              "      shape {\n",
              "        dim {\n",
              "          size: -1\n",
              "        }\n",
              "      }\n",
              "    }\n",
              "  }\n",
              "}\n",
              "node {\n",
              "  name: \"Pow/y\"\n",
              "  op: \"Const\"\n",
              "  attr {\n",
              "    key: \"dtype\"\n",
              "    value {\n",
              "      type: DT_INT32\n",
              "    }\n",
              "  }\n",
              "  attr {\n",
              "    key: \"value\"\n",
              "    value {\n",
              "      tensor {\n",
              "        dtype: DT_INT32\n",
              "        tensor_shape {\n",
              "        }\n",
              "        int_val: 3\n",
              "      }\n",
              "    }\n",
              "  }\n",
              "}\n",
              "node {\n",
              "  name: \"Pow\"\n",
              "  op: \"Pow\"\n",
              "  input: \"x\"\n",
              "  input: \"Pow/y\"\n",
              "  attr {\n",
              "    key: \"T\"\n",
              "    value {\n",
              "      type: DT_INT32\n",
              "    }\n",
              "  }\n",
              "}\n",
              "node {\n",
              "  name: \"Identity\"\n",
              "  op: \"Identity\"\n",
              "  input: \"Pow\"\n",
              "  attr {\n",
              "    key: \"T\"\n",
              "    value {\n",
              "      type: DT_INT32\n",
              "    }\n",
              "  }\n",
              "}\n",
              "versions {\n",
              "  producer: 175\n",
              "}"
            ]
          },
          "metadata": {
            "tags": []
          },
          "execution_count": 12
        }
      ]
    },
    {
      "cell_type": "code",
      "metadata": {
        "id": "uOK0adoG8lUH",
        "colab_type": "code",
        "colab": {}
      },
      "source": [
        ""
      ],
      "execution_count": 0,
      "outputs": []
    }
  ]
}