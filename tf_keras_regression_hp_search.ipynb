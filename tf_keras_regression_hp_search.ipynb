{
  "nbformat": 4,
  "nbformat_minor": 0,
  "metadata": {
    "kernelspec": {
      "display_name": "Python 3",
      "language": "python",
      "name": "python3"
    },
    "language_info": {
      "codemirror_mode": {
        "name": "ipython",
        "version": 3
      },
      "file_extension": ".py",
      "mimetype": "text/x-python",
      "name": "python",
      "nbconvert_exporter": "python",
      "pygments_lexer": "ipython3",
      "version": "3.7.3"
    },
    "colab": {
      "name": "tf_keras_regression-hp-search.ipynb",
      "provenance": [],
      "include_colab_link": true
    }
  },
  "cells": [
    {
      "cell_type": "markdown",
      "metadata": {
        "id": "view-in-github",
        "colab_type": "text"
      },
      "source": [
        "<a href=\"https://colab.research.google.com/github/mingmingbupt/tensorflow/blob/master/tf_keras_regression_hp_search.ipynb\" target=\"_parent\"><img src=\"https://colab.research.google.com/assets/colab-badge.svg\" alt=\"Open In Colab\"/></a>"
      ]
    },
    {
      "cell_type": "code",
      "metadata": {
        "id": "BTyQ0-I-gU4q",
        "colab_type": "code",
        "colab": {
          "base_uri": "https://localhost:8080/",
          "height": 209
        },
        "outputId": "08b07911-961c-4f83-8400-4da0bb82f6d1"
      },
      "source": [
        "import matplotlib as mpl\n",
        "import matplotlib.pyplot as plt\n",
        "%matplotlib inline\n",
        "import numpy as np\n",
        "import sklearn\n",
        "import pandas as pd\n",
        "import os\n",
        "import sys\n",
        "import time\n",
        "import tensorflow as tf\n",
        "\n",
        "from tensorflow import keras\n",
        "\n",
        "print(tf.__version__)\n",
        "print(sys.version_info)\n",
        "for module in mpl, np, pd, sklearn, tf, keras:\n",
        "    print(module.__name__, module.__version__)"
      ],
      "execution_count": 1,
      "outputs": [
        {
          "output_type": "display_data",
          "data": {
            "text/html": [
              "<p style=\"color: red;\">\n",
              "The default version of TensorFlow in Colab will soon switch to TensorFlow 2.x.<br>\n",
              "We recommend you <a href=\"https://www.tensorflow.org/guide/migrate\" target=\"_blank\">upgrade</a> now \n",
              "or ensure your notebook will continue to use TensorFlow 1.x via the <code>%tensorflow_version 1.x</code> magic:\n",
              "<a href=\"https://colab.research.google.com/notebooks/tensorflow_version.ipynb\" target=\"_blank\">more info</a>.</p>\n"
            ],
            "text/plain": [
              "<IPython.core.display.HTML object>"
            ]
          },
          "metadata": {
            "tags": []
          }
        },
        {
          "output_type": "stream",
          "text": [
            "1.15.0\n",
            "sys.version_info(major=3, minor=6, micro=9, releaselevel='final', serial=0)\n",
            "matplotlib 3.2.0\n",
            "numpy 1.18.2\n",
            "pandas 0.25.3\n",
            "sklearn 0.22.2.post1\n",
            "tensorflow 1.15.0\n",
            "tensorflow.python.keras.api._v1.keras 2.2.4-tf\n"
          ],
          "name": "stdout"
        }
      ]
    },
    {
      "cell_type": "code",
      "metadata": {
        "id": "jVVSYCFegU4w",
        "colab_type": "code",
        "colab": {
          "base_uri": "https://localhost:8080/",
          "height": 809
        },
        "outputId": "3cd1b861-81cd-4ec7-b330-d11feba4122c"
      },
      "source": [
        "from sklearn.datasets import fetch_california_housing\n",
        "\n",
        "housing = fetch_california_housing()\n",
        "print(housing.DESCR)\n",
        "print(housing.data.shape)\n",
        "print(housing.target.shape)"
      ],
      "execution_count": 2,
      "outputs": [
        {
          "output_type": "stream",
          "text": [
            "Downloading Cal. housing from https://ndownloader.figshare.com/files/5976036 to /root/scikit_learn_data\n"
          ],
          "name": "stderr"
        },
        {
          "output_type": "stream",
          "text": [
            ".. _california_housing_dataset:\n",
            "\n",
            "California Housing dataset\n",
            "--------------------------\n",
            "\n",
            "**Data Set Characteristics:**\n",
            "\n",
            "    :Number of Instances: 20640\n",
            "\n",
            "    :Number of Attributes: 8 numeric, predictive attributes and the target\n",
            "\n",
            "    :Attribute Information:\n",
            "        - MedInc        median income in block\n",
            "        - HouseAge      median house age in block\n",
            "        - AveRooms      average number of rooms\n",
            "        - AveBedrms     average number of bedrooms\n",
            "        - Population    block population\n",
            "        - AveOccup      average house occupancy\n",
            "        - Latitude      house block latitude\n",
            "        - Longitude     house block longitude\n",
            "\n",
            "    :Missing Attribute Values: None\n",
            "\n",
            "This dataset was obtained from the StatLib repository.\n",
            "http://lib.stat.cmu.edu/datasets/\n",
            "\n",
            "The target variable is the median house value for California districts.\n",
            "\n",
            "This dataset was derived from the 1990 U.S. census, using one row per census\n",
            "block group. A block group is the smallest geographical unit for which the U.S.\n",
            "Census Bureau publishes sample data (a block group typically has a population\n",
            "of 600 to 3,000 people).\n",
            "\n",
            "It can be downloaded/loaded using the\n",
            ":func:`sklearn.datasets.fetch_california_housing` function.\n",
            "\n",
            ".. topic:: References\n",
            "\n",
            "    - Pace, R. Kelley and Ronald Barry, Sparse Spatial Autoregressions,\n",
            "      Statistics and Probability Letters, 33 (1997) 291-297\n",
            "\n",
            "(20640, 8)\n",
            "(20640,)\n"
          ],
          "name": "stdout"
        }
      ]
    },
    {
      "cell_type": "code",
      "metadata": {
        "id": "t50BcSgVgU4z",
        "colab_type": "code",
        "colab": {
          "base_uri": "https://localhost:8080/",
          "height": 71
        },
        "outputId": "a9dcd074-84f9-49ae-fc33-800bff5a8eca"
      },
      "source": [
        "from sklearn.model_selection import train_test_split\n",
        "\n",
        "x_train_all, x_test, y_train_all, y_test = train_test_split(\n",
        "    housing.data, housing.target, random_state = 7)\n",
        "x_train, x_valid, y_train, y_valid = train_test_split(\n",
        "    x_train_all, y_train_all, random_state = 11)\n",
        "print(x_train.shape, y_train.shape)\n",
        "print(x_valid.shape, y_valid.shape)\n",
        "print(x_test.shape, y_test.shape)\n"
      ],
      "execution_count": 3,
      "outputs": [
        {
          "output_type": "stream",
          "text": [
            "(11610, 8) (11610,)\n",
            "(3870, 8) (3870,)\n",
            "(5160, 8) (5160,)\n"
          ],
          "name": "stdout"
        }
      ]
    },
    {
      "cell_type": "code",
      "metadata": {
        "id": "2hp-DHNigU43",
        "colab_type": "code",
        "colab": {}
      },
      "source": [
        "from sklearn.preprocessing import StandardScaler\n",
        "\n",
        "scaler = StandardScaler()\n",
        "x_train_scaled = scaler.fit_transform(x_train)\n",
        "x_valid_scaled = scaler.transform(x_valid)\n",
        "x_test_scaled = scaler.transform(x_test)"
      ],
      "execution_count": 0,
      "outputs": []
    },
    {
      "cell_type": "code",
      "metadata": {
        "id": "3C9XBJJqgU45",
        "colab_type": "code",
        "colab": {
          "base_uri": "https://localhost:8080/",
          "height": 1000
        },
        "outputId": "8d481d79-6fd7-4f4e-dfaa-46d9a5d0fa81"
      },
      "source": [
        "# learning_rate: [1e-4, 3e-4, 1e-3, 3e-3, 1e-2, 3e-2]\n",
        "# W = W + grad * learning_rate\n",
        "\n",
        "#手动实现超参数搜索\n",
        "#我们只想搜索learning_rate,值为下面6个\n",
        "#自己实现会有两个缺点\n",
        "#缺点1： 我们目前比较简单，我们只挑一个参数，现实中可能很多个参数，我们可能会用20层for循环去实现超参数搜索\n",
        "#缺点2： 这里使用for循环，那就意味着要等一个模型训练完以后才可以训练下一个，这样嗯，就没有并行化的处理\n",
        "#所以需要借助现有的库实现参数搜索\n",
        "learning_rates = [1e-4, 3e-4, 1e-3, 3e-3, 1e-2, 3e-2]\n",
        "histories = []\n",
        "for lr in learning_rates:\n",
        "    model = keras.models.Sequential([\n",
        "        keras.layers.Dense(30, activation='relu',\n",
        "                           input_shape=x_train.shape[1:]),\n",
        "        keras.layers.Dense(1),\n",
        "    ])\n",
        "    # 定义自己的optimizer\n",
        "    optimizer = keras.optimizers.SGD(lr)\n",
        "    # 这里使用自己的optimizer\n",
        "    model.compile(loss=\"mean_squared_error\", optimizer=optimizer)\n",
        "    callbacks = [keras.callbacks.EarlyStopping(\n",
        "        patience=5, min_delta=1e-2)]\n",
        "    # 去训练\n",
        "    history = model.fit(x_train_scaled, y_train,\n",
        "                        validation_data = (x_valid_scaled, y_valid),\n",
        "                        epochs = 100,\n",
        "                        callbacks = callbacks)\n",
        "    histories.append(history)"
      ],
      "execution_count": 5,
      "outputs": [
        {
          "output_type": "stream",
          "text": [
            "WARNING:tensorflow:From /tensorflow-1.15.0/python3.6/tensorflow_core/python/ops/resource_variable_ops.py:1630: calling BaseResourceVariable.__init__ (from tensorflow.python.ops.resource_variable_ops) with constraint is deprecated and will be removed in a future version.\n",
            "Instructions for updating:\n",
            "If using Keras pass *_constraint arguments to layers.\n",
            "Train on 11610 samples, validate on 3870 samples\n",
            "Epoch 1/100\n",
            "11610/11610 [==============================] - 1s 83us/sample - loss: 5.0118 - val_loss: 4.3486\n",
            "Epoch 2/100\n",
            "11610/11610 [==============================] - 0s 41us/sample - loss: 3.5438 - val_loss: 3.1737\n",
            "Epoch 3/100\n",
            "11610/11610 [==============================] - 0s 40us/sample - loss: 2.6559 - val_loss: 2.4472\n",
            "Epoch 4/100\n",
            "11610/11610 [==============================] - 0s 40us/sample - loss: 2.0885 - val_loss: 1.9741\n",
            "Epoch 5/100\n",
            "11610/11610 [==============================] - 0s 40us/sample - loss: 1.7128 - val_loss: 1.6549\n",
            "Epoch 6/100\n",
            "11610/11610 [==============================] - 0s 38us/sample - loss: 1.4525 - val_loss: 1.4287\n",
            "Epoch 7/100\n",
            "11610/11610 [==============================] - 0s 40us/sample - loss: 1.2639 - val_loss: 1.2626\n",
            "Epoch 8/100\n",
            "11610/11610 [==============================] - 0s 39us/sample - loss: 1.1235 - val_loss: 1.1368\n",
            "Epoch 9/100\n",
            "11610/11610 [==============================] - 0s 41us/sample - loss: 1.0162 - val_loss: 1.0396\n",
            "Epoch 10/100\n",
            "11610/11610 [==============================] - 0s 39us/sample - loss: 0.9329 - val_loss: 0.9643\n",
            "Epoch 11/100\n",
            "11610/11610 [==============================] - 0s 42us/sample - loss: 0.8682 - val_loss: 0.9052\n",
            "Epoch 12/100\n",
            "11610/11610 [==============================] - 0s 39us/sample - loss: 0.8175 - val_loss: 0.8589\n",
            "Epoch 13/100\n",
            "11610/11610 [==============================] - 0s 41us/sample - loss: 0.7776 - val_loss: 0.8223\n",
            "Epoch 14/100\n",
            "11610/11610 [==============================] - 0s 40us/sample - loss: 0.7461 - val_loss: 0.7934\n",
            "Epoch 15/100\n",
            "11610/11610 [==============================] - 0s 40us/sample - loss: 0.7213 - val_loss: 0.7705\n",
            "Epoch 16/100\n",
            "11610/11610 [==============================] - 0s 37us/sample - loss: 0.7016 - val_loss: 0.7523\n",
            "Epoch 17/100\n",
            "11610/11610 [==============================] - 0s 39us/sample - loss: 0.6858 - val_loss: 0.7375\n",
            "Epoch 18/100\n",
            "11610/11610 [==============================] - 0s 40us/sample - loss: 0.6730 - val_loss: 0.7253\n",
            "Epoch 19/100\n",
            "11610/11610 [==============================] - 0s 41us/sample - loss: 0.6624 - val_loss: 0.7153\n",
            "Epoch 20/100\n",
            "11610/11610 [==============================] - 0s 42us/sample - loss: 0.6537 - val_loss: 0.7069\n",
            "Epoch 21/100\n",
            "11610/11610 [==============================] - 0s 41us/sample - loss: 0.6463 - val_loss: 0.6998\n",
            "Epoch 22/100\n",
            "11610/11610 [==============================] - 0s 39us/sample - loss: 0.6399 - val_loss: 0.6934\n",
            "Epoch 23/100\n",
            "11610/11610 [==============================] - 0s 41us/sample - loss: 0.6344 - val_loss: 0.6879\n",
            "Epoch 24/100\n",
            "11610/11610 [==============================] - 0s 39us/sample - loss: 0.6294 - val_loss: 0.6828\n",
            "Epoch 25/100\n",
            "11610/11610 [==============================] - 0s 41us/sample - loss: 0.6249 - val_loss: 0.6781\n",
            "Epoch 26/100\n",
            "11610/11610 [==============================] - 0s 40us/sample - loss: 0.6207 - val_loss: 0.6739\n",
            "Epoch 27/100\n",
            "11610/11610 [==============================] - 0s 38us/sample - loss: 0.6168 - val_loss: 0.6699\n",
            "Epoch 28/100\n",
            "11610/11610 [==============================] - 0s 40us/sample - loss: 0.6132 - val_loss: 0.6661\n",
            "Epoch 29/100\n",
            "11610/11610 [==============================] - 0s 39us/sample - loss: 0.6098 - val_loss: 0.6625\n",
            "Epoch 30/100\n",
            "11610/11610 [==============================] - 0s 40us/sample - loss: 0.6065 - val_loss: 0.6591\n",
            "Epoch 31/100\n",
            "11610/11610 [==============================] - 0s 39us/sample - loss: 0.6033 - val_loss: 0.6558\n",
            "Epoch 32/100\n",
            "11610/11610 [==============================] - 0s 41us/sample - loss: 0.6003 - val_loss: 0.6526\n",
            "Epoch 33/100\n",
            "11610/11610 [==============================] - 0s 39us/sample - loss: 0.5974 - val_loss: 0.6494\n",
            "Epoch 34/100\n",
            "11610/11610 [==============================] - 0s 39us/sample - loss: 0.5945 - val_loss: 0.6464\n",
            "Epoch 35/100\n",
            "11610/11610 [==============================] - 0s 40us/sample - loss: 0.5918 - val_loss: 0.6433\n",
            "Epoch 36/100\n",
            "11610/11610 [==============================] - 0s 38us/sample - loss: 0.5891 - val_loss: 0.6404\n",
            "Epoch 37/100\n",
            "11610/11610 [==============================] - 0s 37us/sample - loss: 0.5864 - val_loss: 0.6375\n",
            "Epoch 38/100\n",
            "11610/11610 [==============================] - 0s 38us/sample - loss: 0.5839 - val_loss: 0.6347\n",
            "Epoch 39/100\n",
            "11610/11610 [==============================] - 0s 39us/sample - loss: 0.5813 - val_loss: 0.6320\n",
            "Epoch 40/100\n",
            "11610/11610 [==============================] - 0s 39us/sample - loss: 0.5789 - val_loss: 0.6293\n",
            "Epoch 41/100\n",
            "11610/11610 [==============================] - 0s 41us/sample - loss: 0.5765 - val_loss: 0.6267\n",
            "Epoch 42/100\n",
            "11610/11610 [==============================] - 0s 39us/sample - loss: 0.5741 - val_loss: 0.6241\n",
            "Epoch 43/100\n",
            "11610/11610 [==============================] - 0s 39us/sample - loss: 0.5718 - val_loss: 0.6216\n",
            "Epoch 44/100\n",
            "11610/11610 [==============================] - 0s 41us/sample - loss: 0.5695 - val_loss: 0.6191\n",
            "Epoch 45/100\n",
            "11610/11610 [==============================] - 0s 41us/sample - loss: 0.5673 - val_loss: 0.6166\n",
            "Epoch 46/100\n",
            "11610/11610 [==============================] - 0s 39us/sample - loss: 0.5651 - val_loss: 0.6142\n",
            "Epoch 47/100\n",
            "11610/11610 [==============================] - 0s 40us/sample - loss: 0.5629 - val_loss: 0.6118\n",
            "Epoch 48/100\n",
            "11610/11610 [==============================] - 0s 41us/sample - loss: 0.5608 - val_loss: 0.6095\n",
            "Epoch 49/100\n",
            "11610/11610 [==============================] - 0s 38us/sample - loss: 0.5587 - val_loss: 0.6072\n",
            "Epoch 50/100\n",
            "11610/11610 [==============================] - 0s 39us/sample - loss: 0.5567 - val_loss: 0.6049\n",
            "Epoch 51/100\n",
            "11610/11610 [==============================] - 0s 39us/sample - loss: 0.5547 - val_loss: 0.6027\n",
            "Epoch 52/100\n",
            "11610/11610 [==============================] - 0s 39us/sample - loss: 0.5528 - val_loss: 0.6005\n",
            "Epoch 53/100\n",
            "11610/11610 [==============================] - 0s 42us/sample - loss: 0.5509 - val_loss: 0.5983\n",
            "Epoch 54/100\n",
            "11610/11610 [==============================] - 0s 40us/sample - loss: 0.5490 - val_loss: 0.5962\n",
            "Epoch 55/100\n",
            "11610/11610 [==============================] - 0s 40us/sample - loss: 0.5472 - val_loss: 0.5941\n",
            "Epoch 56/100\n",
            "11610/11610 [==============================] - 0s 39us/sample - loss: 0.5454 - val_loss: 0.5922\n",
            "Epoch 57/100\n",
            "11610/11610 [==============================] - 0s 40us/sample - loss: 0.5436 - val_loss: 0.5902\n",
            "Epoch 58/100\n",
            "11610/11610 [==============================] - 0s 38us/sample - loss: 0.5419 - val_loss: 0.5882\n",
            "Epoch 59/100\n",
            "11610/11610 [==============================] - 0s 37us/sample - loss: 0.5402 - val_loss: 0.5862\n",
            "Epoch 60/100\n",
            "11610/11610 [==============================] - 0s 40us/sample - loss: 0.5385 - val_loss: 0.5843\n",
            "Train on 11610 samples, validate on 3870 samples\n",
            "Epoch 1/100\n",
            "11610/11610 [==============================] - 1s 45us/sample - loss: 4.5856 - val_loss: 2.6628\n",
            "Epoch 2/100\n",
            "11610/11610 [==============================] - 0s 41us/sample - loss: 1.8577 - val_loss: 1.5328\n",
            "Epoch 3/100\n",
            "11610/11610 [==============================] - 0s 40us/sample - loss: 1.2035 - val_loss: 1.1418\n",
            "Epoch 4/100\n",
            "11610/11610 [==============================] - 0s 40us/sample - loss: 0.9537 - val_loss: 0.9652\n",
            "Epoch 5/100\n",
            "11610/11610 [==============================] - 0s 38us/sample - loss: 0.8393 - val_loss: 0.8742\n",
            "Epoch 6/100\n",
            "11610/11610 [==============================] - 0s 41us/sample - loss: 0.7787 - val_loss: 0.8242\n",
            "Epoch 7/100\n",
            "11610/11610 [==============================] - 0s 40us/sample - loss: 0.7439 - val_loss: 0.7923\n",
            "Epoch 8/100\n",
            "11610/11610 [==============================] - 0s 38us/sample - loss: 0.7206 - val_loss: 0.7707\n",
            "Epoch 9/100\n",
            "11610/11610 [==============================] - 0s 40us/sample - loss: 0.7033 - val_loss: 0.7533\n",
            "Epoch 10/100\n",
            "11610/11610 [==============================] - 0s 40us/sample - loss: 0.6891 - val_loss: 0.7398\n",
            "Epoch 11/100\n",
            "11610/11610 [==============================] - 0s 41us/sample - loss: 0.6769 - val_loss: 0.7266\n",
            "Epoch 12/100\n",
            "11610/11610 [==============================] - 0s 40us/sample - loss: 0.6658 - val_loss: 0.7147\n",
            "Epoch 13/100\n",
            "11610/11610 [==============================] - 0s 39us/sample - loss: 0.6557 - val_loss: 0.7043\n",
            "Epoch 14/100\n",
            "11610/11610 [==============================] - 0s 39us/sample - loss: 0.6464 - val_loss: 0.6957\n",
            "Epoch 15/100\n",
            "11610/11610 [==============================] - 0s 41us/sample - loss: 0.6376 - val_loss: 0.6874\n",
            "Epoch 16/100\n",
            "11610/11610 [==============================] - 0s 40us/sample - loss: 0.6293 - val_loss: 0.6790\n",
            "Epoch 17/100\n",
            "11610/11610 [==============================] - 0s 40us/sample - loss: 0.6216 - val_loss: 0.6709\n",
            "Epoch 18/100\n",
            "11610/11610 [==============================] - 0s 38us/sample - loss: 0.6143 - val_loss: 0.6632\n",
            "Epoch 19/100\n",
            "11610/11610 [==============================] - 0s 38us/sample - loss: 0.6076 - val_loss: 0.6551\n",
            "Epoch 20/100\n",
            "11610/11610 [==============================] - 0s 39us/sample - loss: 0.6011 - val_loss: 0.6483\n",
            "Epoch 21/100\n",
            "11610/11610 [==============================] - 0s 40us/sample - loss: 0.5950 - val_loss: 0.6424\n",
            "Epoch 22/100\n",
            "11610/11610 [==============================] - 0s 38us/sample - loss: 0.5893 - val_loss: 0.6360\n",
            "Epoch 23/100\n",
            "11610/11610 [==============================] - 0s 38us/sample - loss: 0.5838 - val_loss: 0.6298\n",
            "Epoch 24/100\n",
            "11610/11610 [==============================] - 0s 40us/sample - loss: 0.5786 - val_loss: 0.6245\n",
            "Epoch 25/100\n",
            "11610/11610 [==============================] - 0s 39us/sample - loss: 0.5736 - val_loss: 0.6190\n",
            "Epoch 26/100\n",
            "11610/11610 [==============================] - 0s 38us/sample - loss: 0.5689 - val_loss: 0.6139\n",
            "Epoch 27/100\n",
            "11610/11610 [==============================] - 0s 40us/sample - loss: 0.5645 - val_loss: 0.6088\n",
            "Epoch 28/100\n",
            "11610/11610 [==============================] - 0s 40us/sample - loss: 0.5603 - val_loss: 0.6047\n",
            "Epoch 29/100\n",
            "11610/11610 [==============================] - 0s 41us/sample - loss: 0.5562 - val_loss: 0.6003\n",
            "Epoch 30/100\n",
            "11610/11610 [==============================] - 0s 38us/sample - loss: 0.5524 - val_loss: 0.5965\n",
            "Epoch 31/100\n",
            "11610/11610 [==============================] - 0s 41us/sample - loss: 0.5487 - val_loss: 0.5923\n",
            "Epoch 32/100\n",
            "11610/11610 [==============================] - 0s 41us/sample - loss: 0.5453 - val_loss: 0.5887\n",
            "Epoch 33/100\n",
            "11610/11610 [==============================] - 0s 41us/sample - loss: 0.5421 - val_loss: 0.5851\n",
            "Epoch 34/100\n",
            "11610/11610 [==============================] - 0s 39us/sample - loss: 0.5390 - val_loss: 0.5813\n",
            "Epoch 35/100\n",
            "11610/11610 [==============================] - 0s 39us/sample - loss: 0.5359 - val_loss: 0.5783\n",
            "Epoch 36/100\n",
            "11610/11610 [==============================] - 0s 39us/sample - loss: 0.5330 - val_loss: 0.5749\n",
            "Epoch 37/100\n",
            "11610/11610 [==============================] - 0s 38us/sample - loss: 0.5304 - val_loss: 0.5718\n",
            "Epoch 38/100\n",
            "11610/11610 [==============================] - 0s 40us/sample - loss: 0.5278 - val_loss: 0.5685\n",
            "Epoch 39/100\n",
            "11610/11610 [==============================] - 0s 39us/sample - loss: 0.5252 - val_loss: 0.5655\n",
            "Epoch 40/100\n",
            "11610/11610 [==============================] - 0s 39us/sample - loss: 0.5228 - val_loss: 0.5629\n",
            "Epoch 41/100\n",
            "11610/11610 [==============================] - 0s 39us/sample - loss: 0.5204 - val_loss: 0.5605\n",
            "Epoch 42/100\n",
            "11610/11610 [==============================] - 0s 41us/sample - loss: 0.5182 - val_loss: 0.5576\n",
            "Epoch 43/100\n",
            "11610/11610 [==============================] - 0s 41us/sample - loss: 0.5160 - val_loss: 0.5550\n",
            "Epoch 44/100\n",
            "11610/11610 [==============================] - 0s 39us/sample - loss: 0.5138 - val_loss: 0.5531\n",
            "Epoch 45/100\n",
            "11610/11610 [==============================] - 0s 41us/sample - loss: 0.5119 - val_loss: 0.5509\n",
            "Epoch 46/100\n",
            "11610/11610 [==============================] - 0s 38us/sample - loss: 0.5100 - val_loss: 0.5481\n",
            "Epoch 47/100\n",
            "11610/11610 [==============================] - 0s 39us/sample - loss: 0.5082 - val_loss: 0.5466\n",
            "Epoch 48/100\n",
            "11610/11610 [==============================] - 0s 39us/sample - loss: 0.5065 - val_loss: 0.5445\n",
            "Epoch 49/100\n",
            "11610/11610 [==============================] - 0s 41us/sample - loss: 0.5047 - val_loss: 0.5424\n",
            "Epoch 50/100\n",
            "11610/11610 [==============================] - 0s 41us/sample - loss: 0.5031 - val_loss: 0.5405\n",
            "Epoch 51/100\n",
            "11610/11610 [==============================] - 0s 38us/sample - loss: 0.5014 - val_loss: 0.5383\n",
            "Epoch 52/100\n",
            "11610/11610 [==============================] - 0s 40us/sample - loss: 0.4999 - val_loss: 0.5364\n",
            "Epoch 53/100\n",
            "11610/11610 [==============================] - 0s 39us/sample - loss: 0.4984 - val_loss: 0.5347\n",
            "Epoch 54/100\n",
            "11610/11610 [==============================] - 0s 38us/sample - loss: 0.4970 - val_loss: 0.5329\n",
            "Epoch 55/100\n",
            "11610/11610 [==============================] - 0s 38us/sample - loss: 0.4955 - val_loss: 0.5312\n",
            "Train on 11610 samples, validate on 3870 samples\n",
            "Epoch 1/100\n",
            "11610/11610 [==============================] - 1s 47us/sample - loss: 2.0657 - val_loss: 0.9138\n",
            "Epoch 2/100\n",
            "11610/11610 [==============================] - 0s 41us/sample - loss: 0.7505 - val_loss: 0.7314\n",
            "Epoch 3/100\n",
            "11610/11610 [==============================] - 0s 42us/sample - loss: 0.6555 - val_loss: 0.6774\n",
            "Epoch 4/100\n",
            "11610/11610 [==============================] - 0s 38us/sample - loss: 0.6147 - val_loss: 0.6433\n",
            "Epoch 5/100\n",
            "11610/11610 [==============================] - 0s 39us/sample - loss: 0.5857 - val_loss: 0.6163\n",
            "Epoch 6/100\n",
            "11610/11610 [==============================] - 0s 40us/sample - loss: 0.5627 - val_loss: 0.5959\n",
            "Epoch 7/100\n",
            "11610/11610 [==============================] - 0s 40us/sample - loss: 0.5441 - val_loss: 0.5757\n",
            "Epoch 8/100\n",
            "11610/11610 [==============================] - 0s 40us/sample - loss: 0.5283 - val_loss: 0.5617\n",
            "Epoch 9/100\n",
            "11610/11610 [==============================] - 0s 39us/sample - loss: 0.5154 - val_loss: 0.5483\n",
            "Epoch 10/100\n",
            "11610/11610 [==============================] - 0s 40us/sample - loss: 0.5050 - val_loss: 0.5371\n",
            "Epoch 11/100\n",
            "11610/11610 [==============================] - 0s 39us/sample - loss: 0.4962 - val_loss: 0.5289\n",
            "Epoch 12/100\n",
            "11610/11610 [==============================] - 0s 40us/sample - loss: 0.4887 - val_loss: 0.5204\n",
            "Epoch 13/100\n",
            "11610/11610 [==============================] - 0s 40us/sample - loss: 0.4823 - val_loss: 0.5136\n",
            "Epoch 14/100\n",
            "11610/11610 [==============================] - 0s 41us/sample - loss: 0.4765 - val_loss: 0.5078\n",
            "Epoch 15/100\n",
            "11610/11610 [==============================] - 0s 39us/sample - loss: 0.4715 - val_loss: 0.5021\n",
            "Epoch 16/100\n",
            "11610/11610 [==============================] - 0s 38us/sample - loss: 0.4670 - val_loss: 0.4979\n",
            "Epoch 17/100\n",
            "11610/11610 [==============================] - 0s 42us/sample - loss: 0.4630 - val_loss: 0.4926\n",
            "Epoch 18/100\n",
            "11610/11610 [==============================] - 0s 39us/sample - loss: 0.4593 - val_loss: 0.4880\n",
            "Epoch 19/100\n",
            "11610/11610 [==============================] - 0s 40us/sample - loss: 0.4560 - val_loss: 0.4845\n",
            "Epoch 20/100\n",
            "11610/11610 [==============================] - 0s 40us/sample - loss: 0.4526 - val_loss: 0.4815\n",
            "Epoch 21/100\n",
            "11610/11610 [==============================] - 0s 39us/sample - loss: 0.4497 - val_loss: 0.4781\n",
            "Epoch 22/100\n",
            "11610/11610 [==============================] - 0s 40us/sample - loss: 0.4470 - val_loss: 0.4742\n",
            "Epoch 23/100\n",
            "11610/11610 [==============================] - 0s 41us/sample - loss: 0.4443 - val_loss: 0.4717\n",
            "Epoch 24/100\n",
            "11610/11610 [==============================] - 0s 39us/sample - loss: 0.4417 - val_loss: 0.4684\n",
            "Epoch 25/100\n",
            "11610/11610 [==============================] - 0s 42us/sample - loss: 0.4396 - val_loss: 0.4662\n",
            "Epoch 26/100\n",
            "11610/11610 [==============================] - 0s 40us/sample - loss: 0.4371 - val_loss: 0.4642\n",
            "Epoch 27/100\n",
            "11610/11610 [==============================] - 0s 40us/sample - loss: 0.4354 - val_loss: 0.4614\n",
            "Epoch 28/100\n",
            "11610/11610 [==============================] - 0s 40us/sample - loss: 0.4332 - val_loss: 0.4590\n",
            "Epoch 29/100\n",
            "11610/11610 [==============================] - 0s 39us/sample - loss: 0.4313 - val_loss: 0.4569\n",
            "Epoch 30/100\n",
            "11610/11610 [==============================] - 0s 40us/sample - loss: 0.4295 - val_loss: 0.4547\n",
            "Epoch 31/100\n",
            "11610/11610 [==============================] - 0s 41us/sample - loss: 0.4276 - val_loss: 0.4532\n",
            "Epoch 32/100\n",
            "11610/11610 [==============================] - 0s 41us/sample - loss: 0.4264 - val_loss: 0.4506\n",
            "Epoch 33/100\n",
            "11610/11610 [==============================] - 0s 40us/sample - loss: 0.4246 - val_loss: 0.4497\n",
            "Epoch 34/100\n",
            "11610/11610 [==============================] - 0s 39us/sample - loss: 0.4231 - val_loss: 0.4475\n",
            "Train on 11610 samples, validate on 3870 samples\n",
            "Epoch 1/100\n",
            "11610/11610 [==============================] - 1s 49us/sample - loss: 1.2605 - val_loss: 0.7461\n",
            "Epoch 2/100\n",
            "11610/11610 [==============================] - 0s 42us/sample - loss: 0.6590 - val_loss: 0.6483\n",
            "Epoch 3/100\n",
            "11610/11610 [==============================] - 0s 39us/sample - loss: 0.5687 - val_loss: 0.5967\n",
            "Epoch 4/100\n",
            "11610/11610 [==============================] - 0s 38us/sample - loss: 0.6332 - val_loss: 0.5635\n",
            "Epoch 5/100\n",
            "11610/11610 [==============================] - 0s 40us/sample - loss: 0.5740 - val_loss: 0.5546\n",
            "Epoch 6/100\n",
            "11610/11610 [==============================] - 0s 41us/sample - loss: 0.5358 - val_loss: 0.5161\n",
            "Epoch 7/100\n",
            "11610/11610 [==============================] - 0s 40us/sample - loss: 0.4791 - val_loss: 0.5022\n",
            "Epoch 8/100\n",
            "11610/11610 [==============================] - 0s 41us/sample - loss: 0.4656 - val_loss: 0.4876\n",
            "Epoch 9/100\n",
            "11610/11610 [==============================] - 0s 41us/sample - loss: 0.4572 - val_loss: 0.4825\n",
            "Epoch 10/100\n",
            "11610/11610 [==============================] - 0s 40us/sample - loss: 0.4494 - val_loss: 0.4676\n",
            "Epoch 11/100\n",
            "11610/11610 [==============================] - 0s 41us/sample - loss: 0.4413 - val_loss: 0.4610\n",
            "Epoch 12/100\n",
            "11610/11610 [==============================] - 0s 40us/sample - loss: 0.4374 - val_loss: 0.4548\n",
            "Epoch 13/100\n",
            "11610/11610 [==============================] - 0s 40us/sample - loss: 0.4317 - val_loss: 0.4517\n",
            "Epoch 14/100\n",
            "11610/11610 [==============================] - 0s 41us/sample - loss: 0.4268 - val_loss: 0.4455\n",
            "Epoch 15/100\n",
            "11610/11610 [==============================] - 0s 39us/sample - loss: 0.4231 - val_loss: 0.4421\n",
            "Epoch 16/100\n",
            "11610/11610 [==============================] - 0s 41us/sample - loss: 0.4203 - val_loss: 0.4378\n",
            "Epoch 17/100\n",
            "11610/11610 [==============================] - 0s 39us/sample - loss: 0.4163 - val_loss: 0.4361\n",
            "Epoch 18/100\n",
            "11610/11610 [==============================] - 0s 42us/sample - loss: 0.4134 - val_loss: 0.4313\n",
            "Epoch 19/100\n",
            "11610/11610 [==============================] - 0s 41us/sample - loss: 0.4104 - val_loss: 0.4290\n",
            "Epoch 20/100\n",
            "11610/11610 [==============================] - 0s 39us/sample - loss: 0.4079 - val_loss: 0.4284\n",
            "Epoch 21/100\n",
            "11610/11610 [==============================] - 0s 39us/sample - loss: 0.4059 - val_loss: 0.4228\n",
            "Epoch 22/100\n",
            "11610/11610 [==============================] - 0s 40us/sample - loss: 0.4026 - val_loss: 0.4191\n",
            "Epoch 23/100\n",
            "11610/11610 [==============================] - 0s 40us/sample - loss: 0.4009 - val_loss: 0.4186\n",
            "Epoch 24/100\n",
            "11610/11610 [==============================] - 0s 40us/sample - loss: 0.3983 - val_loss: 0.4162\n",
            "Epoch 25/100\n",
            "11610/11610 [==============================] - 0s 41us/sample - loss: 0.3963 - val_loss: 0.4153\n",
            "Epoch 26/100\n",
            "11610/11610 [==============================] - 0s 41us/sample - loss: 0.3951 - val_loss: 0.4119\n",
            "Epoch 27/100\n",
            "11610/11610 [==============================] - 0s 41us/sample - loss: 0.3932 - val_loss: 0.4107\n",
            "Train on 11610 samples, validate on 3870 samples\n",
            "Epoch 1/100\n",
            "11610/11610 [==============================] - 1s 55us/sample - loss: 1.1275 - val_loss: 0.6356\n",
            "Epoch 2/100\n",
            "11610/11610 [==============================] - 0s 42us/sample - loss: 0.5074 - val_loss: 0.4702\n",
            "Epoch 3/100\n",
            "11610/11610 [==============================] - 0s 41us/sample - loss: 0.4345 - val_loss: 0.5023\n",
            "Epoch 4/100\n",
            "11610/11610 [==============================] - 0s 40us/sample - loss: 0.4139 - val_loss: 0.4186\n",
            "Epoch 5/100\n",
            "11610/11610 [==============================] - 0s 41us/sample - loss: 0.3986 - val_loss: 0.4067\n",
            "Epoch 6/100\n",
            "11610/11610 [==============================] - 0s 38us/sample - loss: 0.3899 - val_loss: 0.3976\n",
            "Epoch 7/100\n",
            "11610/11610 [==============================] - 0s 40us/sample - loss: 0.3843 - val_loss: 0.3905\n",
            "Epoch 8/100\n",
            "11610/11610 [==============================] - 0s 41us/sample - loss: 0.3780 - val_loss: 0.3895\n",
            "Epoch 9/100\n",
            "11610/11610 [==============================] - 0s 39us/sample - loss: 0.3747 - val_loss: 0.3880\n",
            "Epoch 10/100\n",
            "11610/11610 [==============================] - 0s 41us/sample - loss: 0.3731 - val_loss: 0.4184\n",
            "Epoch 11/100\n",
            "11610/11610 [==============================] - 0s 41us/sample - loss: 0.3686 - val_loss: 0.3759\n",
            "Epoch 12/100\n",
            "11610/11610 [==============================] - 0s 40us/sample - loss: 0.3673 - val_loss: 0.3740\n",
            "Epoch 13/100\n",
            "11610/11610 [==============================] - 0s 41us/sample - loss: 0.3632 - val_loss: 0.3716\n",
            "Epoch 14/100\n",
            "11610/11610 [==============================] - 0s 41us/sample - loss: 0.3619 - val_loss: 0.3705\n",
            "Epoch 15/100\n",
            "11610/11610 [==============================] - 0s 41us/sample - loss: 0.3618 - val_loss: 0.3701\n",
            "Epoch 16/100\n",
            "11610/11610 [==============================] - 0s 40us/sample - loss: 0.3582 - val_loss: 0.3694\n",
            "Train on 11610 samples, validate on 3870 samples\n",
            "Epoch 1/100\n",
            "11610/11610 [==============================] - 1s 53us/sample - loss: 1.1183 - val_loss: 3.7377\n",
            "Epoch 2/100\n",
            "11610/11610 [==============================] - 0s 40us/sample - loss: 0.4640 - val_loss: 0.4204\n",
            "Epoch 3/100\n",
            "11610/11610 [==============================] - 0s 43us/sample - loss: 0.4002 - val_loss: 0.4050\n",
            "Epoch 4/100\n",
            "11610/11610 [==============================] - 0s 42us/sample - loss: 0.3910 - val_loss: 0.3929\n",
            "Epoch 5/100\n",
            "11610/11610 [==============================] - 0s 42us/sample - loss: 0.3804 - val_loss: 0.3854\n",
            "Epoch 6/100\n",
            "11610/11610 [==============================] - 0s 43us/sample - loss: 0.3735 - val_loss: 0.3857\n",
            "Epoch 7/100\n",
            "11610/11610 [==============================] - 1s 44us/sample - loss: 0.3847 - val_loss: 0.3746\n",
            "Epoch 8/100\n",
            "11610/11610 [==============================] - 1s 43us/sample - loss: 0.3631 - val_loss: 0.3694\n",
            "Epoch 9/100\n",
            "11610/11610 [==============================] - 0s 43us/sample - loss: 0.3593 - val_loss: 0.3859\n",
            "Epoch 10/100\n",
            "11610/11610 [==============================] - 0s 42us/sample - loss: 0.3558 - val_loss: 0.7031\n",
            "Epoch 11/100\n",
            "11610/11610 [==============================] - 0s 42us/sample - loss: 0.3574 - val_loss: 0.4251\n",
            "Epoch 12/100\n",
            "11610/11610 [==============================] - 0s 41us/sample - loss: 0.3558 - val_loss: 0.3679\n"
          ],
          "name": "stdout"
        }
      ]
    },
    {
      "cell_type": "code",
      "metadata": {
        "id": "T6YXbmrlgU49",
        "colab_type": "code",
        "colab": {
          "base_uri": "https://localhost:8080/",
          "height": 1000
        },
        "outputId": "a888bfef-0973-4e02-c082-2367f7716983"
      },
      "source": [
        "def plot_learning_curves(history):\n",
        "    pd.DataFrame(history.history).plot(figsize=(8, 5))\n",
        "    plt.grid(True)\n",
        "    plt.gca().set_ylim(0, 1)\n",
        "    plt.show()\n",
        "for lr, history in zip(learning_rates, histories):\n",
        "    print(\"Learning rate: \", lr)\n",
        "    plot_learning_curves(history)"
      ],
      "execution_count": 6,
      "outputs": [
        {
          "output_type": "stream",
          "text": [
            "Learning rate:  0.0001\n"
          ],
          "name": "stdout"
        },
        {
          "output_type": "display_data",
          "data": {
            "image/png": "[encoded data removed]",
            "text/plain": [
              "<Figure size 576x360 with 1 Axes>"
            ]
          },
          "metadata": {
            "tags": []
          }
        },
        {
          "output_type": "stream",
          "text": [
            "Learning rate:  0.0003\n"
          ],
          "name": "stdout"
        },
        {
          "output_type": "display_data",
          "data": {
            "image/png": "[encoded data removed]",
            "text/plain": [
              "<Figure size 576x360 with 1 Axes>"
            ]
          },
          "metadata": {
            "tags": []
          }
        },
        {
          "output_type": "stream",
          "text": [
            "Learning rate:  0.001\n"
          ],
          "name": "stdout"
        },
        {
          "output_type": "display_data",
          "data": {
            "image/png": "[encoded data removed]",
            "text/plain": [
              "<Figure size 576x360 with 1 Axes>"
            ]
          },
          "metadata": {
            "tags": []
          }
        },
        {
          "output_type": "stream",
          "text": [
            "Learning rate:  0.003\n"
          ],
          "name": "stdout"
        },
        {
          "output_type": "display_data",
          "data": {
            "image/png": "[encoded data removed]",
            "text/plain": [
              "<Figure size 576x360 with 1 Axes>"
            ]
          },
          "metadata": {
            "tags": []
          }
        },
        {
          "output_type": "stream",
          "text": [
            "Learning rate:  0.01\n"
          ],
          "name": "stdout"
        },
        {
          "output_type": "display_data",
          "data": {
            "image/png": "[encoded data removed]",
            "text/plain": [
              "<Figure size 576x360 with 1 Axes>"
            ]
          },
          "metadata": {
            "tags": []
          }
        },
        {
          "output_type": "stream",
          "text": [
            "Learning rate:  0.03\n"
          ],
          "name": "stdout"
        },
        {
          "output_type": "display_data",
          "data": {
            "image/png": "[encoded data removed]",
            "text/plain": [
              "<Figure size 576x360 with 1 Axes>"
            ]
          },
          "metadata": {
            "tags": []
          }
        }
      ]
    },
    {
      "cell_type": "code",
      "metadata": {
        "id": "pbEav0uvgU5B",
        "colab_type": "code",
        "colab": {}
      },
      "source": [
        ""
      ],
      "execution_count": 0,
      "outputs": []
    }
  ]
}