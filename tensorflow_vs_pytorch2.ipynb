{
  "nbformat": 4,
  "nbformat_minor": 0,
  "metadata": {
    "colab": {
      "name": "tensorflow_vs_pytorch2.ipynb",
      "provenance": [],
      "authorship_tag": "ABX9TyPVcwTFI44WjDQnruIpJU4x",
      "include_colab_link": true
    },
    "kernelspec": {
      "name": "python3",
      "display_name": "Python 3"
    }
  },
  "cells": [
    {
      "cell_type": "markdown",
      "metadata": {
        "id": "view-in-github",
        "colab_type": "text"
      },
      "source": [
        "<a href=\"https://colab.research.google.com/github/mingmingbupt/tensorflow/blob/master/tensorflow_vs_pytorch2.ipynb\" target=\"_parent\"><img src=\"https://colab.research.google.com/assets/colab-badge.svg\" alt=\"Open In Colab\"/></a>"
      ]
    },
    {
      "cell_type": "code",
      "metadata": {
        "id": "X2xz8vFlQyh_",
        "colab_type": "code",
        "outputId": "5d678f28-5425-42c6-c8fc-3bf4987967fe",
        "colab": {
          "base_uri": "https://localhost:8080/",
          "height": 65
        }
      },
      "source": [
        "import tensorflow as tf\n",
        "tf.enable_eager_execution() #tensorflow 2.0 默认是打开eager模式的，在tensorflow1.3版本以后，可以手动打开，但是打开以后无法关闭"
      ],
      "execution_count": 0,
      "outputs": [
        {
          "output_type": "display_data",
          "data": {
            "text/html": [
              "<p style=\"color: red;\">\n",
              "The default version of TensorFlow in Colab will soon switch to TensorFlow 2.x.<br>\n",
              "We recommend you <a href=\"https://www.tensorflow.org/guide/migrate\" target=\"_blank\">upgrade</a> now \n",
              "or ensure your notebook will continue to use TensorFlow 1.x via the <code>%tensorflow_version 1.x</code> magic:\n",
              "<a href=\"https://colab.research.google.com/notebooks/tensorflow_version.ipynb\" target=\"_blank\">more info</a>.</p>\n"
            ],
            "text/plain": [
              "<IPython.core.display.HTML object>"
            ]
          },
          "metadata": {
            "tags": []
          }
        }
      ]
    },
    {
      "cell_type": "code",
      "metadata": {
        "id": "TzSO5MG9RnVh",
        "colab_type": "code",
        "outputId": "52044e26-5697-4aef-e538-f80818e326ce",
        "colab": {
          "base_uri": "https://localhost:8080/",
          "height": 53
        }
      },
      "source": [
        "print(tf.__version__)\n",
        "x = tf.Variable(0.)  # x = tf.constant(0.)\n",
        "y = tf.Variable(1.)  # y = tf.constant(1.)\n",
        "for iteration in range(50) :\n",
        "  x = x + y\n",
        "  y = y / 2\n",
        "print(x.numpy())"
      ],
      "execution_count": 0,
      "outputs": [
        {
          "output_type": "stream",
          "text": [
            "1.15.0\n",
            "2.0\n"
          ],
          "name": "stdout"
        }
      ]
    },
    {
      "cell_type": "code",
      "metadata": {
        "id": "uX6yCo9wShO1",
        "colab_type": "code",
        "outputId": "73967974-a8b9-45ee-ece6-c2b40e5ca3e5",
        "colab": {
          "base_uri": "https://localhost:8080/",
          "height": 35
        }
      },
      "source": [
        "#纯python\n",
        "x = 0.\n",
        "y = 1.\n",
        "for iteartion in range(50) :\n",
        "  x = x + y\n",
        "  y = y / 2\n",
        "print(x)"
      ],
      "execution_count": 0,
      "outputs": [
        {
          "output_type": "stream",
          "text": [
            "1.9999999999999982\n"
          ],
          "name": "stdout"
        }
      ]
    }
  ]
}