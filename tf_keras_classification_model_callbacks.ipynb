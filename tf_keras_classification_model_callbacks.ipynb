{
  "nbformat": 4,
  "nbformat_minor": 0,
  "metadata": {
    "kernelspec": {
      "name": "python3",
      "display_name": "Python 3"
    },
    "language_info": {
      "codemirror_mode": {
        "name": "ipython",
        "version": 3
      },
      "file_extension": ".py",
      "mimetype": "text/x-python",
      "name": "python",
      "nbconvert_exporter": "python",
      "pygments_lexer": "ipython3",
      "version": "3.7.3"
    },
    "colab": {
      "name": "tf_keras_classification_model-callbacks.ipynb",
      "provenance": [],
      "include_colab_link": true
    },
    "accelerator": "TPU"
  },
  "cells": [
    {
      "cell_type": "markdown",
      "metadata": {
        "id": "view-in-github",
        "colab_type": "text"
      },
      "source": [
        "<a href=\"https://colab.research.google.com/github/mingmingbupt/tensorflow/blob/master/tf_keras_classification_model_callbacks.ipynb\" target=\"_parent\"><img src=\"https://colab.research.google.com/assets/colab-badge.svg\" alt=\"Open In Colab\"/></a>"
      ]
    },
    {
      "cell_type": "code",
      "metadata": {
        "id": "TqgnLDFLa78t",
        "colab_type": "code",
        "outputId": "766101a6-e1fe-4552-b606-75614d041266",
        "colab": {
          "base_uri": "https://localhost:8080/",
          "height": 209
        }
      },
      "source": [
        "#%tensorflow_version 2.x\n",
        "import matplotlib as mpl\n",
        "import matplotlib.pyplot as plt\n",
        "%matplotlib inline\n",
        "import numpy as np\n",
        "import sklearn\n",
        "import pandas as pd\n",
        "import os\n",
        "import sys\n",
        "import time\n",
        "import tensorflow as tf\n",
        "\n",
        "from tensorflow import keras\n",
        "\n",
        "print(tf.__version__)\n",
        "print(sys.version_info)\n",
        "for module in mpl, np, pd, sklearn, tf, keras:\n",
        "    print(module.__name__, module.__version__)\n"
      ],
      "execution_count": 2,
      "outputs": [
        {
          "output_type": "display_data",
          "data": {
            "text/html": [
              "<p style=\"color: red;\">\n",
              "The default version of TensorFlow in Colab will soon switch to TensorFlow 2.x.<br>\n",
              "We recommend you <a href=\"https://www.tensorflow.org/guide/migrate\" target=\"_blank\">upgrade</a> now \n",
              "or ensure your notebook will continue to use TensorFlow 1.x via the <code>%tensorflow_version 1.x</code> magic:\n",
              "<a href=\"https://colab.research.google.com/notebooks/tensorflow_version.ipynb\" target=\"_blank\">more info</a>.</p>\n"
            ],
            "text/plain": [
              "<IPython.core.display.HTML object>"
            ]
          },
          "metadata": {
            "tags": []
          }
        },
        {
          "output_type": "stream",
          "text": [
            "1.15.0\n",
            "sys.version_info(major=3, minor=6, micro=9, releaselevel='final', serial=0)\n",
            "matplotlib 3.2.0\n",
            "numpy 1.18.2\n",
            "pandas 0.25.3\n",
            "sklearn 0.22.2.post1\n",
            "tensorflow 1.15.0\n",
            "tensorflow.python.keras.api._v1.keras 2.2.4-tf\n"
          ],
          "name": "stdout"
        }
      ]
    },
    {
      "cell_type": "code",
      "metadata": {
        "id": "WA5obTUKa780",
        "colab_type": "code",
        "outputId": "c25c562e-7819-4f66-9be1-eac9d55475d4",
        "colab": {
          "base_uri": "https://localhost:8080/",
          "height": 71
        }
      },
      "source": [
        "fashion_mnist = keras.datasets.fashion_mnist\n",
        "(x_train_all, y_train_all), (x_test, y_test) = fashion_mnist.load_data()\n",
        "x_valid, x_train = x_train_all[:5000], x_train_all[5000:]\n",
        "y_valid, y_train = y_train_all[:5000], y_train_all[5000:]\n",
        "\n",
        "print(x_valid.shape, y_valid.shape)\n",
        "print(x_train.shape, y_train.shape)\n",
        "print(x_test.shape, y_test.shape)"
      ],
      "execution_count": 3,
      "outputs": [
        {
          "output_type": "stream",
          "text": [
            "(5000, 28, 28) (5000,)\n",
            "(55000, 28, 28) (55000,)\n",
            "(10000, 28, 28) (10000,)\n"
          ],
          "name": "stdout"
        }
      ]
    },
    {
      "cell_type": "code",
      "metadata": {
        "id": "cbQEfVC6a784",
        "colab_type": "code",
        "colab": {}
      },
      "source": [
        "# x = (x - u) / std\n",
        "\n",
        "from sklearn.preprocessing import StandardScaler\n",
        "\n",
        "scaler = StandardScaler()\n",
        "# x_train: [None, 28, 28] -> [None, 784]\n",
        "x_train_scaled = scaler.fit_transform(\n",
        "    x_train.astype(np.float32).reshape(-1, 1)).reshape(-1, 28, 28)\n",
        "x_valid_scaled = scaler.transform(\n",
        "    x_valid.astype(np.float32).reshape(-1, 1)).reshape(-1, 28, 28)\n",
        "x_test_scaled = scaler.transform(\n",
        "    x_test.astype(np.float32).reshape(-1, 1)).reshape(-1, 28, 28)\n"
      ],
      "execution_count": 0,
      "outputs": []
    },
    {
      "cell_type": "code",
      "metadata": {
        "id": "CKGMM3GEa787",
        "colab_type": "code",
        "colab": {
          "base_uri": "https://localhost:8080/",
          "height": 91
        },
        "outputId": "6403af7d-b4ce-4925-c9e4-3b1065a52d0d"
      },
      "source": [
        "# tf.keras.models.Sequential()\n",
        "\n",
        "\"\"\"\n",
        "model = keras.models.Sequential()\n",
        "model.add(keras.layers.Flatten(input_shape=[28, 28]))\n",
        "model.add(keras.layers.Dense(300, activation=\"relu\"))\n",
        "model.add(keras.layers.Dense(100, activation=\"relu\"))\n",
        "model.add(keras.layers.Dense(10, activation=\"softmax\"))\n",
        "\"\"\"\n",
        "\n",
        "model = keras.models.Sequential([\n",
        "    keras.layers.Flatten(input_shape=[28, 28]),\n",
        "    keras.layers.Dense(300, activation='relu'),\n",
        "    keras.layers.Dense(100, activation='relu'),\n",
        "    keras.layers.Dense(10, activation='softmax')\n",
        "])\n",
        "\n",
        "# relu: y = max(0, x)\n",
        "# softmax: 将向量变成概率分布. x = [x1, x2, x3], \n",
        "#          y = [e^x1/sum, e^x2/sum, e^x3/sum], sum = e^x1 + e^x2 + e^x3\n",
        "\n",
        "# reason for sparse: y->index. y->one_hot->[] \n",
        "model.compile(loss=\"sparse_categorical_crossentropy\",\n",
        "              optimizer = \"sgd\",\n",
        "              metrics = [\"accuracy\"])"
      ],
      "execution_count": 5,
      "outputs": [
        {
          "output_type": "stream",
          "text": [
            "WARNING:tensorflow:From /tensorflow-1.15.0/python3.6/tensorflow_core/python/ops/resource_variable_ops.py:1630: calling BaseResourceVariable.__init__ (from tensorflow.python.ops.resource_variable_ops) with constraint is deprecated and will be removed in a future version.\n",
            "Instructions for updating:\n",
            "If using Keras pass *_constraint arguments to layers.\n"
          ],
          "name": "stdout"
        }
      ]
    },
    {
      "cell_type": "code",
      "metadata": {
        "id": "x8Ucsrv7a78-",
        "colab_type": "code",
        "outputId": "2d5714cc-72be-43f8-cb3a-ce74e50dfddd",
        "colab": {
          "base_uri": "https://localhost:8080/",
          "height": 395
        }
      },
      "source": [
        "# Tensorboard, earlystopping, ModelCheckpoint\n",
        "#用于tensorboard\n",
        "logdir = 'tb_logs'\n",
        "if not os.path.exists(logdir):\n",
        "    os.mkdir(logdir)\n",
        "\n",
        "#用于存储checkpoint\n",
        "output_model_file = os.path.join(logdir,\"fashion_mnist_model.h5\")\n",
        "\n",
        "\n",
        "#callback是在训练过程中做一些监听，所以是在fit函数里对callback进行添加\n",
        "#添加方式 就是我们定义一个callback的数组，在fit函数里把这个数组作为参数传进来\n",
        "#我们在数组里就定义了我们需要的callback,这里用了三个callback, tensorboard, checkpoint, earlystoping\n",
        "#对于tensorboard 我需要的是一个文件夹\n",
        "#对于checkpint 我需要的是一个文件名\n",
        "\n",
        "callbacks = [\n",
        "    keras.callbacks.TensorBoard(logdir),  # tensorboard的callback\n",
        "    keras.callbacks.ModelCheckpoint(output_model_file, save_best_only = True), # model checkpoint 的callback，保存最好的模型，默认会保存最近的模型\n",
        "    keras.callbacks.EarlyStopping(patience=5, min_delta=1e-3),\n",
        "    # early stopping 比较重要的是三个参数\n",
        "    # 第一个参数 monitor: 我要关注的是哪一个指标，一般呢，我们关注的是验证集合目标函数的值\n",
        "    # 第二个参数 min_dilta： 一个阈值，这次训练和上次训练的差距是不是比这个阈值低，如果高的话，就不用early stopping\n",
        "    # 第三个参数 patience ： 当我前后两次目标函数值的差距比这个min_dilta要小的时候，那我连续多少次这样的情况，我就要把他提前关闭\n",
        "]\n",
        "history = model.fit(x_train_scaled, y_train, epochs=10,\n",
        "                    validation_data=(x_valid_scaled, y_valid),\n",
        "                    callbacks = callbacks)"
      ],
      "execution_count": 6,
      "outputs": [
        {
          "output_type": "stream",
          "text": [
            "Train on 55000 samples, validate on 5000 samples\n",
            "Epoch 1/10\n",
            "55000/55000 [==============================] - 5s 91us/sample - loss: 0.5331 - acc: 0.8098 - val_loss: 0.4096 - val_acc: 0.8538\n",
            "Epoch 2/10\n",
            "55000/55000 [==============================] - 5s 85us/sample - loss: 0.3887 - acc: 0.8619 - val_loss: 0.3681 - val_acc: 0.8688\n",
            "Epoch 3/10\n",
            "55000/55000 [==============================] - 5s 86us/sample - loss: 0.3496 - acc: 0.8738 - val_loss: 0.3431 - val_acc: 0.8800\n",
            "Epoch 4/10\n",
            "55000/55000 [==============================] - 5s 84us/sample - loss: 0.3244 - acc: 0.8829 - val_loss: 0.3332 - val_acc: 0.8812\n",
            "Epoch 5/10\n",
            "55000/55000 [==============================] - 5s 84us/sample - loss: 0.3060 - acc: 0.8889 - val_loss: 0.3398 - val_acc: 0.8822\n",
            "Epoch 6/10\n",
            "55000/55000 [==============================] - 5s 86us/sample - loss: 0.2894 - acc: 0.8935 - val_loss: 0.3217 - val_acc: 0.8838\n",
            "Epoch 7/10\n",
            "55000/55000 [==============================] - 5s 84us/sample - loss: 0.2751 - acc: 0.8997 - val_loss: 0.3234 - val_acc: 0.8810\n",
            "Epoch 8/10\n",
            "55000/55000 [==============================] - 5s 83us/sample - loss: 0.2623 - acc: 0.9051 - val_loss: 0.3110 - val_acc: 0.8868\n",
            "Epoch 9/10\n",
            "55000/55000 [==============================] - 5s 83us/sample - loss: 0.2521 - acc: 0.9090 - val_loss: 0.3092 - val_acc: 0.8896\n",
            "Epoch 10/10\n",
            "55000/55000 [==============================] - 5s 83us/sample - loss: 0.2413 - acc: 0.9126 - val_loss: 0.3037 - val_acc: 0.8892\n"
          ],
          "name": "stdout"
        }
      ]
    },
    {
      "cell_type": "code",
      "metadata": {
        "id": "9Fy4FeY2a79B",
        "colab_type": "code",
        "outputId": "d0909d55-a012-4786-82c9-becd515712c7",
        "colab": {
          "base_uri": "https://localhost:8080/",
          "height": 324
        }
      },
      "source": [
        "def plot_learning_curves(history):\n",
        "    pd.DataFrame(history.history).plot(figsize=(8, 5))\n",
        "    plt.grid(True)\n",
        "    plt.gca().set_ylim(0, 1)\n",
        "    plt.show()\n",
        "\n",
        "plot_learning_curves(history)"
      ],
      "execution_count": 7,
      "outputs": [
        {
          "output_type": "display_data",
          "data": {
            "image/png": "[encoded data removed]",
            "text/plain": [
              "<Figure size 576x360 with 1 Axes>"
            ]
          },
          "metadata": {
            "tags": []
          }
        }
      ]
    },
    {
      "cell_type": "code",
      "metadata": {
        "id": "ga_Bj04Ga79F",
        "colab_type": "code",
        "outputId": "42dc0e94-7177-4e90-f16d-01b7ec41dc70",
        "colab": {
          "base_uri": "https://localhost:8080/",
          "height": 53
        }
      },
      "source": [
        "model.evaluate(x_test_scaled, y_test)"
      ],
      "execution_count": 8,
      "outputs": [
        {
          "output_type": "stream",
          "text": [
            "10000/10000 [==============================] - 0s 40us/sample - loss: 0.3377 - acc: 0.8802\n"
          ],
          "name": "stdout"
        },
        {
          "output_type": "execute_result",
          "data": {
            "text/plain": [
              "[0.3376764321565628, 0.8802]"
            ]
          },
          "metadata": {
            "tags": []
          },
          "execution_count": 8
        }
      ]
    },
    {
      "cell_type": "code",
      "metadata": {
        "id": "QAbZok-oa79I",
        "colab_type": "code",
        "colab": {
          "base_uri": "https://localhost:8080/",
          "height": 71
        },
        "outputId": "9a16c02d-9a1e-4c3a-8c32-a8592513ef8f"
      },
      "source": [
        "!ls tb_logs"
      ],
      "execution_count": 9,
      "outputs": [
        {
          "output_type": "stream",
          "text": [
            "events.out.tfevents.1584862937.2638565c0db2\t\t   plugins\n",
            "events.out.tfevents.1584862937.2638565c0db2.profile-empty  train\n",
            "fashion_mnist_model.h5\t\t\t\t\t   validation\n"
          ],
          "name": "stdout"
        }
      ]
    },
    {
      "cell_type": "markdown",
      "metadata": {
        "id": "4LPF1uW4IXg8",
        "colab_type": "text"
      },
      "source": [
        "# 新段落"
      ]
    },
    {
      "cell_type": "code",
      "metadata": {
        "id": "tJZydzsl9gcj",
        "colab_type": "code",
        "colab": {
          "base_uri": "https://localhost:8080/",
          "height": 269
        },
        "outputId": "ffc40d06-c74e-4021-f8d8-5199be2fd32a"
      },
      "source": [
        "!wget https://bin.equinox.io/c/4VmDzA7iaHb/ngrok-stable-linux-amd64.zip\n",
        "!unzip ngrok-stable-linux-amd64.zip\n",
        "\n",
        "# 添加TensorBoard的路径\n",
        "import os\n",
        "log_dir = 'tb_logs'\n",
        "if not os.path.exists(log_dir):\n",
        "  os.makedirs(log_dir)\n",
        "\n",
        "# 开启ngrok service，绑定port 6006(tensorboard)\n",
        "get_ipython().system_raw('tensorboard --logdir {} --host 0.0.0.0 --port 6006 &'.format(log_dir))\n",
        "get_ipython().system_raw('./ngrok http 6006 &')\n",
        "\n",
        "# 产生网站，点击网站访问tensorboard\n",
        "#!curl -s http://localhost:4040/api/tunnels | python3 -c \"import sys, json; print(json.load(sys.stdin)['tunnels'][0]['public_url'])\""
      ],
      "execution_count": 10,
      "outputs": [
        {
          "output_type": "stream",
          "text": [
            "--2020-03-22 07:43:23--  https://bin.equinox.io/c/4VmDzA7iaHb/ngrok-stable-linux-amd64.zip\n",
            "Resolving bin.equinox.io (bin.equinox.io)... 52.20.119.24, 3.227.142.238, 52.72.182.203, ...\n",
            "Connecting to bin.equinox.io (bin.equinox.io)|52.20.119.24|:443... connected.\n",
            "HTTP request sent, awaiting response... 200 OK\n",
            "Length: 13773305 (13M) [application/octet-stream]\n",
            "Saving to: ‘ngrok-stable-linux-amd64.zip.5’\n",
            "\n",
            "\r          ngrok-sta   0%[                    ]       0  --.-KB/s               \r         ngrok-stab  11%[=>                  ]   1.52M  7.25MB/s               \rngrok-stable-linux- 100%[===================>]  13.13M  35.1MB/s    in 0.4s    \n",
            "\n",
            "2020-03-22 07:43:23 (35.1 MB/s) - ‘ngrok-stable-linux-amd64.zip.5’ saved [13773305/13773305]\n",
            "\n",
            "Archive:  ngrok-stable-linux-amd64.zip\n",
            "replace ngrok? [y]es, [n]o, [A]ll, [N]one, [r]ename: y\n",
            "  inflating: ngrok                   \n"
          ],
          "name": "stdout"
        }
      ]
    },
    {
      "cell_type": "code",
      "metadata": {
        "id": "aWOplBAa-54O",
        "colab_type": "code",
        "outputId": "2e477764-c158-4b46-a4a0-27985edf480f",
        "colab": {
          "base_uri": "https://localhost:8080/",
          "height": 35
        }
      },
      "source": [
        "# 产生网站，点击网站访问tensorboard\n",
        "!curl -s http://localhost:4040/api/tunnels | python3 -c \"import sys,json;print(json.load(sys.stdin)['tunnels'][0]['public_url'])\""
      ],
      "execution_count": 11,
      "outputs": [
        {
          "output_type": "stream",
          "text": [
            "https://c36b4956.ngrok.io\n"
          ],
          "name": "stdout"
        }
      ]
    }
  ]
}