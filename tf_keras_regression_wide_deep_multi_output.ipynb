{
  "nbformat": 4,
  "nbformat_minor": 0,
  "metadata": {
    "kernelspec": {
      "display_name": "Python 3",
      "language": "python",
      "name": "python3"
    },
    "language_info": {
      "codemirror_mode": {
        "name": "ipython",
        "version": 3
      },
      "file_extension": ".py",
      "mimetype": "text/x-python",
      "name": "python",
      "nbconvert_exporter": "python",
      "pygments_lexer": "ipython3",
      "version": "3.7.3"
    },
    "colab": {
      "name": "tf_keras_regression-wide_deep-multi-output.ipynb",
      "provenance": [],
      "include_colab_link": true
    }
  },
  "cells": [
    {
      "cell_type": "markdown",
      "metadata": {
        "id": "view-in-github",
        "colab_type": "text"
      },
      "source": [
        "<a href=\"https://colab.research.google.com/github/mingmingbupt/tensorflow/blob/master/tf_keras_regression_wide_deep_multi_output.ipynb\" target=\"_parent\"><img src=\"https://colab.research.google.com/assets/colab-badge.svg\" alt=\"Open In Colab\"/></a>"
      ]
    },
    {
      "cell_type": "code",
      "metadata": {
        "id": "Vt895Q0ecH3j",
        "colab_type": "code",
        "colab": {
          "base_uri": "https://localhost:8080/",
          "height": 161
        },
        "outputId": "df9784c3-6886-4ba4-d40c-527e86eafc8a"
      },
      "source": [
        "import matplotlib as mpl\n",
        "import matplotlib.pyplot as plt\n",
        "%matplotlib inline\n",
        "import numpy as np\n",
        "import sklearn\n",
        "import pandas as pd\n",
        "import os\n",
        "import sys\n",
        "import time\n",
        "import tensorflow as tf\n",
        "\n",
        "from tensorflow import keras\n",
        "\n",
        "print(tf.__version__)\n",
        "print(sys.version_info)\n",
        "for module in mpl, np, pd, sklearn, tf, keras:\n",
        "    print(module.__name__, module.__version__)"
      ],
      "execution_count": 5,
      "outputs": [
        {
          "output_type": "stream",
          "text": [
            "1.15.0\n",
            "sys.version_info(major=3, minor=6, micro=9, releaselevel='final', serial=0)\n",
            "matplotlib 3.2.0\n",
            "numpy 1.18.2\n",
            "pandas 0.25.3\n",
            "sklearn 0.22.2.post1\n",
            "tensorflow 1.15.0\n",
            "tensorflow.python.keras.api._v1.keras 2.2.4-tf\n"
          ],
          "name": "stdout"
        }
      ]
    },
    {
      "cell_type": "code",
      "metadata": {
        "id": "Ciu5tzQBcH3p",
        "colab_type": "code",
        "colab": {
          "base_uri": "https://localhost:8080/",
          "height": 791
        },
        "outputId": "65aaf99f-e685-4b05-f225-acce9f13c628"
      },
      "source": [
        "from sklearn.datasets import fetch_california_housing\n",
        "\n",
        "housing = fetch_california_housing()\n",
        "print(housing.DESCR)\n",
        "print(housing.data.shape)\n",
        "print(housing.target.shape)"
      ],
      "execution_count": 6,
      "outputs": [
        {
          "output_type": "stream",
          "text": [
            ".. _california_housing_dataset:\n",
            "\n",
            "California Housing dataset\n",
            "--------------------------\n",
            "\n",
            "**Data Set Characteristics:**\n",
            "\n",
            "    :Number of Instances: 20640\n",
            "\n",
            "    :Number of Attributes: 8 numeric, predictive attributes and the target\n",
            "\n",
            "    :Attribute Information:\n",
            "        - MedInc        median income in block\n",
            "        - HouseAge      median house age in block\n",
            "        - AveRooms      average number of rooms\n",
            "        - AveBedrms     average number of bedrooms\n",
            "        - Population    block population\n",
            "        - AveOccup      average house occupancy\n",
            "        - Latitude      house block latitude\n",
            "        - Longitude     house block longitude\n",
            "\n",
            "    :Missing Attribute Values: None\n",
            "\n",
            "This dataset was obtained from the StatLib repository.\n",
            "http://lib.stat.cmu.edu/datasets/\n",
            "\n",
            "The target variable is the median house value for California districts.\n",
            "\n",
            "This dataset was derived from the 1990 U.S. census, using one row per census\n",
            "block group. A block group is the smallest geographical unit for which the U.S.\n",
            "Census Bureau publishes sample data (a block group typically has a population\n",
            "of 600 to 3,000 people).\n",
            "\n",
            "It can be downloaded/loaded using the\n",
            ":func:`sklearn.datasets.fetch_california_housing` function.\n",
            "\n",
            ".. topic:: References\n",
            "\n",
            "    - Pace, R. Kelley and Ronald Barry, Sparse Spatial Autoregressions,\n",
            "      Statistics and Probability Letters, 33 (1997) 291-297\n",
            "\n",
            "(20640, 8)\n",
            "(20640,)\n"
          ],
          "name": "stdout"
        }
      ]
    },
    {
      "cell_type": "code",
      "metadata": {
        "id": "samZtd4DcH3s",
        "colab_type": "code",
        "colab": {
          "base_uri": "https://localhost:8080/",
          "height": 71
        },
        "outputId": "e0bfb7ab-2a61-42cc-9b0f-8df75afd9f9a"
      },
      "source": [
        "from sklearn.model_selection import train_test_split\n",
        "\n",
        "x_train_all, x_test, y_train_all, y_test = train_test_split(\n",
        "    housing.data, housing.target, random_state = 7)\n",
        "x_train, x_valid, y_train, y_valid = train_test_split(\n",
        "    x_train_all, y_train_all, random_state = 11)\n",
        "print(x_train.shape, y_train.shape)\n",
        "print(x_valid.shape, y_valid.shape)\n",
        "print(x_test.shape, y_test.shape)\n"
      ],
      "execution_count": 7,
      "outputs": [
        {
          "output_type": "stream",
          "text": [
            "(11610, 8) (11610,)\n",
            "(3870, 8) (3870,)\n",
            "(5160, 8) (5160,)\n"
          ],
          "name": "stdout"
        }
      ]
    },
    {
      "cell_type": "code",
      "metadata": {
        "id": "fohAHvf0cH3v",
        "colab_type": "code",
        "colab": {}
      },
      "source": [
        "from sklearn.preprocessing import StandardScaler\n",
        "\n",
        "scaler = StandardScaler()\n",
        "x_train_scaled = scaler.fit_transform(x_train)\n",
        "x_valid_scaled = scaler.transform(x_valid)\n",
        "x_test_scaled = scaler.transform(x_test)"
      ],
      "execution_count": 0,
      "outputs": []
    },
    {
      "cell_type": "code",
      "metadata": {
        "id": "6UV38dsdcH3y",
        "colab_type": "code",
        "colab": {
          "base_uri": "https://localhost:8080/",
          "height": 505
        },
        "outputId": "f6dc51a0-b709-4cb1-8e5c-1645450edbf6"
      },
      "source": [
        "# 多输出输出并不是wide&deep模型所需要的，而是说我们现实问题中可能遇到的一种形式\n",
        "# 我们来实现下如何在keras里实现多输出的网络结构，多输出的网络结构主要针对多任务学习的问题\n",
        "# 比如说在房价问题里，除了预测当前房价，我们还要预测一年后的房价是多少，那我们就有两个预测任务\n",
        "# 我们这个模型就要给出两个预测结果\n",
        "# 多输出的实现方法如下\n",
        "# 这里假设另一个问题呢 也是预测当前房价，这样这两个问题都是预测当前房价，我们把第二个任务放到hidden2上去实现。\n",
        "# 也就是hidden2 经过全连接层再输出一个值\n",
        "input_wide = keras.layers.Input(shape=[5])\n",
        "input_deep = keras.layers.Input(shape=[6])\n",
        "hidden1 = keras.layers.Dense(30, activation='relu')(input_deep)\n",
        "hidden2 = keras.layers.Dense(30, activation='relu')(hidden1)\n",
        "concat = keras.layers.concatenate([input_wide, hidden2])\n",
        "output = keras.layers.Dense(1)(concat)\n",
        "output2 = keras.layers.Dense(1)(hidden2)\n",
        "model = keras.models.Model(inputs = [input_wide, input_deep],\n",
        "                           outputs = [output, output2])\n",
        "        \n",
        "\n",
        "model.compile(loss=\"mean_squared_error\", optimizer=\"sgd\")\n",
        "callbacks = [keras.callbacks.EarlyStopping(\n",
        "    patience=5, min_delta=1e-2)]\n",
        "model.summary()"
      ],
      "execution_count": 9,
      "outputs": [
        {
          "output_type": "stream",
          "text": [
            "WARNING:tensorflow:From /tensorflow-1.15.0/python3.6/tensorflow_core/python/ops/resource_variable_ops.py:1630: calling BaseResourceVariable.__init__ (from tensorflow.python.ops.resource_variable_ops) with constraint is deprecated and will be removed in a future version.\n",
            "Instructions for updating:\n",
            "If using Keras pass *_constraint arguments to layers.\n",
            "Model: \"model\"\n",
            "__________________________________________________________________________________________________\n",
            "Layer (type)                    Output Shape         Param #     Connected to                     \n",
            "==================================================================================================\n",
            "input_2 (InputLayer)            [(None, 6)]          0                                            \n",
            "__________________________________________________________________________________________________\n",
            "dense (Dense)                   (None, 30)           210         input_2[0][0]                    \n",
            "__________________________________________________________________________________________________\n",
            "input_1 (InputLayer)            [(None, 5)]          0                                            \n",
            "__________________________________________________________________________________________________\n",
            "dense_1 (Dense)                 (None, 30)           930         dense[0][0]                      \n",
            "__________________________________________________________________________________________________\n",
            "concatenate (Concatenate)       (None, 35)           0           input_1[0][0]                    \n",
            "                                                                 dense_1[0][0]                    \n",
            "__________________________________________________________________________________________________\n",
            "dense_2 (Dense)                 (None, 1)            36          concatenate[0][0]                \n",
            "__________________________________________________________________________________________________\n",
            "dense_3 (Dense)                 (None, 1)            31          dense_1[0][0]                    \n",
            "==================================================================================================\n",
            "Total params: 1,207\n",
            "Trainable params: 1,207\n",
            "Non-trainable params: 0\n",
            "__________________________________________________________________________________________________\n"
          ],
          "name": "stdout"
        }
      ]
    },
    {
      "cell_type": "code",
      "metadata": {
        "id": "JXNt6ZNtcH32",
        "colab_type": "code",
        "colab": {
          "base_uri": "https://localhost:8080/",
          "height": 919
        },
        "outputId": "bc58f5b8-e1ba-4a7d-fa59-7080d67bef0e"
      },
      "source": [
        "x_train_scaled_wide = x_train_scaled[:, :5]\n",
        "x_train_scaled_deep = x_train_scaled[:, 2:]\n",
        "x_valid_scaled_wide = x_valid_scaled[:, :5]\n",
        "x_valid_scaled_deep = x_valid_scaled[:, 2:]\n",
        "x_test_scaled_wide = x_test_scaled[:, :5]\n",
        "x_test_scaled_deep = x_test_scaled[:, 2:]\n",
        "\n",
        "history = model.fit([x_train_scaled_wide, x_train_scaled_deep],\n",
        "                    [y_train, y_train],\n",
        "                    validation_data = (\n",
        "                        [x_valid_scaled_wide, x_valid_scaled_deep],\n",
        "                        [y_valid, y_valid]),\n",
        "                    epochs = 100,\n",
        "                    callbacks = callbacks)"
      ],
      "execution_count": 10,
      "outputs": [
        {
          "output_type": "stream",
          "text": [
            "Train on 11610 samples, validate on 3870 samples\n",
            "Epoch 1/100\n",
            "11610/11610 [==============================] - 1s 72us/sample - loss: 2.0848 - dense_2_loss: 0.7276 - dense_3_loss: 1.3565 - val_loss: 1.3774 - val_dense_2_loss: 0.5253 - val_dense_3_loss: 0.8518\n",
            "Epoch 2/100\n",
            "11610/11610 [==============================] - 1s 46us/sample - loss: 1.5680 - dense_2_loss: 0.6689 - dense_3_loss: 0.8986 - val_loss: 1.1502 - val_dense_2_loss: 0.4968 - val_dense_3_loss: 0.6532\n",
            "Epoch 3/100\n",
            "11610/11610 [==============================] - 1s 48us/sample - loss: 0.9750 - dense_2_loss: 0.4400 - dense_3_loss: 0.5351 - val_loss: 0.9754 - val_dense_2_loss: 0.4336 - val_dense_3_loss: 0.5417\n",
            "Epoch 4/100\n",
            "11610/11610 [==============================] - 1s 48us/sample - loss: 0.8755 - dense_2_loss: 0.3963 - dense_3_loss: 0.4791 - val_loss: 0.8692 - val_dense_2_loss: 0.3958 - val_dense_3_loss: 0.4736\n",
            "Epoch 5/100\n",
            "11610/11610 [==============================] - 1s 49us/sample - loss: 0.8395 - dense_2_loss: 0.3831 - dense_3_loss: 0.4561 - val_loss: 0.8523 - val_dense_2_loss: 0.3832 - val_dense_3_loss: 0.4690\n",
            "Epoch 6/100\n",
            "11610/11610 [==============================] - 1s 47us/sample - loss: 0.8068 - dense_2_loss: 0.3663 - dense_3_loss: 0.4405 - val_loss: 0.8099 - val_dense_2_loss: 0.3755 - val_dense_3_loss: 0.4343\n",
            "Epoch 7/100\n",
            "11610/11610 [==============================] - 1s 51us/sample - loss: 0.7860 - dense_2_loss: 0.3598 - dense_3_loss: 0.4259 - val_loss: 0.8127 - val_dense_2_loss: 0.3684 - val_dense_3_loss: 0.4441\n",
            "Epoch 8/100\n",
            "11610/11610 [==============================] - 1s 51us/sample - loss: 0.7744 - dense_2_loss: 0.3521 - dense_3_loss: 0.4222 - val_loss: 0.7923 - val_dense_2_loss: 0.3653 - val_dense_3_loss: 0.4270\n",
            "Epoch 9/100\n",
            "11610/11610 [==============================] - 1s 49us/sample - loss: 0.7649 - dense_2_loss: 0.3499 - dense_3_loss: 0.4150 - val_loss: 0.8032 - val_dense_2_loss: 0.3589 - val_dense_3_loss: 0.4441\n",
            "Epoch 10/100\n",
            "11610/11610 [==============================] - 1s 47us/sample - loss: 0.7561 - dense_2_loss: 0.3449 - dense_3_loss: 0.4111 - val_loss: 0.7874 - val_dense_2_loss: 0.3581 - val_dense_3_loss: 0.4294\n",
            "Epoch 11/100\n",
            "11610/11610 [==============================] - 1s 49us/sample - loss: 0.7510 - dense_2_loss: 0.3427 - dense_3_loss: 0.4084 - val_loss: 0.8559 - val_dense_2_loss: 0.3798 - val_dense_3_loss: 0.4758\n",
            "Epoch 12/100\n",
            "11610/11610 [==============================] - 1s 49us/sample - loss: 0.7455 - dense_2_loss: 0.3394 - dense_3_loss: 0.4058 - val_loss: 0.7563 - val_dense_2_loss: 0.3436 - val_dense_3_loss: 0.4127\n",
            "Epoch 13/100\n",
            "11610/11610 [==============================] - 1s 47us/sample - loss: 0.7381 - dense_2_loss: 0.3377 - dense_3_loss: 0.4005 - val_loss: 0.7949 - val_dense_2_loss: 0.3584 - val_dense_3_loss: 0.4372\n",
            "Epoch 14/100\n",
            "11610/11610 [==============================] - 1s 48us/sample - loss: 0.7302 - dense_2_loss: 0.3340 - dense_3_loss: 0.3963 - val_loss: 0.8052 - val_dense_2_loss: 0.3632 - val_dense_3_loss: 0.4419\n",
            "Epoch 15/100\n",
            "11610/11610 [==============================] - 1s 49us/sample - loss: 0.7304 - dense_2_loss: 0.3346 - dense_3_loss: 0.3958 - val_loss: 0.8070 - val_dense_2_loss: 0.3503 - val_dense_3_loss: 0.4567\n",
            "Epoch 16/100\n",
            "11610/11610 [==============================] - 1s 51us/sample - loss: 0.7251 - dense_2_loss: 0.3317 - dense_3_loss: 0.3933 - val_loss: 0.7410 - val_dense_2_loss: 0.3389 - val_dense_3_loss: 0.4020\n",
            "Epoch 17/100\n",
            "11610/11610 [==============================] - 1s 46us/sample - loss: 0.7219 - dense_2_loss: 0.3304 - dense_3_loss: 0.3913 - val_loss: 0.7404 - val_dense_2_loss: 0.3366 - val_dense_3_loss: 0.4039\n",
            "Epoch 18/100\n",
            "11610/11610 [==============================] - 1s 48us/sample - loss: 0.7116 - dense_2_loss: 0.3258 - dense_3_loss: 0.3862 - val_loss: 0.7516 - val_dense_2_loss: 0.3434 - val_dense_3_loss: 0.4081\n",
            "Epoch 19/100\n",
            "11610/11610 [==============================] - 1s 50us/sample - loss: 0.7059 - dense_2_loss: 0.3238 - dense_3_loss: 0.3822 - val_loss: 0.7289 - val_dense_2_loss: 0.3331 - val_dense_3_loss: 0.3958\n",
            "Epoch 20/100\n",
            "11610/11610 [==============================] - 1s 48us/sample - loss: 0.7065 - dense_2_loss: 0.3248 - dense_3_loss: 0.3816 - val_loss: 0.7194 - val_dense_2_loss: 0.3291 - val_dense_3_loss: 0.3905\n",
            "Epoch 21/100\n",
            "11610/11610 [==============================] - 1s 48us/sample - loss: 0.7046 - dense_2_loss: 0.3259 - dense_3_loss: 0.3789 - val_loss: 0.7865 - val_dense_2_loss: 0.3579 - val_dense_3_loss: 0.4288\n",
            "Epoch 22/100\n",
            "11610/11610 [==============================] - 1s 48us/sample - loss: 0.7033 - dense_2_loss: 0.3222 - dense_3_loss: 0.3809 - val_loss: 0.7222 - val_dense_2_loss: 0.3300 - val_dense_3_loss: 0.3922\n",
            "Epoch 23/100\n",
            "11610/11610 [==============================] - 1s 50us/sample - loss: 0.7119 - dense_2_loss: 0.3296 - dense_3_loss: 0.3826 - val_loss: 0.7353 - val_dense_2_loss: 0.3299 - val_dense_3_loss: 0.4054\n",
            "Epoch 24/100\n",
            "11610/11610 [==============================] - 1s 51us/sample - loss: 0.7205 - dense_2_loss: 0.3309 - dense_3_loss: 0.3895 - val_loss: 0.7607 - val_dense_2_loss: 0.3405 - val_dense_3_loss: 0.4200\n"
          ],
          "name": "stdout"
        }
      ]
    },
    {
      "cell_type": "code",
      "metadata": {
        "id": "O_WGNZIocH35",
        "colab_type": "code",
        "colab": {
          "base_uri": "https://localhost:8080/",
          "height": 324
        },
        "outputId": "4dd0b99e-0026-4e35-ea45-f08566e6702d"
      },
      "source": [
        "def plot_learning_curves(history):\n",
        "    pd.DataFrame(history.history).plot(figsize=(8, 5))\n",
        "    plt.grid(True)\n",
        "    plt.gca().set_ylim(0, 1)\n",
        "    plt.show()\n",
        "plot_learning_curves(history)\n",
        "#总的loss dense_2_loss dense_3_loss\n"
      ],
      "execution_count": 11,
      "outputs": [
        {
          "output_type": "display_data",
          "data": {
            "image/png": "[encoded data removed]",
            "text/plain": [
              "<Figure size 576x360 with 1 Axes>"
            ]
          },
          "metadata": {
            "tags": []
          }
        }
      ]
    },
    {
      "cell_type": "code",
      "metadata": {
        "id": "ud02RW1-cH39",
        "colab_type": "code",
        "colab": {
          "base_uri": "https://localhost:8080/",
          "height": 53
        },
        "outputId": "dd2080c3-ab43-4a0b-9073-500b7ff42636"
      },
      "source": [
        "model.evaluate([x_test_scaled_wide, x_test_scaled_deep],\n",
        "               [y_test, y_test])"
      ],
      "execution_count": 12,
      "outputs": [
        {
          "output_type": "stream",
          "text": [
            "5160/5160 [==============================] - 0s 24us/sample - loss: 0.7377 - dense_2_loss: 0.3362 - dense_3_loss: 0.4017\n"
          ],
          "name": "stdout"
        },
        {
          "output_type": "execute_result",
          "data": {
            "text/plain": [
              "[0.7376671864080798, 0.33618012, 0.401667]"
            ]
          },
          "metadata": {
            "tags": []
          },
          "execution_count": 12
        }
      ]
    },
    {
      "cell_type": "code",
      "metadata": {
        "id": "a6-ro0dmcH4A",
        "colab_type": "code",
        "colab": {}
      },
      "source": [
        ""
      ],
      "execution_count": 0,
      "outputs": []
    }
  ]
}