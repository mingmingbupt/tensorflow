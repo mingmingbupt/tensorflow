{
  "nbformat": 4,
  "nbformat_minor": 0,
  "metadata": {
    "kernelspec": {
      "display_name": "Python 3",
      "language": "python",
      "name": "python3"
    },
    "language_info": {
      "codemirror_mode": {
        "name": "ipython",
        "version": 3
      },
      "file_extension": ".py",
      "mimetype": "text/x-python",
      "name": "python",
      "nbconvert_exporter": "python",
      "pygments_lexer": "ipython3",
      "version": "3.7.3"
    },
    "colab": {
      "name": "tf_keras_regression-wide_deep-multi-input.ipynb",
      "provenance": [],
      "include_colab_link": true
    }
  },
  "cells": [
    {
      "cell_type": "markdown",
      "metadata": {
        "id": "view-in-github",
        "colab_type": "text"
      },
      "source": [
        "<a href=\"https://colab.research.google.com/github/mingmingbupt/tensorflow/blob/master/tf_keras_regression_wide_deep_multi_input.ipynb\" target=\"_parent\"><img src=\"https://colab.research.google.com/assets/colab-badge.svg\" alt=\"Open In Colab\"/></a>"
      ]
    },
    {
      "cell_type": "code",
      "metadata": {
        "id": "id7KW-xisXoM",
        "colab_type": "code",
        "colab": {
          "base_uri": "https://localhost:8080/",
          "height": 209
        },
        "outputId": "06a18b39-f93d-4966-f3b2-14e811486e68"
      },
      "source": [
        "import matplotlib as mpl\n",
        "import matplotlib.pyplot as plt\n",
        "%matplotlib inline\n",
        "import numpy as np\n",
        "import sklearn\n",
        "import pandas as pd\n",
        "import os\n",
        "import sys\n",
        "import time\n",
        "import tensorflow as tf\n",
        "\n",
        "from tensorflow import keras\n",
        "\n",
        "print(tf.__version__)\n",
        "print(sys.version_info)\n",
        "for module in mpl, np, pd, sklearn, tf, keras:\n",
        "    print(module.__name__, module.__version__)"
      ],
      "execution_count": 1,
      "outputs": [
        {
          "output_type": "display_data",
          "data": {
            "text/html": [
              "<p style=\"color: red;\">\n",
              "The default version of TensorFlow in Colab will soon switch to TensorFlow 2.x.<br>\n",
              "We recommend you <a href=\"https://www.tensorflow.org/guide/migrate\" target=\"_blank\">upgrade</a> now \n",
              "or ensure your notebook will continue to use TensorFlow 1.x via the <code>%tensorflow_version 1.x</code> magic:\n",
              "<a href=\"https://colab.research.google.com/notebooks/tensorflow_version.ipynb\" target=\"_blank\">more info</a>.</p>\n"
            ],
            "text/plain": [
              "<IPython.core.display.HTML object>"
            ]
          },
          "metadata": {
            "tags": []
          }
        },
        {
          "output_type": "stream",
          "text": [
            "1.15.0\n",
            "sys.version_info(major=3, minor=6, micro=9, releaselevel='final', serial=0)\n",
            "matplotlib 3.2.0\n",
            "numpy 1.18.2\n",
            "pandas 0.25.3\n",
            "sklearn 0.22.2.post1\n",
            "tensorflow 1.15.0\n",
            "tensorflow.python.keras.api._v1.keras 2.2.4-tf\n"
          ],
          "name": "stdout"
        }
      ]
    },
    {
      "cell_type": "code",
      "metadata": {
        "id": "xFf66hKLsXoW",
        "colab_type": "code",
        "colab": {
          "base_uri": "https://localhost:8080/",
          "height": 809
        },
        "outputId": "a51034ef-482a-410b-a9e0-a8091e200b23"
      },
      "source": [
        "from sklearn.datasets import fetch_california_housing\n",
        "\n",
        "housing = fetch_california_housing()\n",
        "print(housing.DESCR)\n",
        "print(housing.data.shape)\n",
        "print(housing.target.shape)"
      ],
      "execution_count": 2,
      "outputs": [
        {
          "output_type": "stream",
          "text": [
            "Downloading Cal. housing from https://ndownloader.figshare.com/files/5976036 to /root/scikit_learn_data\n"
          ],
          "name": "stderr"
        },
        {
          "output_type": "stream",
          "text": [
            ".. _california_housing_dataset:\n",
            "\n",
            "California Housing dataset\n",
            "--------------------------\n",
            "\n",
            "**Data Set Characteristics:**\n",
            "\n",
            "    :Number of Instances: 20640\n",
            "\n",
            "    :Number of Attributes: 8 numeric, predictive attributes and the target\n",
            "\n",
            "    :Attribute Information:\n",
            "        - MedInc        median income in block\n",
            "        - HouseAge      median house age in block\n",
            "        - AveRooms      average number of rooms\n",
            "        - AveBedrms     average number of bedrooms\n",
            "        - Population    block population\n",
            "        - AveOccup      average house occupancy\n",
            "        - Latitude      house block latitude\n",
            "        - Longitude     house block longitude\n",
            "\n",
            "    :Missing Attribute Values: None\n",
            "\n",
            "This dataset was obtained from the StatLib repository.\n",
            "http://lib.stat.cmu.edu/datasets/\n",
            "\n",
            "The target variable is the median house value for California districts.\n",
            "\n",
            "This dataset was derived from the 1990 U.S. census, using one row per census\n",
            "block group. A block group is the smallest geographical unit for which the U.S.\n",
            "Census Bureau publishes sample data (a block group typically has a population\n",
            "of 600 to 3,000 people).\n",
            "\n",
            "It can be downloaded/loaded using the\n",
            ":func:`sklearn.datasets.fetch_california_housing` function.\n",
            "\n",
            ".. topic:: References\n",
            "\n",
            "    - Pace, R. Kelley and Ronald Barry, Sparse Spatial Autoregressions,\n",
            "      Statistics and Probability Letters, 33 (1997) 291-297\n",
            "\n",
            "(20640, 8)\n",
            "(20640,)\n"
          ],
          "name": "stdout"
        }
      ]
    },
    {
      "cell_type": "code",
      "metadata": {
        "id": "Je19ZKXDsXoZ",
        "colab_type": "code",
        "colab": {
          "base_uri": "https://localhost:8080/",
          "height": 71
        },
        "outputId": "93a0b8c4-ef7c-41da-9e92-2bbc40a2c629"
      },
      "source": [
        "from sklearn.model_selection import train_test_split\n",
        "\n",
        "x_train_all, x_test, y_train_all, y_test = train_test_split(\n",
        "    housing.data, housing.target, random_state = 7)\n",
        "x_train, x_valid, y_train, y_valid = train_test_split(\n",
        "    x_train_all, y_train_all, random_state = 11)\n",
        "print(x_train.shape, y_train.shape)\n",
        "print(x_valid.shape, y_valid.shape)\n",
        "print(x_test.shape, y_test.shape)\n"
      ],
      "execution_count": 3,
      "outputs": [
        {
          "output_type": "stream",
          "text": [
            "(11610, 8) (11610,)\n",
            "(3870, 8) (3870,)\n",
            "(5160, 8) (5160,)\n"
          ],
          "name": "stdout"
        }
      ]
    },
    {
      "cell_type": "code",
      "metadata": {
        "id": "M_hAVgD0sXoc",
        "colab_type": "code",
        "colab": {}
      },
      "source": [
        "from sklearn.preprocessing import StandardScaler\n",
        "\n",
        "scaler = StandardScaler()\n",
        "x_train_scaled = scaler.fit_transform(x_train)\n",
        "x_valid_scaled = scaler.transform(x_valid)\n",
        "x_test_scaled = scaler.transform(x_test)"
      ],
      "execution_count": 0,
      "outputs": []
    },
    {
      "cell_type": "code",
      "metadata": {
        "id": "X1rvJq_9sXog",
        "colab_type": "code",
        "colab": {
          "base_uri": "https://localhost:8080/",
          "height": 469
        },
        "outputId": "1080de10-4e55-4510-bab3-f61e11cf25fe"
      },
      "source": [
        "# 多输入\n",
        "# 采用的是函数式的输入方法\n",
        "input_wide = keras.layers.Input(shape=[5]) #前5个feature作为wide的输入\n",
        "input_deep = keras.layers.Input(shape=[6]) #后6个feature作为deep的输入 \n",
        "# 我们一共是8个feature 所以wide部分和deep部分是有交集的\n",
        "hidden1 = keras.layers.Dense(30, activation='relu')(input_deep)\n",
        "hidden2 = keras.layers.Dense(30, activation='relu')(hidden1)\n",
        "concat = keras.layers.concatenate([input_wide, hidden2])\n",
        "output = keras.layers.Dense(1)(concat)\n",
        "\n",
        "#把modole固化下来\n",
        "model = keras.models.Model(inputs = [input_wide, input_deep],\n",
        "                           outputs = [output])\n",
        "        \n",
        "\n",
        "model.compile(loss=\"mean_squared_error\", optimizer=\"sgd\")\n",
        "callbacks = [keras.callbacks.EarlyStopping(\n",
        "    patience=5, min_delta=1e-2)]\n",
        "model.summary()"
      ],
      "execution_count": 5,
      "outputs": [
        {
          "output_type": "stream",
          "text": [
            "WARNING:tensorflow:From /tensorflow-1.15.0/python3.6/tensorflow_core/python/ops/resource_variable_ops.py:1630: calling BaseResourceVariable.__init__ (from tensorflow.python.ops.resource_variable_ops) with constraint is deprecated and will be removed in a future version.\n",
            "Instructions for updating:\n",
            "If using Keras pass *_constraint arguments to layers.\n",
            "Model: \"model\"\n",
            "__________________________________________________________________________________________________\n",
            "Layer (type)                    Output Shape         Param #     Connected to                     \n",
            "==================================================================================================\n",
            "input_2 (InputLayer)            [(None, 6)]          0                                            \n",
            "__________________________________________________________________________________________________\n",
            "dense (Dense)                   (None, 30)           210         input_2[0][0]                    \n",
            "__________________________________________________________________________________________________\n",
            "input_1 (InputLayer)            [(None, 5)]          0                                            \n",
            "__________________________________________________________________________________________________\n",
            "dense_1 (Dense)                 (None, 30)           930         dense[0][0]                      \n",
            "__________________________________________________________________________________________________\n",
            "concatenate (Concatenate)       (None, 35)           0           input_1[0][0]                    \n",
            "                                                                 dense_1[0][0]                    \n",
            "__________________________________________________________________________________________________\n",
            "dense_2 (Dense)                 (None, 1)            36          concatenate[0][0]                \n",
            "==================================================================================================\n",
            "Total params: 1,176\n",
            "Trainable params: 1,176\n",
            "Non-trainable params: 0\n",
            "__________________________________________________________________________________________________\n"
          ],
          "name": "stdout"
        }
      ]
    },
    {
      "cell_type": "code",
      "metadata": {
        "id": "o0QkDYMLsXol",
        "colab_type": "code",
        "colab": {
          "base_uri": "https://localhost:8080/",
          "height": 1000
        },
        "outputId": "c1c0283f-1bad-4fbc-ca9a-82788b93271a"
      },
      "source": [
        "#因为有两个输入\n",
        "x_train_scaled_wide = x_train_scaled[:, :5]\n",
        "x_train_scaled_deep = x_train_scaled[:, 2:]\n",
        "x_valid_scaled_wide = x_valid_scaled[:, :5]\n",
        "x_valid_scaled_deep = x_valid_scaled[:, 2:]\n",
        "x_test_scaled_wide = x_test_scaled[:, :5]\n",
        "x_test_scaled_deep = x_test_scaled[:, 2:]\n",
        "\n",
        "history = model.fit([x_train_scaled_wide, x_train_scaled_deep],\n",
        "                    y_train,\n",
        "                    validation_data = (\n",
        "                        [x_valid_scaled_wide, x_valid_scaled_deep],\n",
        "                        y_valid),\n",
        "                    epochs = 100,\n",
        "                    callbacks = callbacks)"
      ],
      "execution_count": 6,
      "outputs": [
        {
          "output_type": "stream",
          "text": [
            "Train on 11610 samples, validate on 3870 samples\n",
            "Epoch 1/100\n",
            "11610/11610 [==============================] - 1s 85us/sample - loss: 1.1690 - val_loss: 0.6317\n",
            "Epoch 2/100\n",
            "11610/11610 [==============================] - 0s 42us/sample - loss: 0.5717 - val_loss: 0.5156\n",
            "Epoch 3/100\n",
            "11610/11610 [==============================] - 0s 43us/sample - loss: 0.4841 - val_loss: 0.4982\n",
            "Epoch 4/100\n",
            "11610/11610 [==============================] - 0s 41us/sample - loss: 0.4458 - val_loss: 0.4561\n",
            "Epoch 5/100\n",
            "11610/11610 [==============================] - 0s 42us/sample - loss: 0.4269 - val_loss: 0.4352\n",
            "Epoch 6/100\n",
            "11610/11610 [==============================] - 0s 42us/sample - loss: 0.4140 - val_loss: 0.4315\n",
            "Epoch 7/100\n",
            "11610/11610 [==============================] - 0s 41us/sample - loss: 0.4046 - val_loss: 0.4284\n",
            "Epoch 8/100\n",
            "11610/11610 [==============================] - 0s 42us/sample - loss: 0.4050 - val_loss: 0.4050\n",
            "Epoch 9/100\n",
            "11610/11610 [==============================] - 1s 44us/sample - loss: 0.3884 - val_loss: 0.4014\n",
            "Epoch 10/100\n",
            "11610/11610 [==============================] - 0s 43us/sample - loss: 0.3812 - val_loss: 0.3890\n",
            "Epoch 11/100\n",
            "11610/11610 [==============================] - 0s 42us/sample - loss: 0.3720 - val_loss: 0.3887\n",
            "Epoch 12/100\n",
            "11610/11610 [==============================] - 0s 41us/sample - loss: 0.3655 - val_loss: 0.3783\n",
            "Epoch 13/100\n",
            "11610/11610 [==============================] - 0s 42us/sample - loss: 0.3611 - val_loss: 0.3737\n",
            "Epoch 14/100\n",
            "11610/11610 [==============================] - 0s 41us/sample - loss: 0.3568 - val_loss: 0.3673\n",
            "Epoch 15/100\n",
            "11610/11610 [==============================] - 0s 41us/sample - loss: 0.3515 - val_loss: 0.3698\n",
            "Epoch 16/100\n",
            "11610/11610 [==============================] - 0s 42us/sample - loss: 0.3492 - val_loss: 0.3739\n",
            "Epoch 17/100\n",
            "11610/11610 [==============================] - 1s 49us/sample - loss: 0.3558 - val_loss: 0.3666\n",
            "Epoch 18/100\n",
            "11610/11610 [==============================] - 0s 42us/sample - loss: 0.3453 - val_loss: 0.3550\n",
            "Epoch 19/100\n",
            "11610/11610 [==============================] - 0s 42us/sample - loss: 0.3416 - val_loss: 0.3533\n",
            "Epoch 20/100\n",
            "11610/11610 [==============================] - 1s 44us/sample - loss: 0.3390 - val_loss: 0.3503\n",
            "Epoch 21/100\n",
            "11610/11610 [==============================] - 0s 40us/sample - loss: 0.3405 - val_loss: 0.3468\n",
            "Epoch 22/100\n",
            "11610/11610 [==============================] - 0s 42us/sample - loss: 0.3377 - val_loss: 0.3439\n",
            "Epoch 23/100\n",
            "11610/11610 [==============================] - 0s 43us/sample - loss: 0.3354 - val_loss: 0.3548\n",
            "Epoch 24/100\n",
            "11610/11610 [==============================] - 1s 44us/sample - loss: 0.3328 - val_loss: 0.3518\n",
            "Epoch 25/100\n",
            "11610/11610 [==============================] - 0s 42us/sample - loss: 0.3318 - val_loss: 0.3403\n",
            "Epoch 26/100\n",
            "11610/11610 [==============================] - 0s 43us/sample - loss: 0.3314 - val_loss: 0.3464\n",
            "Epoch 27/100\n",
            "11610/11610 [==============================] - 0s 40us/sample - loss: 0.3329 - val_loss: 0.3439\n"
          ],
          "name": "stdout"
        }
      ]
    },
    {
      "cell_type": "code",
      "metadata": {
        "id": "54_0dDIDsXoo",
        "colab_type": "code",
        "colab": {
          "base_uri": "https://localhost:8080/",
          "height": 324
        },
        "outputId": "9e7edfb1-8046-4740-d6e6-84caab1ec9a6"
      },
      "source": [
        "def plot_learning_curves(history):\n",
        "    pd.DataFrame(history.history).plot(figsize=(8, 5))\n",
        "    plt.grid(True)\n",
        "    plt.gca().set_ylim(0, 1)\n",
        "    plt.show()\n",
        "plot_learning_curves(history)"
      ],
      "execution_count": 7,
      "outputs": [
        {
          "output_type": "display_data",
          "data": {
            "image/png": "[encoded data removed]",
            "text/plain": [
              "<Figure size 576x360 with 1 Axes>"
            ]
          },
          "metadata": {
            "tags": []
          }
        }
      ]
    },
    {
      "cell_type": "code",
      "metadata": {
        "id": "Nkjj2De4sXos",
        "colab_type": "code",
        "colab": {
          "base_uri": "https://localhost:8080/",
          "height": 53
        },
        "outputId": "ed336ba6-faf2-4583-8ad2-a2b94fac845c"
      },
      "source": [
        "model.evaluate([x_test_scaled_wide, x_test_scaled_deep], y_test)"
      ],
      "execution_count": 8,
      "outputs": [
        {
          "output_type": "stream",
          "text": [
            "5160/5160 [==============================] - 0s 23us/sample - loss: 0.3461\n"
          ],
          "name": "stdout"
        },
        {
          "output_type": "execute_result",
          "data": {
            "text/plain": [
              "0.34607809051986815"
            ]
          },
          "metadata": {
            "tags": []
          },
          "execution_count": 8
        }
      ]
    },
    {
      "cell_type": "code",
      "metadata": {
        "id": "dsrIZ2PysXov",
        "colab_type": "code",
        "colab": {}
      },
      "source": [
        ""
      ],
      "execution_count": 0,
      "outputs": []
    }
  ]
}