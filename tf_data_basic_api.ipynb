{
  "nbformat": 4,
  "nbformat_minor": 0,
  "metadata": {
    "kernelspec": {
      "display_name": "Python 3",
      "language": "python",
      "name": "python3"
    },
    "language_info": {
      "codemirror_mode": {
        "name": "ipython",
        "version": 3
      },
      "file_extension": ".py",
      "mimetype": "text/x-python",
      "name": "python",
      "nbconvert_exporter": "python",
      "pygments_lexer": "ipython3",
      "version": "3.7.3"
    },
    "colab": {
      "name": "tf-data_basic_api.ipynb",
      "provenance": [],
      "include_colab_link": true
    }
  },
  "cells": [
    {
      "cell_type": "markdown",
      "metadata": {
        "id": "view-in-github",
        "colab_type": "text"
      },
      "source": [
        "<a href=\"https://colab.research.google.com/github/mingmingbupt/tensorflow/blob/master/tf_data_basic_api.ipynb\" target=\"_parent\"><img src=\"https://colab.research.google.com/assets/colab-badge.svg\" alt=\"Open In Colab\"/></a>"
      ]
    },
    {
      "cell_type": "code",
      "metadata": {
        "id": "KdK0IIf5SZQb",
        "colab_type": "code",
        "outputId": "f2a181a8-7639-4973-fb5f-5864d8662903",
        "colab": {
          "base_uri": "https://localhost:8080/",
          "height": 161
        }
      },
      "source": [
        "import matplotlib as mpl\n",
        "import matplotlib.pyplot as plt\n",
        "%matplotlib inline\n",
        "import numpy as np\n",
        "import sklearn\n",
        "import pandas as pd\n",
        "import os\n",
        "import sys\n",
        "import time\n",
        "import tensorflow as tf\n",
        "\n",
        "from tensorflow import keras\n",
        "\n",
        "print(tf.__version__)\n",
        "print(sys.version_info)\n",
        "for module in mpl, np, pd, sklearn, tf, keras:\n",
        "    print(module.__name__, module.__version__)"
      ],
      "execution_count": 9,
      "outputs": [
        {
          "output_type": "stream",
          "text": [
            "2.2.0-rc2\n",
            "sys.version_info(major=3, minor=6, micro=9, releaselevel='final', serial=0)\n",
            "matplotlib 3.2.1\n",
            "numpy 1.18.2\n",
            "pandas 1.0.3\n",
            "sklearn 0.22.2.post1\n",
            "tensorflow 2.2.0-rc2\n",
            "tensorflow.keras 2.3.0-tf\n"
          ],
          "name": "stdout"
        }
      ]
    },
    {
      "cell_type": "code",
      "metadata": {
        "id": "qz2EHA-fSZQg",
        "colab_type": "code",
        "outputId": "3b7c66db-b624-44e9-f84c-d5b33c73c067",
        "colab": {
          "base_uri": "https://localhost:8080/",
          "height": 35
        }
      },
      "source": [
        "dataset = tf.data.Dataset.from_tensor_slices(np.arange(10)) #从内存中构建数据集\n",
        "#他里面参数呢，可以是一个普通的列表，可以是numpy的数组，甚至可以是一个字典，这里我们用numpy的数组对他进行初始化\n",
        "#大小为长度为10的一个一维向量，这样我们就初始化好了一个dataset,打印下\n",
        "print(dataset)"
      ],
      "execution_count": 10,
      "outputs": [
        {
          "output_type": "stream",
          "text": [
            "<TensorSliceDataset shapes: (), types: tf.int64>\n"
          ],
          "name": "stdout"
        }
      ]
    },
    {
      "cell_type": "code",
      "metadata": {
        "id": "Sl6KQMYlSZQi",
        "colab_type": "code",
        "outputId": "c090035a-6c1e-4be1-b871-a7fcd42ad57f",
        "colab": {
          "base_uri": "https://localhost:8080/",
          "height": 197
        }
      },
      "source": [
        "for item in dataset: #对于一个dataset 可以做些什么，首先可以遍历\n",
        "    #我们用一个for循环对dataset进行遍历，获取dataset中每一个数据，发现每一个数据就是一个tensor，对应的就是0-9这10个数字\n",
        "    print(item)"
      ],
      "execution_count": 11,
      "outputs": [
        {
          "output_type": "stream",
          "text": [
            "tf.Tensor(0, shape=(), dtype=int64)\n",
            "tf.Tensor(1, shape=(), dtype=int64)\n",
            "tf.Tensor(2, shape=(), dtype=int64)\n",
            "tf.Tensor(3, shape=(), dtype=int64)\n",
            "tf.Tensor(4, shape=(), dtype=int64)\n",
            "tf.Tensor(5, shape=(), dtype=int64)\n",
            "tf.Tensor(6, shape=(), dtype=int64)\n",
            "tf.Tensor(7, shape=(), dtype=int64)\n",
            "tf.Tensor(8, shape=(), dtype=int64)\n",
            "tf.Tensor(9, shape=(), dtype=int64)\n"
          ],
          "name": "stdout"
        }
      ]
    },
    {
      "cell_type": "code",
      "metadata": {
        "id": "trnTXX8ASZQl",
        "colab_type": "code",
        "outputId": "9739153c-6068-45f3-ac6f-1e5e01d59fd2",
        "colab": {
          "base_uri": "https://localhost:8080/",
          "height": 107
        }
      },
      "source": [
        "# 针对一个机器学习，我们使用一个dataset的时候，最常用的几个操作是什么\n",
        "# 1. repeat epoch 对一个dataset进行重复读取。遍历一次数据集，就称为一次epoch.数据集遍历多少次呢，就称我这个训练集运行了多少个epoch\n",
        "#   之前我们调用keras,调用.fit函数，有进度条在哪里走，每进行一个epoch他就换新的一行\n",
        "# 2. get batch 第二个常见的操作，就是get batch.在之前的例子中呢，需要指定一个batch_size,这个batch_size就是我在每一次训练我的网络参数的时候\n",
        "#   我不是把所有数据都输入进去，而是我从整个数据集中取一小部分出来，然后把这个数据再丢给训练程序，再去计算导数，更新参数\n",
        "\n",
        "# dataset想要实现上面两个功能，非常简单，只需要对dataset进行变换，产生新的dataset.\n",
        "# 首先呢，叫repeat repeat(3)就是0-10会遍历3次，然后我们再调用batch函数，这里batch_size=7,就是每次返回7个数据\n",
        "# 我先调用repeat，直接在返回结果上调用batch函数\n",
        "# 这个实现机制就在于我的dataset数据调用repeat函数后呢，会产生新的dataset.同理呢，我再调用batch函数呢，他还会产生一个新的dataset\n",
        "# 所以我的返回结果就是一个新的dataset\n",
        "dataset = dataset.repeat(3).batch(7)\n",
        "for item in dataset:\n",
        "    print(item)"
      ],
      "execution_count": 12,
      "outputs": [
        {
          "output_type": "stream",
          "text": [
            "tf.Tensor([0 1 2 3 4 5 6], shape=(7,), dtype=int64)\n",
            "tf.Tensor([7 8 9 0 1 2 3], shape=(7,), dtype=int64)\n",
            "tf.Tensor([4 5 6 7 8 9 0], shape=(7,), dtype=int64)\n",
            "tf.Tensor([1 2 3 4 5 6 7], shape=(7,), dtype=int64)\n",
            "tf.Tensor([8 9], shape=(2,), dtype=int64)\n"
          ],
          "name": "stdout"
        }
      ]
    },
    {
      "cell_type": "code",
      "metadata": {
        "id": "PrqnRB1USZQo",
        "colab_type": "code",
        "outputId": "d70d315d-0d7f-4405-8836-1f65a1626091",
        "colab": {
          "base_uri": "https://localhost:8080/",
          "height": 647
        }
      },
      "source": [
        "# interleave: 这个函数用来对dataset中每一个元素做处理，每个元素做完处理会产生新的结果，然后interleave会把新的结果再合并起来\n",
        "#        形成一个新的数据集\n",
        "# interleave 一个常见的case是我现有的dataset里面存储的是一系列文件的文件名，我用interleave去做一个变换，这个变换是我遍历这个文件名\n",
        "#       数据集里面的所有的元素，也就是文件名，然后呢把文件名对应的文件内容给读取出来，这样每个文件名都形成了一个新的数据集\n",
        "#       然后interleave再把这些新的数据集再合并起来，成为一个总的大数据集，这是一个常见的case\n",
        "# case: 文件dataset -> 具体数据集\n",
        "\n",
        "# 这里举一个其他的例子，在interleave中有三个参数\n",
        "# 第一个参数是map_fn 也就是说我去做一个什么样的变换\n",
        "# 第二个参数是一个叫做cycle_length 也就是他的并行程度，就是说我并行的同时去这里这个dataset的多少个元素\n",
        "# 第三个参数是block_length, 我从上面的变换结果里每次取多少个元素出来\n",
        "dataset2 = dataset.interleave(\n",
        "    lambda v: tf.data.Dataset.from_tensor_slices(v), # map_fn，使用一个lambda表达式来定义一个新的匿名函数，我每次都从dataset里每次都取出一个v\n",
        "    # 然后我把这个v封装成一个新的数据集\n",
        "    cycle_length = 5, # cycle_length, 在结果里是看不出来的，因为他是并行程度的一个衡量\n",
        "    block_length = 5, # block_length\n",
        ")\n",
        "\n",
        "for item in dataset:\n",
        "    print(item)\n",
        "\n",
        "for item in dataset2: #遍历dataset2，然后我们就看到了\n",
        "    print(item)\n",
        "# 结果里面每个都是一个tensor,每个tensor里面只有一个元素\n",
        "# 效果就是我每次都是从其中某个元素的结果里面呢取一小部分出来，生成出来\n",
        "# 再从另外一个元素结果里面取出来某些值，然后再去填充我这个数据集\n",
        "# 所以说呢，他就达到了一种均匀混合的一种效果，这是block_length的一个效果"
      ],
      "execution_count": 13,
      "outputs": [
        {
          "output_type": "stream",
          "text": [
            "tf.Tensor([0 1 2 3 4 5 6], shape=(7,), dtype=int64)\n",
            "tf.Tensor([7 8 9 0 1 2 3], shape=(7,), dtype=int64)\n",
            "tf.Tensor([4 5 6 7 8 9 0], shape=(7,), dtype=int64)\n",
            "tf.Tensor([1 2 3 4 5 6 7], shape=(7,), dtype=int64)\n",
            "tf.Tensor([8 9], shape=(2,), dtype=int64)\n",
            "tf.Tensor(0, shape=(), dtype=int64)\n",
            "tf.Tensor(1, shape=(), dtype=int64)\n",
            "tf.Tensor(2, shape=(), dtype=int64)\n",
            "tf.Tensor(3, shape=(), dtype=int64)\n",
            "tf.Tensor(4, shape=(), dtype=int64)\n",
            "tf.Tensor(7, shape=(), dtype=int64)\n",
            "tf.Tensor(8, shape=(), dtype=int64)\n",
            "tf.Tensor(9, shape=(), dtype=int64)\n",
            "tf.Tensor(0, shape=(), dtype=int64)\n",
            "tf.Tensor(1, shape=(), dtype=int64)\n",
            "tf.Tensor(4, shape=(), dtype=int64)\n",
            "tf.Tensor(5, shape=(), dtype=int64)\n",
            "tf.Tensor(6, shape=(), dtype=int64)\n",
            "tf.Tensor(7, shape=(), dtype=int64)\n",
            "tf.Tensor(8, shape=(), dtype=int64)\n",
            "tf.Tensor(1, shape=(), dtype=int64)\n",
            "tf.Tensor(2, shape=(), dtype=int64)\n",
            "tf.Tensor(3, shape=(), dtype=int64)\n",
            "tf.Tensor(4, shape=(), dtype=int64)\n",
            "tf.Tensor(5, shape=(), dtype=int64)\n",
            "tf.Tensor(8, shape=(), dtype=int64)\n",
            "tf.Tensor(9, shape=(), dtype=int64)\n",
            "tf.Tensor(5, shape=(), dtype=int64)\n",
            "tf.Tensor(6, shape=(), dtype=int64)\n",
            "tf.Tensor(2, shape=(), dtype=int64)\n",
            "tf.Tensor(3, shape=(), dtype=int64)\n",
            "tf.Tensor(9, shape=(), dtype=int64)\n",
            "tf.Tensor(0, shape=(), dtype=int64)\n",
            "tf.Tensor(6, shape=(), dtype=int64)\n",
            "tf.Tensor(7, shape=(), dtype=int64)\n"
          ],
          "name": "stdout"
        }
      ]
    },
    {
      "cell_type": "code",
      "metadata": {
        "id": "x9mHJ2YGSZQq",
        "colab_type": "code",
        "outputId": "80b11957-ea0e-4d0d-d347-bd5c52d83c70",
        "colab": {
          "base_uri": "https://localhost:8080/",
          "height": 143
        }
      },
      "source": [
        "x = np.array([[1, 2], [3, 4], [5, 6]])\n",
        "y = np.array(['cat', 'dog', 'fox']) #可能对应二维矩阵的类型，比如label\n",
        "#x和y的第一个维度一定是相等的。才能够正常工作，这里x长度3,y也是3\n",
        "#然后我用dataset进行构建，我的输入是一个元组(x,y)\n",
        "#from_tensor_slices除了支持numpy向量以外，还支持python中一些原有的数据\n",
        "#比如说元组和字典\n",
        "#这里输入的是一个元祖（x,y）\n",
        "dataset3 = tf.data.Dataset.from_tensor_slices((x, y))\n",
        "print(dataset3)\n",
        "\n",
        "for item_x, item_y in dataset3:\n",
        "    print(item_x.numpy(), item_y.numpy())\n",
        "    print(item_x, item_y)\n",
        "#item_x, item_y 都是tf.tensor\n",
        "#item_x, item_y 都是tf.tensor"
      ],
      "execution_count": 14,
      "outputs": [
        {
          "output_type": "stream",
          "text": [
            "<TensorSliceDataset shapes: ((2,), ()), types: (tf.int64, tf.string)>\n",
            "[1 2] b'cat'\n",
            "tf.Tensor([1 2], shape=(2,), dtype=int64) tf.Tensor(b'cat', shape=(), dtype=string)\n",
            "[3 4] b'dog'\n",
            "tf.Tensor([3 4], shape=(2,), dtype=int64) tf.Tensor(b'dog', shape=(), dtype=string)\n",
            "[5 6] b'fox'\n",
            "tf.Tensor([5 6], shape=(2,), dtype=int64) tf.Tensor(b'fox', shape=(), dtype=string)\n"
          ],
          "name": "stdout"
        }
      ]
    },
    {
      "cell_type": "code",
      "metadata": {
        "id": "TJNSJraGSZQs",
        "colab_type": "code",
        "outputId": "ae063578-fbcf-4568-b739-fc2841d246e0",
        "colab": {
          "base_uri": "https://localhost:8080/",
          "height": 179
        }
      },
      "source": [
        "#from_tensor_slices也支持字典\n",
        "#\n",
        "dataset4 = tf.data.Dataset.from_tensor_slices({\"feature\": x, \"label\": y})\n",
        "for item in dataset4:\n",
        "    print(item)\n",
        "    print(item[\"feature\"].numpy(), item[\"label\"].numpy())\n",
        "    print(item[\"feature\"], item[\"label\"])"
      ],
      "execution_count": 16,
      "outputs": [
        {
          "output_type": "stream",
          "text": [
            "{'feature': <tf.Tensor: shape=(2,), dtype=int64, numpy=array([1, 2])>, 'label': <tf.Tensor: shape=(), dtype=string, numpy=b'cat'>}\n",
            "[1 2] b'cat'\n",
            "tf.Tensor([1 2], shape=(2,), dtype=int64) tf.Tensor(b'cat', shape=(), dtype=string)\n",
            "{'feature': <tf.Tensor: shape=(2,), dtype=int64, numpy=array([3, 4])>, 'label': <tf.Tensor: shape=(), dtype=string, numpy=b'dog'>}\n",
            "[3 4] b'dog'\n",
            "tf.Tensor([3 4], shape=(2,), dtype=int64) tf.Tensor(b'dog', shape=(), dtype=string)\n",
            "{'feature': <tf.Tensor: shape=(2,), dtype=int64, numpy=array([5, 6])>, 'label': <tf.Tensor: shape=(), dtype=string, numpy=b'fox'>}\n",
            "[5 6] b'fox'\n",
            "tf.Tensor([5 6], shape=(2,), dtype=int64) tf.Tensor(b'fox', shape=(), dtype=string)\n"
          ],
          "name": "stdout"
        }
      ]
    },
    {
      "cell_type": "code",
      "metadata": {
        "id": "ls63mYBmSZQv",
        "colab_type": "code",
        "colab": {}
      },
      "source": [
        ""
      ],
      "execution_count": 0,
      "outputs": []
    }
  ]
}