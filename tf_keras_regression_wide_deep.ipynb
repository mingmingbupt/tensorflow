{
  "nbformat": 4,
  "nbformat_minor": 0,
  "metadata": {
    "kernelspec": {
      "display_name": "Python 3",
      "language": "python",
      "name": "python3"
    },
    "language_info": {
      "codemirror_mode": {
        "name": "ipython",
        "version": 3
      },
      "file_extension": ".py",
      "mimetype": "text/x-python",
      "name": "python",
      "nbconvert_exporter": "python",
      "pygments_lexer": "ipython3",
      "version": "3.7.3"
    },
    "colab": {
      "name": "tf_keras_regression-wide_deep.ipynb",
      "provenance": [],
      "include_colab_link": true
    }
  },
  "cells": [
    {
      "cell_type": "markdown",
      "metadata": {
        "id": "view-in-github",
        "colab_type": "text"
      },
      "source": [
        "<a href=\"https://colab.research.google.com/github/mingmingbupt/tensorflow/blob/master/tf_keras_regression_wide_deep.ipynb\" target=\"_parent\"><img src=\"https://colab.research.google.com/assets/colab-badge.svg\" alt=\"Open In Colab\"/></a>"
      ]
    },
    {
      "cell_type": "code",
      "metadata": {
        "id": "GFfCDYOEd3lR",
        "colab_type": "code",
        "outputId": "1bf1cb4c-cc97-4a00-8adc-5f341f574602",
        "colab": {
          "base_uri": "https://localhost:8080/",
          "height": 161
        }
      },
      "source": [
        "import matplotlib as mpl\n",
        "import matplotlib.pyplot as plt\n",
        "%matplotlib inline\n",
        "import numpy as np\n",
        "import sklearn\n",
        "import pandas as pd\n",
        "import os\n",
        "import sys\n",
        "import time\n",
        "import tensorflow as tf\n",
        "\n",
        "from tensorflow import keras\n",
        "\n",
        "print(tf.__version__)\n",
        "print(sys.version_info)\n",
        "for module in mpl, np, pd, sklearn, tf, keras:\n",
        "    print(module.__name__, module.__version__)"
      ],
      "execution_count": 20,
      "outputs": [
        {
          "output_type": "stream",
          "text": [
            "1.15.0\n",
            "sys.version_info(major=3, minor=6, micro=9, releaselevel='final', serial=0)\n",
            "matplotlib 3.2.0\n",
            "numpy 1.18.2\n",
            "pandas 0.25.3\n",
            "sklearn 0.22.2.post1\n",
            "tensorflow 1.15.0\n",
            "tensorflow.python.keras.api._v1.keras 2.2.4-tf\n"
          ],
          "name": "stdout"
        }
      ]
    },
    {
      "cell_type": "code",
      "metadata": {
        "id": "Lnb6zKUDd3lX",
        "colab_type": "code",
        "outputId": "aa86dc3f-3c45-4cab-d6da-750b3fa5105a",
        "colab": {
          "base_uri": "https://localhost:8080/",
          "height": 791
        }
      },
      "source": [
        "from sklearn.datasets import fetch_california_housing\n",
        "\n",
        "housing = fetch_california_housing()\n",
        "print(housing.DESCR)\n",
        "print(housing.data.shape)\n",
        "print(housing.target.shape)"
      ],
      "execution_count": 2,
      "outputs": [
        {
          "output_type": "stream",
          "text": [
            ".. _california_housing_dataset:\n",
            "\n",
            "California Housing dataset\n",
            "--------------------------\n",
            "\n",
            "**Data Set Characteristics:**\n",
            "\n",
            "    :Number of Instances: 20640\n",
            "\n",
            "    :Number of Attributes: 8 numeric, predictive attributes and the target\n",
            "\n",
            "    :Attribute Information:\n",
            "        - MedInc        median income in block\n",
            "        - HouseAge      median house age in block\n",
            "        - AveRooms      average number of rooms\n",
            "        - AveBedrms     average number of bedrooms\n",
            "        - Population    block population\n",
            "        - AveOccup      average house occupancy\n",
            "        - Latitude      house block latitude\n",
            "        - Longitude     house block longitude\n",
            "\n",
            "    :Missing Attribute Values: None\n",
            "\n",
            "This dataset was obtained from the StatLib repository.\n",
            "http://lib.stat.cmu.edu/datasets/\n",
            "\n",
            "The target variable is the median house value for California districts.\n",
            "\n",
            "This dataset was derived from the 1990 U.S. census, using one row per census\n",
            "block group. A block group is the smallest geographical unit for which the U.S.\n",
            "Census Bureau publishes sample data (a block group typically has a population\n",
            "of 600 to 3,000 people).\n",
            "\n",
            "It can be downloaded/loaded using the\n",
            ":func:`sklearn.datasets.fetch_california_housing` function.\n",
            "\n",
            ".. topic:: References\n",
            "\n",
            "    - Pace, R. Kelley and Ronald Barry, Sparse Spatial Autoregressions,\n",
            "      Statistics and Probability Letters, 33 (1997) 291-297\n",
            "\n",
            "(20640, 8)\n",
            "(20640,)\n"
          ],
          "name": "stdout"
        }
      ]
    },
    {
      "cell_type": "code",
      "metadata": {
        "id": "6vwhKA3Dd3la",
        "colab_type": "code",
        "outputId": "fa719a70-0bce-453e-f705-f18ed81fae8a",
        "colab": {
          "base_uri": "https://localhost:8080/",
          "height": 71
        }
      },
      "source": [
        "from sklearn.model_selection import train_test_split\n",
        "\n",
        "x_train_all, x_test, y_train_all, y_test = train_test_split(\n",
        "    housing.data, housing.target, random_state = 7)\n",
        "x_train, x_valid, y_train, y_valid = train_test_split(\n",
        "    x_train_all, y_train_all, random_state = 11)\n",
        "print(x_train.shape, y_train.shape)\n",
        "print(x_valid.shape, y_valid.shape)\n",
        "print(x_test.shape, y_test.shape)\n"
      ],
      "execution_count": 3,
      "outputs": [
        {
          "output_type": "stream",
          "text": [
            "(11610, 8) (11610,)\n",
            "(3870, 8) (3870,)\n",
            "(5160, 8) (5160,)\n"
          ],
          "name": "stdout"
        }
      ]
    },
    {
      "cell_type": "code",
      "metadata": {
        "id": "wteQmMnjkRlD",
        "colab_type": "code",
        "colab": {
          "base_uri": "https://localhost:8080/",
          "height": 557
        },
        "outputId": "03398d4d-ef44-4587-9033-cf20a03919cb"
      },
      "source": [
        "import pprint\n",
        "pprint.pprint(x_train[0:5]) # 这个函数可以使得打印的format呢比较好，只打印5个数据\n",
        "pprint.pprint(x_valid[0:5])"
      ],
      "execution_count": 4,
      "outputs": [
        {
          "output_type": "stream",
          "text": [
            "array([[ 5.34500000e+00,  3.20000000e+01,  5.13541667e+00,\n",
            "         9.96527778e-01,  8.30000000e+02,  2.88194444e+00,\n",
            "         3.43800000e+01, -1.19740000e+02],\n",
            "       [ 3.28130000e+00,  3.30000000e+01,  5.15268817e+00,\n",
            "         9.72043011e-01,  1.39100000e+03,  2.99139785e+00,\n",
            "         3.79600000e+01, -1.21700000e+02],\n",
            "       [ 3.78330000e+00,  1.70000000e+01,  6.05769231e+00,\n",
            "         1.09615385e+00,  8.77000000e+02,  2.81089744e+00,\n",
            "         3.90700000e+01, -1.23210000e+02],\n",
            "       [ 7.41850000e+00,  3.50000000e+01,  6.51890034e+00,\n",
            "         9.58762887e-01,  7.33000000e+02,  2.51890034e+00,\n",
            "         3.41300000e+01, -1.18080000e+02],\n",
            "       [ 1.11228000e+01,  1.70000000e+01,  8.58670520e+00,\n",
            "         1.01156069e+00,  1.18000000e+03,  3.41040462e+00,\n",
            "         3.38300000e+01, -1.17800000e+02]])\n",
            "array([[ 4.22060000e+00,  4.00000000e+01,  5.16483516e+00,\n",
            "         9.34065934e-01,  9.32000000e+02,  3.41391941e+00,\n",
            "         3.39800000e+01, -1.18060000e+02],\n",
            "       [ 3.15910000e+00,  2.00000000e+00,  4.63265306e+00,\n",
            "         7.14285714e-01,  1.14000000e+02,  2.32653061e+00,\n",
            "         3.77800000e+01, -1.21930000e+02],\n",
            "       [ 2.77500000e+00,  5.00000000e+01,  2.97435897e+00,\n",
            "         1.32905983e+00,  3.82000000e+02,  1.63247863e+00,\n",
            "         3.38300000e+01, -1.18310000e+02],\n",
            "       [ 2.58520000e+00,  3.80000000e+01,  4.34615385e+00,\n",
            "         1.08391608e+00,  7.88000000e+02,  2.75524476e+00,\n",
            "         3.40200000e+01, -1.18130000e+02],\n",
            "       [ 4.01790000e+00,  4.60000000e+01,  4.15869018e+00,\n",
            "         1.03274559e+00,  5.12000000e+02,  1.28967254e+00,\n",
            "         3.40700000e+01, -1.18350000e+02]])\n"
          ],
          "name": "stdout"
        }
      ]
    },
    {
      "cell_type": "code",
      "metadata": {
        "id": "htTz7Qwed3ld",
        "colab_type": "code",
        "colab": {}
      },
      "source": [
        "from sklearn.preprocessing import StandardScaler\n",
        "\n",
        "scaler = StandardScaler()\n",
        "x_train_scaled = scaler.fit_transform(x_train)\n",
        "x_valid_scaled = scaler.transform(x_valid)\n",
        "x_test_scaled = scaler.transform(x_test)"
      ],
      "execution_count": 0,
      "outputs": []
    },
    {
      "cell_type": "code",
      "metadata": {
        "id": "Up_Ghk4WmC9k",
        "colab_type": "code",
        "colab": {
          "base_uri": "https://localhost:8080/",
          "height": 377
        },
        "outputId": "aeece506-6b67-4c64-dba8-b0c59cef707f"
      },
      "source": [
        "import pprint\n",
        "pprint.pprint(x_train_scaled[0:5]) # 这个函数可以使得打印的format呢比较好，只打印5个数据\n",
        "pprint.pprint(x_valid_scaled[0:5])"
      ],
      "execution_count": 14,
      "outputs": [
        {
          "output_type": "stream",
          "text": [
            "array([[ 0.80154431,  0.27216142, -0.11624393, -0.20231151, -0.54305157,\n",
            "        -0.02103962, -0.58976206, -0.08241846],\n",
            "       [-0.29807281,  0.35226166, -0.10920508, -0.25055521, -0.03406402,\n",
            "        -0.006034  ,  1.08055484, -1.06113817],\n",
            "       [-0.03058829, -0.92934213,  0.25962148, -0.00601274, -0.50040912,\n",
            "        -0.03077987,  1.59844639, -1.81515182],\n",
            "       [ 1.90638325,  0.51246213,  0.4475828 , -0.27672178, -0.63105833,\n",
            "        -0.07081147, -0.7064043 ,  0.74649722],\n",
            "       [ 3.88017387, -0.92934213,  1.29029867, -0.17269133, -0.22550141,\n",
            "         0.0514101 , -0.84637499,  0.88631432]])\n",
            "array([[ 0.20242163,  0.91296332, -0.10425467, -0.32538355, -0.45050838,\n",
            "         0.05189196, -0.77638965,  0.75648415],\n",
            "       [-0.36318557, -2.13084567, -0.32114086, -0.75842872, -1.19266848,\n",
            "        -0.09718457,  0.99657243, -1.17598793],\n",
            "       [-0.56784853,  1.71396568, -0.99696418,  0.45289485, -0.94951578,\n",
            "        -0.19233623, -0.84637499,  0.63164745],\n",
            "       [-0.66898112,  0.75276284, -0.43790112, -0.03012548, -0.58115759,\n",
            "        -0.03840962, -0.75772689,  0.72152988],\n",
            "       [ 0.09441543,  1.39356474, -0.51430031, -0.13094954, -0.83156858,\n",
            "        -0.23933354, -0.73439844,  0.61167358]])\n"
          ],
          "name": "stdout"
        }
      ]
    },
    {
      "cell_type": "code",
      "metadata": {
        "id": "wbJSI16lmUuo",
        "colab_type": "code",
        "colab": {
          "base_uri": "https://localhost:8080/",
          "height": 35
        },
        "outputId": "54edcef2-3e27-4d79-9ca6-61d6c659c7e1"
      },
      "source": [
        "x_train_scaled.min()"
      ],
      "execution_count": 21,
      "outputs": [
        {
          "output_type": "execute_result",
          "data": {
            "text/plain": [
              "-2.3594398206242224"
            ]
          },
          "metadata": {
            "tags": []
          },
          "execution_count": 21
        }
      ]
    },
    {
      "cell_type": "code",
      "metadata": {
        "id": "wHCi-_0rd3lf",
        "colab_type": "code",
        "outputId": "e2153d9a-51c3-48d0-e04d-c7527d616594",
        "colab": {
          "base_uri": "https://localhost:8080/",
          "height": 359
        }
      },
      "source": [
        "# 因为我们的wide&deep不是一个严格的层级结构，而是有两部分组成的，每一部分都是一层级结构\n",
        "# 因而我们并不能去使用Sequential的方式去实现这个模型了\n",
        "# 所以这里我们使用函数式API来实现\n",
        "# 函数式API 功能API\n",
        "# 函数式API 是指我们像使用函数一样去调用keras model里面的一些层次\n",
        "#\n",
        "input = keras.layers.Input(shape=x_train_scaled.shape[1:]) #定义输入， keras有专门的输入层Input\n",
        "hidden1 = keras.layers.Dense(30, activation='relu')(input) # 第一层 这里我们只定义层次，这个层次呢，我们可以像使用函数一样使用他，这就是函数式API的\n",
        "hidden2 = keras.layers.Dense(30, activation='relu')(hidden1) # 第二层 他的输入为hidden1\n",
        "# 复合函数: f(x) = h(g(x))\n",
        "\n",
        "concat = keras.layers.concatenate([input, hidden2]) #假设wide模型和deep模型的输入是一样的，把input和hidden2拼接起来，拼接也被实现为一个层次\n",
        "#input 是wide的输入，hidden2是deep的输出\n",
        "output = keras.layers.Dense(1)(concat) #拼接好以后的数据再把它作为最后的输出\n",
        "\n",
        "# 我们就用函数式的方法把这个模型实现好了\n",
        "# 我们需要用Model把这个模型固化下来\n",
        "# 我们使用Sequential的时候，返回的就是一个固化好的方式，函数式的没有使用固化好的方式，\n",
        "# 所以我们需要使用keras.models.Model固化下来\n",
        "model = keras.models.Model(inputs = [input],outputs = [output])\n",
        "\n",
        "\n",
        "model.summary()\n",
        "model.compile(loss=\"mean_squared_error\", optimizer=\"sgd\")\n",
        "callbacks = [keras.callbacks.EarlyStopping(\n",
        "    patience=5, min_delta=1e-2)]"
      ],
      "execution_count": 22,
      "outputs": [
        {
          "output_type": "stream",
          "text": [
            "Model: \"model_2\"\n",
            "__________________________________________________________________________________________________\n",
            "Layer (type)                    Output Shape         Param #     Connected to                     \n",
            "==================================================================================================\n",
            "input_3 (InputLayer)            [(None, 8)]          0                                            \n",
            "__________________________________________________________________________________________________\n",
            "dense_6 (Dense)                 (None, 30)           270         input_3[0][0]                    \n",
            "__________________________________________________________________________________________________\n",
            "dense_7 (Dense)                 (None, 30)           930         dense_6[0][0]                    \n",
            "__________________________________________________________________________________________________\n",
            "concatenate_2 (Concatenate)     (None, 38)           0           input_3[0][0]                    \n",
            "                                                                 dense_7[0][0]                    \n",
            "__________________________________________________________________________________________________\n",
            "dense_8 (Dense)                 (None, 1)            39          concatenate_2[0][0]              \n",
            "==================================================================================================\n",
            "Total params: 1,239\n",
            "Trainable params: 1,239\n",
            "Non-trainable params: 0\n",
            "__________________________________________________________________________________________________\n"
          ],
          "name": "stdout"
        }
      ]
    },
    {
      "cell_type": "code",
      "metadata": {
        "id": "Qn3PzHqId3li",
        "colab_type": "code",
        "outputId": "e060898e-c9b8-4841-cd4b-78e9f90ce2da",
        "colab": {
          "base_uri": "https://localhost:8080/",
          "height": 251
        }
      },
      "source": [
        "history = model.fit(x_train_scaled, y_train,\n",
        "                    validation_data = (x_valid_scaled, y_valid),\n",
        "                    epochs = 100,\n",
        "                    callbacks = callbacks)"
      ],
      "execution_count": 23,
      "outputs": [
        {
          "output_type": "stream",
          "text": [
            "Train on 11610 samples, validate on 3870 samples\n",
            "Epoch 1/100\n",
            "11610/11610 [==============================] - 1s 48us/sample - loss: 1.9664 - val_loss: 4.1509\n",
            "Epoch 2/100\n",
            "11610/11610 [==============================] - 0s 39us/sample - loss: nan - val_loss: nan\n",
            "Epoch 3/100\n",
            "11610/11610 [==============================] - 0s 40us/sample - loss: nan - val_loss: nan\n",
            "Epoch 4/100\n",
            "11610/11610 [==============================] - 0s 39us/sample - loss: nan - val_loss: nan\n",
            "Epoch 5/100\n",
            "11610/11610 [==============================] - 0s 41us/sample - loss: nan - val_loss: nan\n",
            "Epoch 6/100\n",
            "11610/11610 [==============================] - 0s 41us/sample - loss: nan - val_loss: nan\n"
          ],
          "name": "stdout"
        }
      ]
    },
    {
      "cell_type": "code",
      "metadata": {
        "id": "vzjcgPVsd3ll",
        "colab_type": "code",
        "outputId": "f89a0cec-d5a6-4ab4-af39-839e541ce753",
        "colab": {
          "base_uri": "https://localhost:8080/",
          "height": 324
        }
      },
      "source": [
        "def plot_learning_curves(history):\n",
        "    pd.DataFrame(history.history).plot(figsize=(8, 5))\n",
        "    plt.grid(True)\n",
        "    plt.gca().set_ylim(0, 1)\n",
        "    plt.show()\n",
        "plot_learning_curves(history)"
      ],
      "execution_count": 9,
      "outputs": [
        {
          "output_type": "display_data",
          "data": {
            "image/png": "[encoded data removed]",
            "text/plain": [
              "<Figure size 576x360 with 1 Axes>"
            ]
          },
          "metadata": {
            "tags": []
          }
        }
      ]
    },
    {
      "cell_type": "code",
      "metadata": {
        "id": "K25jm06nd3lo",
        "colab_type": "code",
        "outputId": "f40c1233-4b76-4230-e7cd-24fd17602aaa",
        "colab": {
          "base_uri": "https://localhost:8080/",
          "height": 53
        }
      },
      "source": [
        "model.evaluate(x_test_scaled, y_test)"
      ],
      "execution_count": 10,
      "outputs": [
        {
          "output_type": "stream",
          "text": [
            "5160/5160 [==============================] - 0s 22us/sample - loss: 38157038620133154816.0000\n"
          ],
          "name": "stdout"
        },
        {
          "output_type": "execute_result",
          "data": {
            "text/plain": [
              "3.815703862013315e+19"
            ]
          },
          "metadata": {
            "tags": []
          },
          "execution_count": 10
        }
      ]
    },
    {
      "cell_type": "code",
      "metadata": {
        "id": "qX8Z4xppd3lt",
        "colab_type": "code",
        "colab": {}
      },
      "source": [
        ""
      ],
      "execution_count": 0,
      "outputs": []
    }
  ]
}