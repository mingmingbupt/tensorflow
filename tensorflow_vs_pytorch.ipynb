{
  "nbformat": 4,
  "nbformat_minor": 0,
  "metadata": {
    "colab": {
      "name": "tensorflow_vs_pytorch.ipynb",
      "provenance": [],
      "authorship_tag": "ABX9TyNIr6/UthlAR6boE65/insH",
      "include_colab_link": true
    },
    "kernelspec": {
      "name": "python3",
      "display_name": "Python 3"
    }
  },
  "cells": [
    {
      "cell_type": "markdown",
      "metadata": {
        "id": "view-in-github",
        "colab_type": "text"
      },
      "source": [
        "<a href=\"https://colab.research.google.com/github/mingmingbupt/tensorflow/blob/master/tensorflow_vs_pytorch.ipynb\" target=\"_parent\"><img src=\"https://colab.research.google.com/assets/colab-badge.svg\" alt=\"Open In Colab\"/></a>"
      ]
    },
    {
      "cell_type": "code",
      "metadata": {
        "id": "JGwllUG4M3Kw",
        "colab_type": "code",
        "outputId": "af3bfb8e-30f2-4adb-eb14-63293d3224cd",
        "colab": {
          "base_uri": "https://localhost:8080/",
          "height": 119
        }
      },
      "source": [
        "#1 + 1/2 + 1/2^2 + 1/2^3 + 1/2^50\n",
        "import tensorflow as tf\n",
        "print(tf.__version__)\n",
        "#构建计算图\n",
        "x = tf.Variable(0.)\n",
        "y = tf.Variable(1.)\n",
        "print(x)\n",
        "print(y)"
      ],
      "execution_count": 0,
      "outputs": [
        {
          "output_type": "display_data",
          "data": {
            "text/html": [
              "<p style=\"color: red;\">\n",
              "The default version of TensorFlow in Colab will soon switch to TensorFlow 2.x.<br>\n",
              "We recommend you <a href=\"https://www.tensorflow.org/guide/migrate\" target=\"_blank\">upgrade</a> now \n",
              "or ensure your notebook will continue to use TensorFlow 1.x via the <code>%tensorflow_version 1.x</code> magic:\n",
              "<a href=\"https://colab.research.google.com/notebooks/tensorflow_version.ipynb\" target=\"_blank\">more info</a>.</p>\n"
            ],
            "text/plain": [
              "<IPython.core.display.HTML object>"
            ]
          },
          "metadata": {
            "tags": []
          }
        },
        {
          "output_type": "stream",
          "text": [
            "1.15.0\n",
            "<tf.Variable 'Variable:0' shape=() dtype=float32_ref>\n",
            "<tf.Variable 'Variable_1:0' shape=() dtype=float32_ref>\n"
          ],
          "name": "stdout"
        }
      ]
    },
    {
      "cell_type": "code",
      "metadata": {
        "id": "J_LderJENqiC",
        "colab_type": "code",
        "colab": {}
      },
      "source": [
        "\n",
        "# x = x + y\n",
        "add_op = x.assign(x + y)\n",
        "# y = y / 2\n",
        "div_op = y.assign(y / 2)\n"
      ],
      "execution_count": 0,
      "outputs": []
    },
    {
      "cell_type": "code",
      "metadata": {
        "id": "yjwrStUeN5DS",
        "colab_type": "code",
        "outputId": "e8e8f551-35ed-4640-9f26-eb48d70a6efd",
        "colab": {
          "base_uri": "https://localhost:8080/",
          "height": 35
        }
      },
      "source": [
        "#打开一个会话，用会话去执行图中的一些算子，最后需要使用x.eval函数或者sess.eval(x)这个函数去把值从变量中获取出来\n",
        "with tf.Session() as sess:\n",
        "  sess.run(tf.global_variables_initializer())\n",
        "  for iteration in range(50) :\n",
        "    sess.run(add_op)\n",
        "    sess.run(div_op)\n",
        "  print(x.eval())"
      ],
      "execution_count": 0,
      "outputs": [
        {
          "output_type": "stream",
          "text": [
            "2.0\n"
          ],
          "name": "stdout"
        }
      ]
    },
    {
      "cell_type": "code",
      "metadata": {
        "id": "-tLfRtD5O-gu",
        "colab_type": "code",
        "outputId": "d6fcb6de-bd44-4af9-84b5-6f040215d41b",
        "colab": {
          "base_uri": "https://localhost:8080/",
          "height": 53
        }
      },
      "source": [
        "#用pytorch\n",
        "import torch\n",
        "print(torch.__version__)\n",
        "x = torch.Tensor([0.])\n",
        "y = torch.Tensor([1.])\n",
        "for iteration in range(50) :\n",
        "  x = x + y\n",
        "  y = y / 2\n",
        "print(x)"
      ],
      "execution_count": 0,
      "outputs": [
        {
          "output_type": "stream",
          "text": [
            "1.4.0\n",
            "tensor([2.])\n"
          ],
          "name": "stdout"
        }
      ]
    },
    {
      "cell_type": "code",
      "metadata": {
        "id": "uH5VFRftQwL9",
        "colab_type": "code",
        "colab": {}
      },
      "source": [
        ""
      ],
      "execution_count": 0,
      "outputs": []
    }
  ]
}